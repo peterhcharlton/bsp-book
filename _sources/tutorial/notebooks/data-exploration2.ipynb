{
 "cells": [
  {
   "cell_type": "markdown",
   "id": "5d037743",
   "metadata": {
    "id": "5d037743"
   },
   "source": [
    "# Exploring PTT-PPG"
   ]
  },
  {
   "cell_type": "markdown",
   "id": "fbae8e9b",
   "metadata": {
    "id": "fbae8e9b"
   },
   "source": [
    "Let's begin by exploring data in the Pulse Transit Time PPG dataset.\n",
    "\n",
    "Our **objectives** are to:\n",
    "- Understand what records are present in the dataset.\n",
    "- Find out which signals are present in a record, and how long the signals last.\n",
    "- Load waveforms using the WFDB toolbox.\n",
    "- Plot the waveforms"
   ]
  },
  {
   "cell_type": "markdown",
   "id": "0b240726",
   "metadata": {
    "id": "0b240726"
   },
   "source": [
    "<div class=\"alert alert-block alert-warning\">\n",
    "<p><b>Resource:</b> You can find out more about the Pulse Transit Time PPG dataset <a href=\"https://physionet.org/content/pulse-transit-time-ppg/1.1.0/\">here</a>.</p>\n",
    "</div>"
   ]
  },
  {
   "cell_type": "markdown",
   "id": "28b8e213",
   "metadata": {
    "id": "28b8e213"
   },
   "source": [
    "---\n",
    "## Setup"
   ]
  },
  {
   "cell_type": "markdown",
   "id": "5dac032e",
   "metadata": {
    "id": "5dac032e"
   },
   "source": [
    "### Specify the required Python packages\n",
    "We'll import the following:\n",
    "- _sys_: an essential python package\n",
    "- _pathlib_ (well a particular function from _pathlib_, called _Path_)"
   ]
  },
  {
   "cell_type": "code",
   "execution_count": 151,
   "id": "ce3cdfde",
   "metadata": {
    "id": "ce3cdfde"
   },
   "outputs": [],
   "source": [
    "import sys\n",
    "from pathlib import Path"
   ]
  },
  {
   "cell_type": "markdown",
   "id": "9976c5e4",
   "metadata": {
    "id": "9976c5e4"
   },
   "source": [
    "### Specify a particular version of the WFDB Toolbox"
   ]
  },
  {
   "cell_type": "markdown",
   "id": "6533154b",
   "metadata": {
    "id": "6533154b"
   },
   "source": [
    "- _wfdb_: For this workshop we will be using version 4 of the WaveForm DataBase (WFDB) Toolbox package. The package contains tools for processing waveform data such as those found in this dataset:"
   ]
  },
  {
   "cell_type": "code",
   "execution_count": 153,
   "id": "5fdfa989",
   "metadata": {
    "id": "5fdfa989"
   },
   "outputs": [
    {
     "name": "stdout",
     "output_type": "stream",
     "text": [
      "Collecting wfdb==4.1.0\n",
      "  Downloading wfdb-4.1.0-py3-none-any.whl (159 kB)\n",
      "\u001b[K     |████████████████████████████████| 159 kB 4.0 MB/s eta 0:00:01\n",
      "\u001b[?25hRequirement already satisfied: pandas<2.0.0,>=1.0.0 in /Users/petercharlton/anaconda3/lib/python3.8/site-packages (from wfdb==4.1.0) (1.2.4)\n",
      "Requirement already satisfied: matplotlib<4.0.0,>=3.2.2 in /Users/petercharlton/anaconda3/lib/python3.8/site-packages (from wfdb==4.1.0) (3.3.4)\n",
      "Requirement already satisfied: requests<3.0.0,>=2.8.1 in /Users/petercharlton/anaconda3/lib/python3.8/site-packages (from wfdb==4.1.0) (2.25.1)\n",
      "Requirement already satisfied: scipy<2.0.0,>=1.0.0 in /Users/petercharlton/anaconda3/lib/python3.8/site-packages (from wfdb==4.1.0) (1.6.2)\n",
      "Requirement already satisfied: SoundFile<0.12.0,>=0.10.0 in /Users/petercharlton/anaconda3/lib/python3.8/site-packages (from wfdb==4.1.0) (0.10.3.post1)\n",
      "Requirement already satisfied: numpy<2.0.0,>=1.10.1 in /Users/petercharlton/anaconda3/lib/python3.8/site-packages (from wfdb==4.1.0) (1.20.1)\n",
      "Requirement already satisfied: cycler>=0.10 in /Users/petercharlton/anaconda3/lib/python3.8/site-packages (from matplotlib<4.0.0,>=3.2.2->wfdb==4.1.0) (0.10.0)\n",
      "Requirement already satisfied: python-dateutil>=2.1 in /Users/petercharlton/anaconda3/lib/python3.8/site-packages (from matplotlib<4.0.0,>=3.2.2->wfdb==4.1.0) (2.8.1)\n",
      "Requirement already satisfied: pyparsing!=2.0.4,!=2.1.2,!=2.1.6,>=2.0.3 in /Users/petercharlton/anaconda3/lib/python3.8/site-packages (from matplotlib<4.0.0,>=3.2.2->wfdb==4.1.0) (2.4.7)\n",
      "Requirement already satisfied: kiwisolver>=1.0.1 in /Users/petercharlton/anaconda3/lib/python3.8/site-packages (from matplotlib<4.0.0,>=3.2.2->wfdb==4.1.0) (1.3.1)\n",
      "Requirement already satisfied: pillow>=6.2.0 in /Users/petercharlton/anaconda3/lib/python3.8/site-packages (from matplotlib<4.0.0,>=3.2.2->wfdb==4.1.0) (8.2.0)\n",
      "Requirement already satisfied: six in /Users/petercharlton/anaconda3/lib/python3.8/site-packages (from cycler>=0.10->matplotlib<4.0.0,>=3.2.2->wfdb==4.1.0) (1.15.0)\n",
      "Requirement already satisfied: pytz>=2017.3 in /Users/petercharlton/anaconda3/lib/python3.8/site-packages (from pandas<2.0.0,>=1.0.0->wfdb==4.1.0) (2021.1)\n",
      "Requirement already satisfied: chardet<5,>=3.0.2 in /Users/petercharlton/anaconda3/lib/python3.8/site-packages (from requests<3.0.0,>=2.8.1->wfdb==4.1.0) (4.0.0)\n",
      "Requirement already satisfied: urllib3<1.27,>=1.21.1 in /Users/petercharlton/anaconda3/lib/python3.8/site-packages (from requests<3.0.0,>=2.8.1->wfdb==4.1.0) (1.26.4)\n",
      "Requirement already satisfied: certifi>=2017.4.17 in /Users/petercharlton/anaconda3/lib/python3.8/site-packages (from requests<3.0.0,>=2.8.1->wfdb==4.1.0) (2022.12.7)\n",
      "Requirement already satisfied: idna<3,>=2.5 in /Users/petercharlton/anaconda3/lib/python3.8/site-packages (from requests<3.0.0,>=2.8.1->wfdb==4.1.0) (2.10)\n",
      "Requirement already satisfied: cffi>=1.0 in /Users/petercharlton/anaconda3/lib/python3.8/site-packages (from SoundFile<0.12.0,>=0.10.0->wfdb==4.1.0) (1.14.5)\n",
      "Requirement already satisfied: pycparser in /Users/petercharlton/anaconda3/lib/python3.8/site-packages (from cffi>=1.0->SoundFile<0.12.0,>=0.10.0->wfdb==4.1.0) (2.20)\n",
      "Installing collected packages: wfdb\n",
      "  Attempting uninstall: wfdb\n",
      "    Found existing installation: wfdb 4.0.0\n",
      "    Uninstalling wfdb-4.0.0:\n",
      "      Successfully uninstalled wfdb-4.0.0\n",
      "Successfully installed wfdb-4.1.0\n"
     ]
    }
   ],
   "source": [
    "!pip install wfdb==4.1.0\n",
    "import wfdb"
   ]
  },
  {
   "cell_type": "markdown",
   "id": "e11ce5b6",
   "metadata": {
    "id": "e11ce5b6"
   },
   "source": [
    "<div class=\"alert alert-block alert-warning\">\n",
    "<p><b>Resource:</b> You can find out more about the WFDB package <a href=\"https://physionet.org/content/wfdb-python/4.1.0/\">here</a>.</p>\n",
    "</div>"
   ]
  },
  {
   "cell_type": "markdown",
   "id": "d492e49f",
   "metadata": {
    "id": "d492e49f"
   },
   "source": [
    "Now that we have imported these packages (_i.e._ toolboxes) we have a set of tools (functions) ready to use."
   ]
  },
  {
   "cell_type": "markdown",
   "id": "e7d38297",
   "metadata": {
    "id": "e7d38297"
   },
   "source": [
    "### Specify the name of the Database"
   ]
  },
  {
   "cell_type": "markdown",
   "id": "68491718",
   "metadata": {
    "id": "68491718"
   },
   "source": [
    "- Specify the name of the database on Physionet, which comes from the URL: https://physionet.org/content/pulse-transit-time-ppg/1.1.0/"
   ]
  },
  {
   "cell_type": "code",
   "execution_count": 3,
   "id": "982b8154",
   "metadata": {
    "id": "982b8154"
   },
   "outputs": [],
   "source": [
    "database_name = 'pulse-transit-time-ppg/1.1.0'"
   ]
  },
  {
   "cell_type": "markdown",
   "id": "e49196a6",
   "metadata": {
    "id": "e49196a6"
   },
   "source": [
    "---\n",
    "## Identify the records in the database"
   ]
  },
  {
   "cell_type": "markdown",
   "id": "b476f9b7",
   "metadata": {
    "id": "b476f9b7"
   },
   "source": [
    "### Get a list of records\n",
    "\n",
    "- Use the [`get_record_list`](https://wfdb.readthedocs.io/en/latest/io.html#wfdb.io.get_record_list) function from the WFDB toolbox to get a list of records in the database."
   ]
  },
  {
   "cell_type": "code",
   "execution_count": 154,
   "id": "d91aa6a7",
   "metadata": {
    "colab": {
     "base_uri": "https://localhost:8080/"
    },
    "id": "d91aa6a7",
    "outputId": "db8e3169-76ac-4bdd-bbaa-91cf626c1a6b"
   },
   "outputs": [
    {
     "name": "stdout",
     "output_type": "stream",
     "text": [
      "The 'pulse-transit-time-ppg/1.1.0' database contains 66 records\n"
     ]
    }
   ],
   "source": [
    "record_list = wfdb.get_record_list(database_name)\n",
    "print(f\"The '{database_name}' database contains {len(subjects)} records\")"
   ]
  },
  {
   "cell_type": "code",
   "execution_count": 158,
   "id": "4656aef9",
   "metadata": {},
   "outputs": [
    {
     "data": {
      "text/plain": [
       "['s1_walk', 's1_run', 's1_sit', 's2_walk', 's2_run', 's2_sit', 's3_sit', 's3_walk', 's3_run', 's4_sit', 's4_run', 's4_walk', 's5_walk', 's5_run', 's5_sit', 's6_run', 's6_sit', 's6_walk', 's7_walk', 's7_run', 's7_sit', 's8_sit', 's8_run', 's8_walk', 's9_walk', 's9_sit', 's9_run', 's10_run', 's10_walk', 's10_sit', 's11_sit', 's11_walk', 's11_run', 's12_walk', 's12_run', 's12_sit', 's13_walk', 's13_sit', 's13_run', 's14_run', 's14_walk', 's14_sit', 's15_walk', 's15_sit', 's15_run', 's16_sit', 's16_run', 's16_walk', 's17_run', 's17_walk', 's17_sit', 's18_run', 's18_walk', 's18_sit', 's19_walk', 's19_sit', 's19_run', 's20_run', 's20_walk', 's20_sit', 's21_walk', 's21_sit', 's21_run', 's22_walk', 's22_run', 's22_sit']"
      ]
     },
     "execution_count": 158,
     "metadata": {},
     "output_type": "execute_result"
    }
   ],
   "source": [
    "record_list"
   ]
  },
  {
   "cell_type": "markdown",
   "id": "fc82d67e",
   "metadata": {
    "id": "fc82d67e"
   },
   "source": [
    "### Look at the records"
   ]
  },
  {
   "cell_type": "markdown",
   "id": "29552f5a",
   "metadata": {
    "id": "29552f5a"
   },
   "source": [
    "- Display the first few records"
   ]
  },
  {
   "cell_type": "code",
   "execution_count": 160,
   "id": "bb5745a7",
   "metadata": {
    "colab": {
     "base_uri": "https://localhost:8080/"
    },
    "id": "bb5745a7",
    "outputId": "8fe32e59-c542-4a40-bd06-0c04fdcfbbfe"
   },
   "outputs": [
    {
     "name": "stdout",
     "output_type": "stream",
     "text": [
      "First records: \n",
      " - s1_walk\n",
      " - s1_run\n",
      " - s1_sit\n",
      " - s2_walk\n",
      " - s2_run\n",
      " - s2_sit\n",
      "\n",
      "Note the formatting of the record names:\n",
      " - subject (e.g. 's1')\n",
      " - activity (e.g. 'run')\n",
      " \n"
     ]
    }
   ],
   "source": [
    "# format and print first six records\n",
    "no_records = 6\n",
    "first_records = [str(x) for x in record_list[0:no_records]]\n",
    "first_records = \"\\n - \".join(first_records)\n",
    "print(f\"First records: \\n - {first_records}\")\n",
    "\n",
    "print(\"\"\"\n",
    "Note the formatting of the record names:\n",
    " - subject (e.g. 's1')\n",
    " - activity (e.g. 'run')\n",
    " \"\"\")"
   ]
  },
  {
   "cell_type": "markdown",
   "id": "b56c29d5",
   "metadata": {
    "id": "b56c29d5"
   },
   "source": [
    "<div class=\"alert alert-block alert-info\">\n",
    "<p><b>Q:</b> Can you print the names of the last five records? <br> <b>Hint:</b> in Python, the last five elements can be specified using '[-5:]'</p>\n",
    "</div>"
   ]
  },
  {
   "cell_type": "markdown",
   "id": "cb21a93b",
   "metadata": {
    "id": "cb21a93b"
   },
   "source": [
    "---\n",
    "## Extract metadata for a record"
   ]
  },
  {
   "cell_type": "markdown",
   "id": "c39dc9f3",
   "metadata": {
    "id": "c39dc9f3"
   },
   "source": [
    "Each record contains metadata stored in a header file, named \"`<record name>.hea`\""
   ]
  },
  {
   "cell_type": "markdown",
   "id": "742071da",
   "metadata": {
    "id": "742071da"
   },
   "source": [
    "### Load the metadata for a record\n",
    "- Use the [`rdheader`](https://wfdb.readthedocs.io/en/latest/io.html#wfdb.io.rdheader) function from the WFDB toolbox to load metadata from the record header file"
   ]
  },
  {
   "cell_type": "code",
   "execution_count": 168,
   "id": "c5a0afc5",
   "metadata": {
    "colab": {
     "base_uri": "https://localhost:8080/"
    },
    "id": "c5a0afc5",
    "outputId": "13b3dfa2-d489-4a77-c07d-a5116d67b4ec"
   },
   "outputs": [
    {
     "name": "stdout",
     "output_type": "stream",
     "text": [
      "Done: metadata loaded for record 's2_walk' from the header file at:\n",
      "https://physionet.org/content/pulse-transit-time-ppg/1.1.0/s2_walk.hea\n"
     ]
    }
   ],
   "source": [
    "idx = 3\n",
    "record = record_list[idx]\n",
    "record_data = wfdb.rdheader(record, pn_dir=database_name)\n",
    "remote_url = \"https://physionet.org/content/\" + record_dir + \"/\" + record + \".hea\"\n",
    "print(f\"Done: metadata loaded for record '{record}' from the header file at:\\n{remote_url}\")"
   ]
  },
  {
   "cell_type": "markdown",
   "id": "f7a4d25d",
   "metadata": {
    "id": "f7a4d25d"
   },
   "source": [
    "---\n",
    "## Inspect details of physiological signals recorded in this record\n",
    "- Printing a few details of the signals from the extracted metadata"
   ]
  },
  {
   "cell_type": "code",
   "execution_count": 169,
   "id": "58630149",
   "metadata": {
    "colab": {
     "base_uri": "https://localhost:8080/"
    },
    "id": "58630149",
    "outputId": "e19d66b1-690c-4cc5-c754-c4b5d1b16d38"
   },
   "outputs": [
    {
     "name": "stdout",
     "output_type": "stream",
     "text": [
      "- Number of signals: 18\n",
      "- Duration: 8.2 minutes\n",
      "- Base sampling frequency: 500 Hz\n",
      "\n",
      "This record contains the following signals: ['ecg', 'pleth_1', 'pleth_2', 'pleth_3', 'pleth_4', 'pleth_5', 'pleth_6', 'lc_1', 'lc_2', 'temp_1', 'temp_2', 'temp_3', 'a_x', 'a_y', 'a_z', 'g_x', 'g_y', 'g_z']\n",
      "\n",
      "The signals are measured in units of: ['mV', 'NU', 'NU', 'NU', 'NU', 'NU', 'NU', 'NU', 'NU', 'C', 'C', 'C', 'g', 'g', 'g', 'deg/s', 'deg/s', 'deg/s']\n"
     ]
    }
   ],
   "source": [
    "print(f\"- Number of signals: {record_data.n_sig}\".format())\n",
    "print(f\"- Duration: {record_data.sig_len/(record_data.fs*60):.1f} minutes\") \n",
    "print(f\"- Base sampling frequency: {record_data.fs} Hz\")\n",
    "print(f\"\\nThis record contains the following signals: {record_data.sig_name}\")\n",
    "print(f\"\\nThe signals are measured in units of: {record_data.units}\")"
   ]
  },
  {
   "cell_type": "markdown",
   "id": "f09b3f37",
   "metadata": {
    "id": "f09b3f37"
   },
   "source": [
    "See [here](https://physionet.org/content/pulse-transit-time-ppg/1.1.0/#description) for definitions of signal abbreviations."
   ]
  },
  {
   "cell_type": "markdown",
   "id": "9f921f27",
   "metadata": {
    "id": "9f921f27"
   },
   "source": [
    "### Find out how long each signal lasts"
   ]
  },
  {
   "cell_type": "markdown",
   "id": "d217b764",
   "metadata": {
    "id": "d217b764"
   },
   "source": [
    "All signals in a segment are time-aligned, measured at the same sampling frequency, and last the same duration:"
   ]
  },
  {
   "cell_type": "code",
   "execution_count": 170,
   "id": "c44f00a7",
   "metadata": {
    "colab": {
     "base_uri": "https://localhost:8080/"
    },
    "id": "c44f00a7",
    "outputId": "1cfa789e-b66b-4c8e-805b-4197c663ba18"
   },
   "outputs": [
    {
     "name": "stdout",
     "output_type": "stream",
     "text": [
      "The signals have a base sampling frequency of 500.0 Hz\n",
      "and they last for 8.2 minutes\n"
     ]
    }
   ],
   "source": [
    "print(f\"The signals have a base sampling frequency of {record_data.fs:.1f} Hz\")\n",
    "print(f\"and they last for {record_data.sig_len/(record_data.fs*60):.1f} minutes\")"
   ]
  },
  {
   "cell_type": "markdown",
   "id": "d2a80895",
   "metadata": {
    "id": "d2a80895"
   },
   "source": [
    "## Identify records suitable for analysis"
   ]
  },
  {
   "cell_type": "markdown",
   "id": "7f2b5955",
   "metadata": {
    "id": "7f2b5955"
   },
   "source": [
    "### Specify requirements"
   ]
  },
  {
   "cell_type": "markdown",
   "id": "83f8611c",
   "metadata": {
    "id": "83f8611c"
   },
   "source": [
    "- Required signals"
   ]
  },
  {
   "cell_type": "code",
   "execution_count": 12,
   "id": "3d1505ab",
   "metadata": {
    "id": "3d1505ab"
   },
   "outputs": [],
   "source": [
    "required_sigs = ['ecg', 'pleth_1']"
   ]
  },
  {
   "cell_type": "markdown",
   "id": "03920810",
   "metadata": {
    "id": "03920810"
   },
   "source": [
    "- Required duration"
   ]
  },
  {
   "cell_type": "code",
   "execution_count": 13,
   "id": "568a93c1",
   "metadata": {
    "id": "568a93c1"
   },
   "outputs": [],
   "source": [
    "# convert from minutes to seconds\n",
    "req_seg_duration = 1*60 "
   ]
  },
  {
   "cell_type": "markdown",
   "id": "f1036887",
   "metadata": {},
   "source": [
    "- Required activity"
   ]
  },
  {
   "cell_type": "code",
   "execution_count": 171,
   "id": "14c307ab",
   "metadata": {},
   "outputs": [],
   "source": [
    "req_activity = \"sit\""
   ]
  },
  {
   "cell_type": "markdown",
   "id": "d49187cd",
   "metadata": {
    "id": "d49187cd"
   },
   "source": [
    "### Find out how many records meet the requirements"
   ]
  },
  {
   "cell_type": "code",
   "execution_count": 173,
   "id": "015b47d3",
   "metadata": {
    "id": "015b47d3"
   },
   "outputs": [
    {
     "name": "stdout",
     "output_type": "stream",
     "text": [
      "Record: s1_walk   (not required activity)\n",
      "Record: s1_run   (not required activity)\n",
      "Record: s1_sit   (met requirements)\n",
      "Record: s2_walk   (not required activity)\n",
      "Record: s2_run   (not required activity)\n",
      "Record: s2_sit   (met requirements)\n",
      "Record: s3_sit   (met requirements)\n",
      "Record: s3_walk   (not required activity)\n",
      "Record: s3_run   (not required activity)\n",
      "Record: s4_sit   (met requirements)\n",
      "Record: s4_run   (not required activity)\n",
      "Record: s4_walk   (not required activity)\n",
      "Record: s5_walk   (not required activity)\n",
      "Record: s5_run   (not required activity)\n",
      "Record: s5_sit   (met requirements)\n",
      "Record: s6_run   (not required activity)\n",
      "Record: s6_sit   (met requirements)\n",
      "Record: s6_walk   (not required activity)\n",
      "Record: s7_walk   (not required activity)\n",
      "Record: s7_run   (not required activity)\n",
      "Record: s7_sit   (met requirements)\n",
      "Record: s8_sit   (met requirements)\n",
      "Record: s8_run   (not required activity)\n",
      "Record: s8_walk   (not required activity)\n",
      "Record: s9_walk   (not required activity)\n",
      "Record: s9_sit   (met requirements)\n",
      "Record: s9_run   (not required activity)\n",
      "Record: s10_run   (not required activity)\n",
      "Record: s10_walk   (not required activity)\n",
      "Record: s10_sit   (met requirements)\n",
      "Record: s11_sit   (met requirements)\n",
      "Record: s11_walk   (not required activity)\n",
      "Record: s11_run   (not required activity)\n",
      "Record: s12_walk   (not required activity)\n",
      "Record: s12_run   (not required activity)\n",
      "Record: s12_sit   (met requirements)\n",
      "Record: s13_walk   (not required activity)\n",
      "Record: s13_sit   (met requirements)\n",
      "Record: s13_run   (not required activity)\n",
      "Record: s14_run   (not required activity)\n",
      "Record: s14_walk   (not required activity)\n",
      "Record: s14_sit   (met requirements)\n",
      "Record: s15_walk   (not required activity)\n",
      "Record: s15_sit   (met requirements)\n",
      "Record: s15_run   (not required activity)\n",
      "Record: s16_sit   (met requirements)\n",
      "Record: s16_run   (not required activity)\n",
      "Record: s16_walk   (not required activity)\n",
      "Record: s17_run   (not required activity)\n",
      "Record: s17_walk   (not required activity)\n",
      "Record: s17_sit   (met requirements)\n",
      "Record: s18_run   (not required activity)\n",
      "Record: s18_walk   (not required activity)\n",
      "Record: s18_sit   (met requirements)\n",
      "Record: s19_walk   (not required activity)\n",
      "Record: s19_sit   (met requirements)\n",
      "Record: s19_run   (not required activity)\n",
      "Record: s20_run   (not required activity)\n",
      "Record: s20_walk   (not required activity)\n",
      "Record: s20_sit   (met requirements)\n",
      "Record: s21_walk   (not required activity)\n",
      "Record: s21_sit   (met requirements)\n",
      "Record: s21_run   (not required activity)\n",
      "Record: s22_walk   (not required activity)\n",
      "Record: s22_run   (not required activity)\n",
      "Record: s22_sit   (met requirements)\n",
      "A total of 22 out of 66 records met the requirements.\n"
     ]
    }
   ],
   "source": [
    "matching_recs = {'dir':[], 'name':[], 'length':[], 'start_sbp':[], 'end_sbp':[], 'delta_sbp':[]}\n",
    "\n",
    "for record in records:\n",
    "    print('Record: {}'.format(record), end=\"\", flush=True)\n",
    "    record_dir = f'{database_name}/{record.parent}'\n",
    "    record_name = record.name\n",
    "    \n",
    "    # check whether this record corresponds to a suitable activity\n",
    "    if not req_activity in record_name:\n",
    "        print('   (not required activity)')\n",
    "        continue\n",
    "\n",
    "    record_data = wfdb.rdheader(record_name,\n",
    "                                pn_dir=record_dir,\n",
    "                                rd_segments=True)\n",
    "\n",
    "    # Check whether the required signals are present in the record\n",
    "    sigs_present = record_data.sig_name\n",
    "    if not all(x in sigs_present for x in required_sigs):\n",
    "        print('   (missing signals)')\n",
    "        continue\n",
    "\n",
    "    seg_length = record_data.sig_len/(record_data.fs)\n",
    "\n",
    "    if seg_length < req_seg_duration:\n",
    "        print(f' (too short at {seg_length/60:.1f} mins)')\n",
    "        continue\n",
    "    \n",
    "    # This record does meet the requirements, so extract information and data from it\n",
    "    \n",
    "    # Information\n",
    "    matching_recs['dir'].append(record_dir)\n",
    "    matching_recs['name'].append(record_data.record_name)\n",
    "    matching_recs['length'].append(seg_length)\n",
    "    \n",
    "    # Blood pressure measurements\n",
    "    str_to_find = '<bp_sys_start>: '\n",
    "    curr_len = len(str_to_find)\n",
    "    start_el = record_data.comments[0].index(str_to_find) + curr_len\n",
    "    str_to_find = '<bp_sys_end>'\n",
    "    len(str_to_find)\n",
    "    end_el = record_data.comments[0].index(str_to_find) - 1\n",
    "    matching_recs['start_sbp'].append(int(record_data.comments[0][start_el:end_el]))\n",
    "    str_to_find = '<bp_sys_end>: '\n",
    "    curr_len = len(str_to_find)\n",
    "    start_el = record_data.comments[0].index(str_to_find) + curr_len\n",
    "    str_to_find = '<bp_dia_start>'\n",
    "    len(str_to_find)\n",
    "    end_el = record_data.comments[0].index(str_to_find) - 1\n",
    "    matching_recs['end_sbp'].append(int(record_data.comments[0][start_el:end_el]))\n",
    "    matching_recs['delta_sbp'].append(matching_recs['end_sbp'][-1]-matching_recs['start_sbp'][-1])\n",
    "\n",
    "    print('   (met requirements)')\n",
    "\n",
    "print(f\"A total of {len(matching_recs['dir'])} out of {len(records)} records met the requirements.\")"
   ]
  },
  {
   "cell_type": "markdown",
   "id": "719f20f8",
   "metadata": {
    "id": "719f20f8"
   },
   "source": [
    "<div class=\"alert alert-block alert-info\">\n",
    "<p><b>Question:</b> Is this enough data for a study? Consider different types of studies, e.g. assessing the performance of a previously proposed algorithm to estimate BP from the PPG signal, vs. developing a deep learning approach to estimate BP from the PPG.</p>\n",
    "</div>"
   ]
  },
  {
   "cell_type": "markdown",
   "id": "24327602",
   "metadata": {},
   "source": [
    "## Exploring the data"
   ]
  },
  {
   "cell_type": "markdown",
   "id": "7c5b06e8",
   "metadata": {},
   "source": [
    "- Import the _matplotlib_ package for plotting"
   ]
  },
  {
   "cell_type": "code",
   "execution_count": 190,
   "id": "86de4191",
   "metadata": {},
   "outputs": [],
   "source": [
    "from matplotlib import pyplot as plt\n",
    "import numpy as np"
   ]
  },
  {
   "cell_type": "markdown",
   "id": "d67179ce",
   "metadata": {},
   "source": [
    "### Blood pressure measurements"
   ]
  },
  {
   "cell_type": "markdown",
   "id": "08196d60",
   "metadata": {},
   "source": [
    "- Display blood pressure measurements"
   ]
  },
  {
   "cell_type": "code",
   "execution_count": 186,
   "id": "e17ab6f9",
   "metadata": {},
   "outputs": [
    {
     "data": {
      "text/plain": [
       "Text(0, 0.5, 'Frequency')"
      ]
     },
     "execution_count": 186,
     "metadata": {},
     "output_type": "execute_result"
    },
    {
     "data": {
      "image/png": "[encoded data removed]",
      "text/plain": [
       "<Figure size 432x288 with 1 Axes>"
      ]
     },
     "metadata": {
      "needs_background": "light"
     },
     "output_type": "display_data"
    }
   ],
   "source": [
    "bp = np.concatenate((matching_recs['start_sbp'], matching_recs['end_sbp']))\n",
    "plt.hist(bp)\n",
    "plt.xlabel('Systolic blood pressure (mmHg)')\n",
    "plt.ylabel('Frequency')"
   ]
  },
  {
   "cell_type": "code",
   "execution_count": 188,
   "id": "1644087e",
   "metadata": {},
   "outputs": [
    {
     "data": {
      "text/plain": [
       "Text(0, 0.5, 'Frequency')"
      ]
     },
     "execution_count": 188,
     "metadata": {},
     "output_type": "execute_result"
    },
    {
     "data": {
      "image/png": "[encoded data removed]",
      "text/plain": [
       "<Figure size 432x288 with 1 Axes>"
      ]
     },
     "metadata": {
      "needs_background": "light"
     },
     "output_type": "display_data"
    }
   ],
   "source": [
    "bp = matching_recs['delta_sbp']\n",
    "plt.hist(bp)\n",
    "plt.xlabel('$\\Delta$ Systolic blood pressure (mmHg)')\n",
    "plt.ylabel('Frequency')"
   ]
  },
  {
   "cell_type": "markdown",
   "id": "de248318",
   "metadata": {},
   "source": [
    "- Display changes in blood pressure measurements between start and end of activity"
   ]
  },
  {
   "cell_type": "markdown",
   "id": "a7fe94e3",
   "metadata": {},
   "source": [
    "### Inspect signals"
   ]
  },
  {
   "cell_type": "code",
   "execution_count": 192,
   "id": "6fccda20",
   "metadata": {
    "id": "6fccda20"
   },
   "outputs": [
    {
     "name": "stdout",
     "output_type": "stream",
     "text": [
      "3 seconds of data extracted from segment: s1_sit\n"
     ]
    }
   ],
   "source": [
    "start_seconds = 0\n",
    "n_seconds_to_load = 3\n",
    "rec_no = 0\n",
    "record_name = matching_recs['name'][0]\n",
    "record_dir = matching_recs['dir'][0]\n",
    "record_data = wfdb.rdheader(record_name,\n",
    "                            pn_dir=record_dir,\n",
    "                            rd_segments=True)\n",
    "fs = record_data.fs\n",
    "sampfrom = fs * start_seconds\n",
    "sampto = fs * (start_seconds + n_seconds_to_load)\n",
    "\n",
    "segment_data = wfdb.rdrecord(record_name=record_name,\n",
    "                             channel_names = ['ecg','pleth_2'],\n",
    "                             sampfrom=sampfrom,\n",
    "                             sampto=sampto,\n",
    "                             pn_dir=record_dir)\n",
    "\n",
    "print(f\"{n_seconds_to_load} seconds of data extracted from segment: {record_name}\")"
   ]
  },
  {
   "cell_type": "code",
   "execution_count": 193,
   "id": "8ff4b753",
   "metadata": {},
   "outputs": [
    {
     "data": {
      "image/png": "[encoded data removed]",
      "text/plain": [
       "<Figure size 432x288 with 2 Axes>"
      ]
     },
     "metadata": {
      "needs_background": "light"
     },
     "output_type": "display_data"
    }
   ],
   "source": [
    "sig_no = segment_data.sig_name.index('pleth_2')\n",
    "ppg = -1*segment_data.p_signal[:,sig_no]\n",
    "fs = segment_data.fs\n",
    "t = np.arange(0, (len(ppg) / fs), 1.0 / fs)\n",
    "\n",
    "sig_no = segment_data.sig_name.index('ecg')\n",
    "ecg = segment_data.p_signal[:,sig_no]\n",
    "\n",
    "fig, axs = plt.subplots(2, 1)\n",
    "axs[0].plot(t, ppg)\n",
    "axs[0].set_xlim(0, n_seconds_to_load)\n",
    "axs[0].set_xlabel('Time (s)')\n",
    "axs[0].set_ylabel('PPG')\n",
    "axs[0].grid(True)\n",
    "\n",
    "axs[1].plot(t, ecg)\n",
    "axs[1].set_xlim(0, n_seconds_to_load)\n",
    "axs[1].set_xlabel('Time (s)')\n",
    "axs[1].set_ylabel('ECG')\n",
    "axs[1].grid(True)\n"
   ]
  },
  {
   "cell_type": "code",
   "execution_count": null,
   "id": "0fed677c",
   "metadata": {},
   "outputs": [],
   "source": []
  }
 ],
 "metadata": {
  "colab": {
   "name": "data-exploration.ipynb",
   "provenance": []
  },
  "kernelspec": {
   "display_name": "Python 3",
   "language": "python",
   "name": "python3"
  },
  "language_info": {
   "codemirror_mode": {
    "name": "ipython",
    "version": 3
   },
   "file_extension": ".py",
   "mimetype": "text/x-python",
   "name": "python",
   "nbconvert_exporter": "python",
   "pygments_lexer": "ipython3",
   "version": "3.8.8"
  },
  "toc": {
   "base_numbering": 1,
   "nav_menu": {},
   "number_sections": true,
   "sideBar": true,
   "skip_h1_title": true,
   "title_cell": "Table of Contents",
   "title_sidebar": "Contents",
   "toc_cell": false,
   "toc_position": {
    "height": "calc(100% - 180px)",
    "left": "10px",
    "top": "150px",
    "width": "306px"
   },
   "toc_section_display": true,
   "toc_window_display": false
  }
 },
 "nbformat": 4,
 "nbformat_minor": 5
}
