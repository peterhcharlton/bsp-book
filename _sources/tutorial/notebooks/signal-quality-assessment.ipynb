{
 "cells": [
  {
   "cell_type": "markdown",
   "metadata": {
    "id": "97Ad8yROpHV8"
   },
   "source": [
    "# Signal quality assessment\n",
    "In this tutorial we will assess the quality of MIMIC waveform signals.\n",
    "\n",
    "Our **objectives** are to:\n",
    "- Understand a template-matching approach to assess signal quality of cardiovascular signals.\n",
    "- Apply the template-matching approach to ECG and PPG signals.\n",
    "- Understand how to interpret the results."
   ]
  },
  {
   "cell_type": "markdown",
   "metadata": {
    "id": "efztffyOpHV-"
   },
   "source": [
    "<div class=\"alert alert-block alert-warning\"><p><b>Context:</b> Physiological signals can be subject to noise from multiple sources. Signal quality assessment algorithms assess the quality of signals to determine whether they are of sufficient quality for a particular purpose (such as heart rate estimation). In this tutorial we will use the template-matching signal quality assessment algorithm described in <a href= https://doi.org/10.1109/JBHI.2014.2338351>this publication</a>.</p></div>"
   ]
  },
  {
   "cell_type": "markdown",
   "metadata": {
    "id": "1y92CrBlpHV_"
   },
   "source": [
    "<div class=\"alert alert-block alert-info\"><p><b>Extension:</b> If you want to find out more about photoplethysmography (PPG) signal quality assessment then I'd recommend <a href= https://doi.org/10.3390/app12199582>this publication</a>.</p></div>"
   ]
  },
  {
   "cell_type": "markdown",
   "metadata": {
    "id": "McluxdGrpHV_"
   },
   "source": [
    "## Setup"
   ]
  },
  {
   "cell_type": "markdown",
   "metadata": {},
   "source": [
    "### Import packages"
   ]
  },
  {
   "cell_type": "markdown",
   "metadata": {
    "id": "742rlU3ApHV_"
   },
   "source": [
    "_The following steps have been covered in previous tutorials. We'll just re-use the previous code here._"
   ]
  },
  {
   "cell_type": "code",
   "execution_count": null,
   "metadata": {},
   "outputs": [],
   "source": [
    "# Packages\n",
    "from scipy import signal\n",
    "import numpy as np\n",
    "import matplotlib.pyplot as plt\n",
    "!pip install wfdb==4.0.0\n",
    "import wfdb\n",
    "\n",
    "# import sys\n",
    "# from pathlib import Path"
   ]
  },
  {
   "cell_type": "markdown",
   "metadata": {},
   "source": [
    "### Import ECG beat detectors"
   ]
  },
  {
   "cell_type": "code",
   "execution_count": null,
   "metadata": {},
   "outputs": [],
   "source": [
    "!pip install py-ecg-detectors"
   ]
  },
  {
   "cell_type": "markdown",
   "metadata": {},
   "source": [
    "### Details of MIMIC record to use"
   ]
  },
  {
   "cell_type": "markdown",
   "metadata": {},
   "source": [
    "Specify details of a MIMIC database record to use in this tutorial"
   ]
  },
  {
   "cell_type": "code",
   "execution_count": 102,
   "metadata": {
    "id": "byobDIEIpHV_"
   },
   "outputs": [],
   "source": [
    "# The name of the MIMIC IV Waveform Database on Physionet\n",
    "database_name = 'mimic4wdb/0.1.0'\n",
    "\n",
    "# Segment for analysis\n",
    "segment_names = ['83404654_0005', '82924339_0007', '84248019_0005', '82439920_0004', '82800131_0002', '84304393_0001', '89464742_0001', '88958796_0004', '88995377_0001', '85230771_0004', '86643930_0004', '81250824_0005', '87706224_0003', '83058614_0005', '82803505_0017', '88574629_0001', '87867111_0012', '84560969_0001', '87562386_0001', '88685937_0001', '86120311_0001', '89866183_0014', '89068160_0002', '86380383_0001', '85078610_0008', '87702634_0007', '84686667_0002', '84802706_0002', '81811182_0004', '84421559_0005', '88221516_0007', '80057524_0005', '84209926_0018', '83959636_0010', '89989722_0016', '89225487_0007', '84391267_0001', '80889556_0002', '85250558_0011', '84567505_0005', '85814172_0007', '88884866_0005', '80497954_0012', '80666640_0014', '84939605_0004', '82141753_0018', '86874920_0014', '84505262_0010', '86288257_0001', '89699401_0001', '88537698_0013', '83958172_0001']\n",
    "segment_dirs = ['mimic4wdb/0.1.0/waves/p100/p10020306/83404654', 'mimic4wdb/0.1.0/waves/p101/p10126957/82924339', 'mimic4wdb/0.1.0/waves/p102/p10209410/84248019', 'mimic4wdb/0.1.0/waves/p109/p10952189/82439920', 'mimic4wdb/0.1.0/waves/p111/p11109975/82800131', 'mimic4wdb/0.1.0/waves/p113/p11392990/84304393', 'mimic4wdb/0.1.0/waves/p121/p12168037/89464742', 'mimic4wdb/0.1.0/waves/p121/p12173569/88958796', 'mimic4wdb/0.1.0/waves/p121/p12188288/88995377', 'mimic4wdb/0.1.0/waves/p128/p12872596/85230771', 'mimic4wdb/0.1.0/waves/p129/p12933208/86643930', 'mimic4wdb/0.1.0/waves/p130/p13016481/81250824', 'mimic4wdb/0.1.0/waves/p132/p13240081/87706224', 'mimic4wdb/0.1.0/waves/p136/p13624686/83058614', 'mimic4wdb/0.1.0/waves/p137/p13791821/82803505', 'mimic4wdb/0.1.0/waves/p141/p14191565/88574629', 'mimic4wdb/0.1.0/waves/p142/p14285792/87867111', 'mimic4wdb/0.1.0/waves/p143/p14356077/84560969', 'mimic4wdb/0.1.0/waves/p143/p14363499/87562386', 'mimic4wdb/0.1.0/waves/p146/p14695840/88685937', 'mimic4wdb/0.1.0/waves/p149/p14931547/86120311', 'mimic4wdb/0.1.0/waves/p151/p15174162/89866183', 'mimic4wdb/0.1.0/waves/p153/p15312343/89068160', 'mimic4wdb/0.1.0/waves/p153/p15342703/86380383', 'mimic4wdb/0.1.0/waves/p155/p15552902/85078610', 'mimic4wdb/0.1.0/waves/p156/p15649186/87702634', 'mimic4wdb/0.1.0/waves/p158/p15857793/84686667', 'mimic4wdb/0.1.0/waves/p158/p15865327/84802706', 'mimic4wdb/0.1.0/waves/p158/p15896656/81811182', 'mimic4wdb/0.1.0/waves/p159/p15920699/84421559', 'mimic4wdb/0.1.0/waves/p160/p16034243/88221516', 'mimic4wdb/0.1.0/waves/p165/p16566444/80057524', 'mimic4wdb/0.1.0/waves/p166/p16644640/84209926', 'mimic4wdb/0.1.0/waves/p167/p16709726/83959636', 'mimic4wdb/0.1.0/waves/p167/p16715341/89989722', 'mimic4wdb/0.1.0/waves/p168/p16818396/89225487', 'mimic4wdb/0.1.0/waves/p170/p17032851/84391267', 'mimic4wdb/0.1.0/waves/p172/p17229504/80889556', 'mimic4wdb/0.1.0/waves/p173/p17301721/85250558', 'mimic4wdb/0.1.0/waves/p173/p17325001/84567505', 'mimic4wdb/0.1.0/waves/p174/p17490822/85814172', 'mimic4wdb/0.1.0/waves/p177/p17738824/88884866', 'mimic4wdb/0.1.0/waves/p177/p17744715/80497954', 'mimic4wdb/0.1.0/waves/p179/p17957832/80666640', 'mimic4wdb/0.1.0/waves/p180/p18080257/84939605', 'mimic4wdb/0.1.0/waves/p181/p18109577/82141753', 'mimic4wdb/0.1.0/waves/p183/p18324626/86874920', 'mimic4wdb/0.1.0/waves/p187/p18742074/84505262', 'mimic4wdb/0.1.0/waves/p188/p18824975/86288257', 'mimic4wdb/0.1.0/waves/p191/p19126489/89699401', 'mimic4wdb/0.1.0/waves/p193/p19313794/88537698', 'mimic4wdb/0.1.0/waves/p196/p19619764/83958172']\n",
    "\n",
    "# Segment 0 is helpful for filtering, and 3 and 8 are helpful for differentiation\n",
    "rel_segment_n = 0\n",
    "rel_segment_name = segment_names[rel_segment_n]\n",
    "rel_segment_dir = segment_dirs[rel_segment_n]\n",
    "\n",
    "rel_segment_n = 8 \n",
    "rel_segment_name = segment_names[rel_segment_n]\n",
    "rel_segment_dir = segment_dirs[rel_segment_n]"
   ]
  },
  {
   "cell_type": "markdown",
   "metadata": {},
   "source": [
    "### Signal quality assessment algorithm settings"
   ]
  },
  {
   "cell_type": "markdown",
   "metadata": {},
   "source": [
    "Threshold to distinguish between high and low quality data."
   ]
  },
  {
   "cell_type": "code",
   "execution_count": 103,
   "metadata": {},
   "outputs": [],
   "source": [
    "thresh = 0.66 # For ECG, from: Orphanidou C et al., Signal-quality indices for the electrocardiogram and photoplethysmogram: derivation and applications to wireless monitoring. IEEE J Biomed Heal Informatics 2015;19:832–838. https://doi.org/10.1109/JBHI.2014.2338351"
   ]
  },
  {
   "cell_type": "markdown",
   "metadata": {},
   "source": [
    "### Define template matching functions"
   ]
  },
  {
   "cell_type": "markdown",
   "metadata": {},
   "source": [
    "- ```filter_ecg``` - normalises and applies a ~1-15 Hz Butterworth band-pass filter  "
   ]
  },
  {
   "cell_type": "code",
   "execution_count": 104,
   "metadata": {},
   "outputs": [],
   "source": [
    "def filter_ecg(x, fs):\n",
    "    sig = x\n",
    "    # sig = sig[:,0]\n",
    "    order = 3\n",
    "    low_cutoff = 1  # in Hz\n",
    "    high_cutoff = 15  # in Hz\n",
    "    cutoff_frequency = (low_cutoff, high_cutoff)\n",
    "    b, a = signal.butter(order, cutoff_frequency, btype='band', fs=fs)\n",
    "    # b, a = signal.butter(3, [0.004, 0.06], 'band')    # original \n",
    "    sig = signal.filtfilt(b, a, sig, padlen=150)\n",
    "    sig = (sig - min(sig)) / (max(sig) - min(sig))\n",
    "    return sig"
   ]
  },
  {
   "cell_type": "markdown",
   "metadata": {},
   "source": [
    "- ```detect_beats``` - detects beats in the ECG signal"
   ]
  },
  {
   "cell_type": "code",
   "execution_count": 105,
   "metadata": {},
   "outputs": [],
   "source": [
    "from ecgdetectors import Detectors\n",
    "\n",
    "def detect_beats(sig, fs):\n",
    "    \n",
    "    # detect beats\n",
    "    detectors = Detectors(fs)\n",
    "    #beats = detectors.swt_detector(sig)\n",
    "    #beats = detectors.wqrs_detector(sig) \n",
    "    beats = detectors.hamilton_detector(sig)    \n",
    "    \n",
    "    # find R-peaks\n",
    "    tol_secs = 0.15\n",
    "    tol_samps = np.floor(fs*tol_secs)\n",
    "    for beat_no in range(0,len(beats)-1):\n",
    "            min_el = int(max([0, beats[beat_no]-tol_samps]))\n",
    "            max_el = int(min([len(sig), beats[beat_no]+tol_samps]))\n",
    "            curr_samps = sig[min_el:max_el+1]\n",
    "            beats[beat_no] = int(beats[beat_no]-tol_samps+np.argmax(curr_samps))\n",
    "    return beats"
   ]
  },
  {
   "cell_type": "markdown",
   "metadata": {},
   "source": [
    "- ```find_rr_ints``` - finds RR intervals from beat indices"
   ]
  },
  {
   "cell_type": "code",
   "execution_count": 106,
   "metadata": {},
   "outputs": [],
   "source": [
    "def find_rr_ints(beats,fs):\n",
    "    \n",
    "    rr_int = []\n",
    "    for beat_no in range(0,len(beats)-1):\n",
    "        rr_int.append((1/fs)*(beats[beat_no+1]-beats[beat_no]))   # in secs\n",
    "    \n",
    "    return rr_int"
   ]
  },
  {
   "cell_type": "markdown",
   "metadata": {},
   "source": [
    "- ```assess_feasibility``` - assesses feasibility of beat detections"
   ]
  },
  {
   "cell_type": "code",
   "execution_count": 107,
   "metadata": {},
   "outputs": [],
   "source": [
    "def assess_feasibility(beats):\n",
    "    \n",
    "    feas = 1\n",
    "    \n",
    "    # find HR\n",
    "    hr = 60*len(beats)/((beats[-1]-beats[0])/fs)  # in bpm\n",
    "\n",
    "    # check HR\n",
    "    if hr < 40 or hr > 180:\n",
    "        feas = 0\n",
    "        \n",
    "    # find RR intervals\n",
    "    rr_int = find_rr_ints(beats,fs)   # in secs\n",
    "        \n",
    "    # check max RR interval\n",
    "    if max(rr_int) > 3:\n",
    "        feas = 0\n",
    "    \n",
    "    # check max to min RR interval\n",
    "    rr_int_ratio = max(rr_int)/min(rr_int)\n",
    "    if rr_int_ratio >= 2.2:\n",
    "        feas = 0\n",
    "    \n",
    "    return feas"
   ]
  },
  {
   "cell_type": "markdown",
   "metadata": {},
   "source": [
    "- ```calculate_med_rr_int``` - calculates the median RR interval (in samples)"
   ]
  },
  {
   "cell_type": "code",
   "execution_count": 108,
   "metadata": {},
   "outputs": [],
   "source": [
    "def calculate_med_rr_int(beats):\n",
    "    \n",
    "    # find RR intervals\n",
    "    rr_int = find_rr_ints(beats,1)   # in samples\n",
    "    \n",
    "    # find median RR interval\n",
    "    med_rr_int = np.median(rr_int)\n",
    "    \n",
    "    return med_rr_int"
   ]
  },
  {
   "cell_type": "markdown",
   "metadata": {},
   "source": [
    "- ```calculate_template``` - calculates a template beat shape"
   ]
  },
  {
   "cell_type": "code",
   "execution_count": 109,
   "metadata": {},
   "outputs": [],
   "source": [
    "def calculate_template(sig, beats):\n",
    "    \n",
    "    # find median rr interval\n",
    "    med_rr_int = calculate_med_rr_int(beats)\n",
    "    \n",
    "    # find no. samples either side of beat\n",
    "    tol = int(np.floor(med_rr_int/2))\n",
    "    sum_waves = np.zeros(1+2*tol)\n",
    "    no_beats_used = 0\n",
    "    for beat_no in range(0,len(beats)-1):\n",
    "            min_el = beats[beat_no]-tol\n",
    "            max_el = beats[beat_no]+tol\n",
    "            if min_el < 0 or max_el > beats[-1]:\n",
    "                continue\n",
    "            curr_samps = sig[min_el:max_el+1]\n",
    "            for i in range(0,len(sum_waves)):\n",
    "                sum_waves[i] += curr_samps[i]\n",
    "            no_beats_used +=1\n",
    "    templ = sum_waves/no_beats_used\n",
    "    return templ"
   ]
  },
  {
   "cell_type": "markdown",
   "metadata": {},
   "source": [
    "- ```calculate_cc``` - calculates average correlation coefficient between template beat shape and individual beat shapes"
   ]
  },
  {
   "cell_type": "code",
   "execution_count": 110,
   "metadata": {},
   "outputs": [],
   "source": [
    "def calculate_cc(sig, beats, templ):\n",
    "    \n",
    "    # find median rr interval\n",
    "    med_rr_int = calculate_med_rr_int(beats)\n",
    "    \n",
    "    # find no. samples either side of beat\n",
    "    tol = int(np.floor(med_rr_int/2))\n",
    "    \n",
    "    # calculate correlation coefficients for each beat\n",
    "    sum_cc = 0\n",
    "    no_beats_used = 0\n",
    "    for beat_no in range(0,len(beats)-1):\n",
    "            min_el = beats[beat_no]-tol\n",
    "            max_el = beats[beat_no]+tol\n",
    "            if min_el < 0 or max_el > beats[-1]:\n",
    "                continue\n",
    "            curr_samps = np.zeros(1+2*tol)\n",
    "            for i in range(0, 1+2*tol):\n",
    "                curr_samps[i] += sig[min_el+i]\n",
    "            temp = np.corrcoef(curr_samps, templ)\n",
    "            curr_cc = temp[0,1]\n",
    "            sum_cc = np.add(sum_cc, curr_cc)\n",
    "            no_beats_used +=1\n",
    "            \n",
    "    # find average correlation coefficient\n",
    "    cc = sum_cc/no_beats_used\n",
    "    return cc"
   ]
  },
  {
   "cell_type": "markdown",
   "metadata": {},
   "source": [
    "- ```compare_cc_to_thresh``` - compares the average correlation coefficient to a threshold to determine whether the signal is of high or low quality"
   ]
  },
  {
   "cell_type": "code",
   "execution_count": 111,
   "metadata": {},
   "outputs": [],
   "source": [
    "def compare_cc_to_thresh(cc, thresh):\n",
    "    \n",
    "    if cc >= thresh:\n",
    "        qual = 1\n",
    "    else:\n",
    "        qual = 0\n",
    "        \n",
    "    return qual"
   ]
  },
  {
   "cell_type": "markdown",
   "metadata": {},
   "source": [
    "- ```assess_qual``` - assesses the quality of a 10 second window of ECG signal"
   ]
  },
  {
   "cell_type": "code",
   "execution_count": 112,
   "metadata": {},
   "outputs": [],
   "source": [
    "def assess_qual(x, fs, thresh):\n",
    "    \n",
    "    # filter ECG\n",
    "    sig = filter_ecg(x, fs)\n",
    "    \n",
    "    # detect beats\n",
    "    beats = detect_beats(sig, fs)\n",
    "    \n",
    "    # assess feasibility of beat detections\n",
    "    feas = assess_feasibility(beats)\n",
    "    if feas == 0:\n",
    "        qual = 0\n",
    "        return qual\n",
    "    \n",
    "    # create template beat shape\n",
    "    templ = calculate_template(x, beats)\n",
    "    \n",
    "    # calculate correlation coefficient\n",
    "    cc = calculate_cc(x, beats, templ)\n",
    "    \n",
    "    # compare correlation coefficient to threshold\n",
    "    qual = compare_cc_to_thresh(cc, thresh)\n",
    "\n",
    "    return qual"
   ]
  },
  {
   "cell_type": "markdown",
   "metadata": {},
   "source": [
    "\n",
    "---\n",
    "## Extract one minute of ECG and PPG signals from the MIMIC database"
   ]
  },
  {
   "cell_type": "markdown",
   "metadata": {},
   "source": [
    "### Extract data"
   ]
  },
  {
   "cell_type": "markdown",
   "metadata": {
    "id": "A0YsdFikpHWB"
   },
   "source": [
    "_These steps have been covered in previous tutorials, so we'll just re-use the code here._"
   ]
  },
  {
   "cell_type": "code",
   "execution_count": 113,
   "metadata": {
    "colab": {
     "base_uri": "https://localhost:8080/"
    },
    "id": "2geoFoDBpHWC",
    "outputId": "29847fb7-2f05-4762-b311-e40ce5a6136c"
   },
   "outputs": [
    {
     "name": "stdout",
     "output_type": "stream",
     "text": [
      "Metadata loaded from segment: 88995377_0001\n",
      "60 seconds of data extracted from: 88995377_0001\n",
      "Extracted the PPG and ECG signals from columns 4 and 2 of the matrix of waveform data.\n"
     ]
    }
   ],
   "source": [
    "# Specify the segment of data to be loaded\n",
    "start_seconds = 20 # time since the start of the segment at which to begin extracting data\n",
    "n_seconds_to_load = 60\n",
    "\n",
    "# Load metadata for this record\n",
    "segment_metadata = wfdb.rdheader(record_name=rel_segment_name, pn_dir=rel_segment_dir) \n",
    "fs = round(segment_metadata.fs)\n",
    "print(f\"Metadata loaded from segment: {rel_segment_name}\")\n",
    "\n",
    "# Load data from this record\n",
    "sampfrom = fs*start_seconds\n",
    "sampto = fs*(start_seconds + n_seconds_to_load)\n",
    "segment_data = wfdb.rdrecord(record_name=rel_segment_name,\n",
    "                             sampfrom=sampfrom,\n",
    "                             sampto=sampto,\n",
    "                             pn_dir=rel_segment_dir)\n",
    "print(f\"{n_seconds_to_load} seconds of data extracted from: {rel_segment_name}\")\n",
    "\n",
    "# Extract the PPG signal\n",
    "sig_no = segment_data.sig_name.index('Pleth')\n",
    "ppg = segment_data.p_signal[:,sig_no]\n",
    "sig_no2 = segment_data.sig_name.index('II')\n",
    "ecg = segment_data.p_signal[:,sig_no2]\n",
    "fs = segment_data.fs\n",
    "print(f\"Extracted the PPG and ECG signals from columns {sig_no} and {sig_no2} of the matrix of waveform data.\")"
   ]
  },
  {
   "cell_type": "markdown",
   "metadata": {},
   "source": [
    "### Plot data"
   ]
  },
  {
   "cell_type": "markdown",
   "metadata": {},
   "source": [
    "Full duration of signal"
   ]
  },
  {
   "cell_type": "code",
   "execution_count": 114,
   "metadata": {},
   "outputs": [
    {
     "data": {
      "image/png": "[encoded data removed]",
      "text/plain": [
       "<Figure size 432x288 with 1 Axes>"
      ]
     },
     "metadata": {
      "needs_background": "light"
     },
     "output_type": "display_data"
    }
   ],
   "source": [
    "t = np.arange(0, (len(ecg) / fs), 1.0 / fs)\n",
    "plt.plot(t, ecg, color = 'blue', label='ECG')\n",
    "plt.xlabel('time (s)')\n",
    "plt.ylabel('ECG')\n",
    "plt.show()"
   ]
  },
  {
   "cell_type": "markdown",
   "metadata": {},
   "source": [
    "Just a short segment"
   ]
  },
  {
   "cell_type": "code",
   "execution_count": 115,
   "metadata": {},
   "outputs": [
    {
     "data": {
      "image/png": "[encoded data removed]",
      "text/plain": [
       "<Figure size 432x288 with 1 Axes>"
      ]
     },
     "metadata": {
      "needs_background": "light"
     },
     "output_type": "display_data"
    }
   ],
   "source": [
    "plt.plot(t, ecg, color = 'blue', label='ECG')\n",
    "plt.xlabel('time (s)')\n",
    "plt.ylabel('ECG')\n",
    "plt.xlim(0,5)\n",
    "plt.show()"
   ]
  },
  {
   "cell_type": "markdown",
   "metadata": {},
   "source": [
    "---\n",
    "\n",
    "## Assess signal quality of this sample data"
   ]
  },
  {
   "cell_type": "markdown",
   "metadata": {},
   "source": [
    "Using the functions defined above:"
   ]
  },
  {
   "cell_type": "markdown",
   "metadata": {},
   "source": [
    "### filter the ECG"
   ]
  },
  {
   "cell_type": "code",
   "execution_count": 116,
   "metadata": {},
   "outputs": [],
   "source": [
    "sig = filter_ecg(ecg, fs)"
   ]
  },
  {
   "cell_type": "markdown",
   "metadata": {},
   "source": [
    "Plot the result"
   ]
  },
  {
   "cell_type": "code",
   "execution_count": 117,
   "metadata": {},
   "outputs": [
    {
     "data": {
      "image/png": "[encoded data removed]",
      "text/plain": [
       "<Figure size 432x288 with 1 Axes>"
      ]
     },
     "metadata": {
      "needs_background": "light"
     },
     "output_type": "display_data"
    }
   ],
   "source": [
    "t = np.arange(0, (len(ecg) / fs), 1.0 / fs)\n",
    "plt.plot(t, ecg, color = 'blue', label='raw ECG')\n",
    "plt.plot(t, sig, color = 'red', label='filtered ECG')\n",
    "plt.xlim([0, 5])\n",
    "plt.xlabel('time (s)')\n",
    "plt.ylabel('ECG')\n",
    "plt.legend()\n",
    "plt.show()"
   ]
  },
  {
   "cell_type": "markdown",
   "metadata": {},
   "source": [
    "### detect beats"
   ]
  },
  {
   "cell_type": "code",
   "execution_count": 118,
   "metadata": {},
   "outputs": [],
   "source": [
    "beats = detect_beats(sig, fs)"
   ]
  },
  {
   "cell_type": "markdown",
   "metadata": {},
   "source": [
    "Plot the result"
   ]
  },
  {
   "cell_type": "code",
   "execution_count": 119,
   "metadata": {},
   "outputs": [
    {
     "data": {
      "image/png": "[encoded data removed]",
      "text/plain": [
       "<Figure size 432x288 with 1 Axes>"
      ]
     },
     "metadata": {
      "needs_background": "light"
     },
     "output_type": "display_data"
    }
   ],
   "source": [
    "t = np.arange(0, (len(ecg) / fs), 1.0 / fs)\n",
    "plt.plot(t, sig, color = 'blue', label='ECG')\n",
    "plt.scatter(t[beats], sig[beats], color = 'red', marker = 'o', label='beats')\n",
    "plt.xlim([0, 15])\n",
    "plt.xlabel('time (s)')\n",
    "plt.ylabel('ECG')\n",
    "plt.show()"
   ]
  },
  {
   "cell_type": "markdown",
   "metadata": {},
   "source": [
    "### assess feasibility of beat detections"
   ]
  },
  {
   "cell_type": "code",
   "execution_count": 120,
   "metadata": {},
   "outputs": [
    {
     "name": "stdout",
     "output_type": "stream",
     "text": [
      "feas (1 indicates feasible): 1\n"
     ]
    }
   ],
   "source": [
    "feas = assess_feasibility(beats)\n",
    "print(f'feas (1 indicates feasible): {feas}')"
   ]
  },
  {
   "cell_type": "markdown",
   "metadata": {},
   "source": [
    "### create template beat shape"
   ]
  },
  {
   "cell_type": "code",
   "execution_count": 121,
   "metadata": {},
   "outputs": [],
   "source": [
    "templ = calculate_template(ecg, beats)"
   ]
  },
  {
   "cell_type": "code",
   "execution_count": 122,
   "metadata": {},
   "outputs": [
    {
     "data": {
      "image/png": "[encoded data removed]",
      "text/plain": [
       "<Figure size 432x288 with 1 Axes>"
      ]
     },
     "metadata": {
      "needs_background": "light"
     },
     "output_type": "display_data"
    }
   ],
   "source": [
    "durn = (len(templ)-1)/fs\n",
    "durn = durn+0.01\n",
    "t = np.arange(0, durn, 1.0 / fs)\n",
    "plt.plot(t, templ, color = 'blue', label='Template ECG beat')\n",
    "plt.xlabel('time (s)')\n",
    "plt.ylabel('Template ECG beat')\n",
    "plt.show()"
   ]
  },
  {
   "cell_type": "markdown",
   "metadata": {},
   "source": [
    "### calculate correlation coefficient"
   ]
  },
  {
   "cell_type": "code",
   "execution_count": 123,
   "metadata": {},
   "outputs": [
    {
     "name": "stdout",
     "output_type": "stream",
     "text": [
      "Corr coeff: 0.9606167664715456\n"
     ]
    }
   ],
   "source": [
    "cc = calculate_cc(ecg, beats, templ)\n",
    "print(f'Corr coeff: {cc}')"
   ]
  },
  {
   "cell_type": "markdown",
   "metadata": {},
   "source": [
    "### compare correlation coefficient to threshold"
   ]
  },
  {
   "cell_type": "code",
   "execution_count": 124,
   "metadata": {},
   "outputs": [
    {
     "name": "stdout",
     "output_type": "stream",
     "text": [
      "quality (1 indicates high quality): 1\n"
     ]
    }
   ],
   "source": [
    "qual = compare_cc_to_thresh(cc, thresh)\n",
    "\n",
    "if feas == 0:\n",
    "        qual = 0\n",
    "print(f'quality (1 indicates high quality): {qual}')"
   ]
  },
  {
   "cell_type": "markdown",
   "metadata": {},
   "source": [
    "<div class=\"alert alert-block alert-info\"><p><b>Question:</b> What value of correlation coefficient would result in this being low quality?</p></div>"
   ]
  },
  {
   "cell_type": "markdown",
   "metadata": {},
   "source": [
    "### Re-do quality assessment using single function"
   ]
  },
  {
   "cell_type": "code",
   "execution_count": 125,
   "metadata": {},
   "outputs": [
    {
     "name": "stdout",
     "output_type": "stream",
     "text": [
      "quality (1 indicates high quality): 1\n"
     ]
    }
   ],
   "source": [
    "qual = assess_qual(ecg, fs, thresh)\n",
    "print(f'quality (1 indicates high quality): {qual}')"
   ]
  },
  {
   "cell_type": "markdown",
   "metadata": {
    "id": "dnSasCJ5pHWG"
   },
   "source": [
    "<div class=\"alert alert-block alert-info\"><p><b>Extension 1:</b> How could we extend this to assess the quality of PPG signals? Consider what threshold would be required (see <a href=\"https://doi.org/10.1109/JBHI.2014.2338351\">the original publication</a>) and how the code would need to be adjusted.</p></div>"
   ]
  },
  {
   "cell_type": "markdown",
   "metadata": {},
   "source": [
    "<div class=\"alert alert-block alert-warning\"><p><b>Further reading:</b> <a href=\"https://peterhcharlton.github.io/publication/ppg_sig_proc_chapter/\">this book chapter</a> provides further information on PPG signal quality assessment.</p></div>"
   ]
  }
 ],
 "metadata": {
  "colab": {
   "name": "signal-filtering.ipynb",
   "provenance": []
  },
  "kernelspec": {
   "display_name": "Python 3",
   "language": "python",
   "name": "python3"
  },
  "language_info": {
   "codemirror_mode": {
    "name": "ipython",
    "version": 3
   },
   "file_extension": ".py",
   "mimetype": "text/x-python",
   "name": "python",
   "nbconvert_exporter": "python",
   "pygments_lexer": "ipython3",
   "version": "3.8.8"
  },
  "toc": {
   "base_numbering": 1,
   "nav_menu": {},
   "number_sections": true,
   "sideBar": true,
   "skip_h1_title": true,
   "title_cell": "Table of Contents",
   "title_sidebar": "Contents",
   "toc_cell": false,
   "toc_position": {},
   "toc_section_display": true,
   "toc_window_display": true
  }
 },
 "nbformat": 4,
 "nbformat_minor": 1
}
