{
 "cells": [
  {
   "cell_type": "markdown",
   "metadata": {
    "id": "97Ad8yROpHV8"
   },
   "source": [
    "# Filtering Signals\n",
    "In this tutorial we will practice filtering MIMIC waveform signals.\n",
    "\n",
    "Our **objectives** are to:\n",
    "- Filter signals using the [SciPy signal processing package](https://docs.scipy.org/doc/scipy/reference/signal.html).\n",
    "- Understand how to interpret the amplitude-response of a filter.\n",
    "- Gain experience in filtering PPG signals.\n",
    "- Be able to use filters to obtain the derivatives of a signal"
   ]
  },
  {
   "cell_type": "markdown",
   "metadata": {
    "id": "efztffyOpHV-"
   },
   "source": [
    "<div class=\"alert alert-block alert-warning\"><p><b>Context:</b> Filtering is used to eliminate noise from physiological signals. For instance, ECG signals can contain mains frequency noise due to electrical interference. Ideally, a filter would attenuate unwanted frequency content in a signal whilst retaining the physiological frequency content.</p></div>"
   ]
  },
  {
   "cell_type": "markdown",
   "metadata": {
    "id": "1y92CrBlpHV_"
   },
   "source": [
    "<div class=\"alert alert-block alert-info\"><p><b>Extension:</b> If you've not seen it before, then have a look at the <a href= https://docs.scipy.org/doc/scipy/reference/signal.html>SciPy signal processing package</a>. How might it be helpful for processing PPG signals?</p></div>"
   ]
  },
  {
   "cell_type": "markdown",
   "metadata": {
    "id": "McluxdGrpHV_"
   },
   "source": [
    "## Setup"
   ]
  },
  {
   "cell_type": "markdown",
   "metadata": {
    "id": "742rlU3ApHV_"
   },
   "source": [
    "_The following steps have been covered in previous tutorials. We'll just re-use the previous code here._"
   ]
  },
  {
   "cell_type": "code",
   "execution_count": 53,
   "metadata": {},
   "outputs": [
    {
     "name": "stdout",
     "output_type": "stream",
     "text": [
      "Requirement already satisfied: wfdb==4.0.0 in /Users/petercharlton/anaconda3/lib/python3.8/site-packages (4.0.0)\n",
      "Requirement already satisfied: pandas<2.0.0,>=1.0.0 in /Users/petercharlton/anaconda3/lib/python3.8/site-packages (from wfdb==4.0.0) (1.2.4)\n",
      "Requirement already satisfied: numpy<2.0.0,>=1.10.1 in /Users/petercharlton/anaconda3/lib/python3.8/site-packages (from wfdb==4.0.0) (1.20.1)\n",
      "Requirement already satisfied: SoundFile<0.12.0,>=0.10.0 in /Users/petercharlton/anaconda3/lib/python3.8/site-packages (from wfdb==4.0.0) (0.10.3.post1)\n",
      "Requirement already satisfied: requests<3.0.0,>=2.8.1 in /Users/petercharlton/anaconda3/lib/python3.8/site-packages (from wfdb==4.0.0) (2.25.1)\n",
      "Requirement already satisfied: matplotlib<4.0.0,>=3.2.2 in /Users/petercharlton/anaconda3/lib/python3.8/site-packages (from wfdb==4.0.0) (3.3.4)\n",
      "Requirement already satisfied: scipy<2.0.0,>=1.0.0 in /Users/petercharlton/anaconda3/lib/python3.8/site-packages (from wfdb==4.0.0) (1.6.2)\n",
      "Requirement already satisfied: kiwisolver>=1.0.1 in /Users/petercharlton/anaconda3/lib/python3.8/site-packages (from matplotlib<4.0.0,>=3.2.2->wfdb==4.0.0) (1.3.1)\n",
      "Requirement already satisfied: cycler>=0.10 in /Users/petercharlton/anaconda3/lib/python3.8/site-packages (from matplotlib<4.0.0,>=3.2.2->wfdb==4.0.0) (0.10.0)\n",
      "Requirement already satisfied: pillow>=6.2.0 in /Users/petercharlton/anaconda3/lib/python3.8/site-packages (from matplotlib<4.0.0,>=3.2.2->wfdb==4.0.0) (8.2.0)\n",
      "Requirement already satisfied: python-dateutil>=2.1 in /Users/petercharlton/anaconda3/lib/python3.8/site-packages (from matplotlib<4.0.0,>=3.2.2->wfdb==4.0.0) (2.8.1)\n",
      "Requirement already satisfied: pyparsing!=2.0.4,!=2.1.2,!=2.1.6,>=2.0.3 in /Users/petercharlton/anaconda3/lib/python3.8/site-packages (from matplotlib<4.0.0,>=3.2.2->wfdb==4.0.0) (2.4.7)\n",
      "Requirement already satisfied: six in /Users/petercharlton/anaconda3/lib/python3.8/site-packages (from cycler>=0.10->matplotlib<4.0.0,>=3.2.2->wfdb==4.0.0) (1.15.0)\n",
      "Requirement already satisfied: pytz>=2017.3 in /Users/petercharlton/anaconda3/lib/python3.8/site-packages (from pandas<2.0.0,>=1.0.0->wfdb==4.0.0) (2021.1)\n",
      "Requirement already satisfied: chardet<5,>=3.0.2 in /Users/petercharlton/anaconda3/lib/python3.8/site-packages (from requests<3.0.0,>=2.8.1->wfdb==4.0.0) (4.0.0)\n",
      "Requirement already satisfied: urllib3<1.27,>=1.21.1 in /Users/petercharlton/anaconda3/lib/python3.8/site-packages (from requests<3.0.0,>=2.8.1->wfdb==4.0.0) (1.26.4)\n",
      "Requirement already satisfied: idna<3,>=2.5 in /Users/petercharlton/anaconda3/lib/python3.8/site-packages (from requests<3.0.0,>=2.8.1->wfdb==4.0.0) (2.10)\n",
      "Requirement already satisfied: certifi>=2017.4.17 in /Users/petercharlton/anaconda3/lib/python3.8/site-packages (from requests<3.0.0,>=2.8.1->wfdb==4.0.0) (2022.12.7)\n",
      "Requirement already satisfied: cffi>=1.0 in /Users/petercharlton/anaconda3/lib/python3.8/site-packages (from SoundFile<0.12.0,>=0.10.0->wfdb==4.0.0) (1.14.5)\n",
      "Requirement already satisfied: pycparser in /Users/petercharlton/anaconda3/lib/python3.8/site-packages (from cffi>=1.0->SoundFile<0.12.0,>=0.10.0->wfdb==4.0.0) (2.20)\n"
     ]
    }
   ],
   "source": [
    "# Packages\n",
    "import sys\n",
    "from pathlib import Path\n",
    "!pip install wfdb==4.0.0\n",
    "import wfdb"
   ]
  },
  {
   "cell_type": "code",
   "execution_count": 54,
   "metadata": {
    "id": "byobDIEIpHV_"
   },
   "outputs": [],
   "source": [
    "# The name of the MIMIC IV Waveform Database on Physionet\n",
    "database_name = 'mimic4wdb/0.1.0'\n",
    "\n",
    "# Segment for analysis\n",
    "segment_names = ['83404654_0005', '82924339_0007', '84248019_0005', '82439920_0004', '82800131_0002', '84304393_0001', '89464742_0001', '88958796_0004', '88995377_0001', '85230771_0004', '86643930_0004', '81250824_0005', '87706224_0003', '83058614_0005', '82803505_0017', '88574629_0001', '87867111_0012', '84560969_0001', '87562386_0001', '88685937_0001', '86120311_0001', '89866183_0014', '89068160_0002', '86380383_0001', '85078610_0008', '87702634_0007', '84686667_0002', '84802706_0002', '81811182_0004', '84421559_0005', '88221516_0007', '80057524_0005', '84209926_0018', '83959636_0010', '89989722_0016', '89225487_0007', '84391267_0001', '80889556_0002', '85250558_0011', '84567505_0005', '85814172_0007', '88884866_0005', '80497954_0012', '80666640_0014', '84939605_0004', '82141753_0018', '86874920_0014', '84505262_0010', '86288257_0001', '89699401_0001', '88537698_0013', '83958172_0001']\n",
    "segment_dirs = ['mimic4wdb/0.1.0/waves/p100/p10020306/83404654', 'mimic4wdb/0.1.0/waves/p101/p10126957/82924339', 'mimic4wdb/0.1.0/waves/p102/p10209410/84248019', 'mimic4wdb/0.1.0/waves/p109/p10952189/82439920', 'mimic4wdb/0.1.0/waves/p111/p11109975/82800131', 'mimic4wdb/0.1.0/waves/p113/p11392990/84304393', 'mimic4wdb/0.1.0/waves/p121/p12168037/89464742', 'mimic4wdb/0.1.0/waves/p121/p12173569/88958796', 'mimic4wdb/0.1.0/waves/p121/p12188288/88995377', 'mimic4wdb/0.1.0/waves/p128/p12872596/85230771', 'mimic4wdb/0.1.0/waves/p129/p12933208/86643930', 'mimic4wdb/0.1.0/waves/p130/p13016481/81250824', 'mimic4wdb/0.1.0/waves/p132/p13240081/87706224', 'mimic4wdb/0.1.0/waves/p136/p13624686/83058614', 'mimic4wdb/0.1.0/waves/p137/p13791821/82803505', 'mimic4wdb/0.1.0/waves/p141/p14191565/88574629', 'mimic4wdb/0.1.0/waves/p142/p14285792/87867111', 'mimic4wdb/0.1.0/waves/p143/p14356077/84560969', 'mimic4wdb/0.1.0/waves/p143/p14363499/87562386', 'mimic4wdb/0.1.0/waves/p146/p14695840/88685937', 'mimic4wdb/0.1.0/waves/p149/p14931547/86120311', 'mimic4wdb/0.1.0/waves/p151/p15174162/89866183', 'mimic4wdb/0.1.0/waves/p153/p15312343/89068160', 'mimic4wdb/0.1.0/waves/p153/p15342703/86380383', 'mimic4wdb/0.1.0/waves/p155/p15552902/85078610', 'mimic4wdb/0.1.0/waves/p156/p15649186/87702634', 'mimic4wdb/0.1.0/waves/p158/p15857793/84686667', 'mimic4wdb/0.1.0/waves/p158/p15865327/84802706', 'mimic4wdb/0.1.0/waves/p158/p15896656/81811182', 'mimic4wdb/0.1.0/waves/p159/p15920699/84421559', 'mimic4wdb/0.1.0/waves/p160/p16034243/88221516', 'mimic4wdb/0.1.0/waves/p165/p16566444/80057524', 'mimic4wdb/0.1.0/waves/p166/p16644640/84209926', 'mimic4wdb/0.1.0/waves/p167/p16709726/83959636', 'mimic4wdb/0.1.0/waves/p167/p16715341/89989722', 'mimic4wdb/0.1.0/waves/p168/p16818396/89225487', 'mimic4wdb/0.1.0/waves/p170/p17032851/84391267', 'mimic4wdb/0.1.0/waves/p172/p17229504/80889556', 'mimic4wdb/0.1.0/waves/p173/p17301721/85250558', 'mimic4wdb/0.1.0/waves/p173/p17325001/84567505', 'mimic4wdb/0.1.0/waves/p174/p17490822/85814172', 'mimic4wdb/0.1.0/waves/p177/p17738824/88884866', 'mimic4wdb/0.1.0/waves/p177/p17744715/80497954', 'mimic4wdb/0.1.0/waves/p179/p17957832/80666640', 'mimic4wdb/0.1.0/waves/p180/p18080257/84939605', 'mimic4wdb/0.1.0/waves/p181/p18109577/82141753', 'mimic4wdb/0.1.0/waves/p183/p18324626/86874920', 'mimic4wdb/0.1.0/waves/p187/p18742074/84505262', 'mimic4wdb/0.1.0/waves/p188/p18824975/86288257', 'mimic4wdb/0.1.0/waves/p191/p19126489/89699401', 'mimic4wdb/0.1.0/waves/p193/p19313794/88537698', 'mimic4wdb/0.1.0/waves/p196/p19619764/83958172']\n",
    "\n",
    "# Segment 0 is helpful for filtering, and 3 and 8 are helpful for differentiation\n",
    "rel_segment_n = 0\n",
    "rel_segment_name = segment_names[rel_segment_n]\n",
    "rel_segment_dir = segment_dirs[rel_segment_n]\n",
    "\n",
    "rel_segment_n = 8 \n",
    "rel_segment_name = segment_names[rel_segment_n]\n",
    "rel_segment_dir = segment_dirs[rel_segment_n]"
   ]
  },
  {
   "cell_type": "markdown",
   "metadata": {
    "id": "iUNUDMnopHWB"
   },
   "source": [
    "---\n",
    "## Extract one minute of noisy PPG signal from this segment"
   ]
  },
  {
   "cell_type": "markdown",
   "metadata": {
    "id": "A0YsdFikpHWB"
   },
   "source": [
    "_These steps have been covered in previous tutorials, so we'll just re-use the code here._"
   ]
  },
  {
   "cell_type": "code",
   "execution_count": 55,
   "metadata": {
    "colab": {
     "base_uri": "https://localhost:8080/"
    },
    "id": "2geoFoDBpHWC",
    "outputId": "29847fb7-2f05-4762-b311-e40ce5a6136c"
   },
   "outputs": [
    {
     "name": "stdout",
     "output_type": "stream",
     "text": [
      "Metadata loaded from segment: 88995377_0001\n",
      "60 seconds of data extracted from: 88995377_0001\n",
      "Extracted the PPG signal from column 4 of the matrix of waveform data.\n"
     ]
    }
   ],
   "source": [
    "# Specify the segment of data to be loaded\n",
    "start_seconds = 20 # time since the start of the segment at which to begin extracting data\n",
    "n_seconds_to_load = 60\n",
    "\n",
    "# Load metadata for this record\n",
    "segment_metadata = wfdb.rdheader(record_name=rel_segment_name, pn_dir=rel_segment_dir) \n",
    "fs = round(segment_metadata.fs)\n",
    "print(f\"Metadata loaded from segment: {rel_segment_name}\")\n",
    "\n",
    "# Load data from this record\n",
    "sampfrom = fs*start_seconds\n",
    "sampto = fs*(start_seconds + n_seconds_to_load)\n",
    "segment_data = wfdb.rdrecord(record_name=rel_segment_name,\n",
    "                             sampfrom=sampfrom,\n",
    "                             sampto=sampto,\n",
    "                             pn_dir=rel_segment_dir)\n",
    "print(f\"{n_seconds_to_load} seconds of data extracted from: {rel_segment_name}\")\n",
    "\n",
    "# Extract the PPG signal\n",
    "sig_no = segment_data.sig_name.index('Pleth')\n",
    "ppg = segment_data.p_signal[:,sig_no]\n",
    "fs = segment_data.fs\n",
    "print(f\"Extracted the PPG signal from column {sig_no} of the matrix of waveform data.\")"
   ]
  },
  {
   "cell_type": "markdown",
   "metadata": {
    "id": "beaUjk5spHWC"
   },
   "source": [
    "---\n",
    "## Create a filter"
   ]
  },
  {
   "cell_type": "markdown",
   "metadata": {
    "id": "scLn9bVKpHWD"
   },
   "source": [
    "- Import the [SciPy signal processing package](https://docs.scipy.org/doc/scipy/tutorial/signal.html), which contains functions for filtering and differentiating."
   ]
  },
  {
   "cell_type": "code",
   "execution_count": 56,
   "metadata": {
    "id": "1db-InU9pHWD"
   },
   "outputs": [],
   "source": [
    "import scipy.signal as sp"
   ]
  },
  {
   "cell_type": "markdown",
   "metadata": {
    "id": "MuzX0XoCpHWD"
   },
   "source": [
    "- Specify the high- and low-pass filter cut-offs"
   ]
  },
  {
   "cell_type": "code",
   "execution_count": 57,
   "metadata": {
    "id": "cGKF92QTpHWD"
   },
   "outputs": [],
   "source": [
    "# Specify cutoff in Hertz\n",
    "lpf_cutoff = 0.7 \n",
    "hpf_cutoff = 10"
   ]
  },
  {
   "cell_type": "markdown",
   "metadata": {
    "id": "RtLUEaAHpHWE"
   },
   "source": [
    "- Create a Butterworth filter using the [butter](https://docs.scipy.org/doc/scipy/reference/generated/scipy.signal.butter.html) function"
   ]
  },
  {
   "cell_type": "code",
   "execution_count": 58,
   "metadata": {
    "id": "HmiOvyHZpHWE"
   },
   "outputs": [],
   "source": [
    "sos_ppg = sp.butter(10,\n",
    "                    [lpf_cutoff, hpf_cutoff],\n",
    "                    btype = 'bp',\n",
    "                    analog = False,\n",
    "                    output = 'sos',\n",
    "                    fs = segment_data.fs)\n",
    "\n",
    "w, h = sp.sosfreqz(sos_ppg,\n",
    "                   2000,\n",
    "                   fs = fs)"
   ]
  },
  {
   "cell_type": "markdown",
   "metadata": {
    "id": "k84fKyK6pHWE"
   },
   "source": [
    "- Plot filter characteristics"
   ]
  },
  {
   "cell_type": "code",
   "execution_count": 59,
   "metadata": {
    "colab": {
     "base_uri": "https://localhost:8080/",
     "height": 295
    },
    "id": "fjd8i8-SpHWE",
    "outputId": "951c910b-e786-4598-c568-6064effb9d71"
   },
   "outputs": [
    {
     "data": {
      "image/png": "[encoded data removed]",
      "text/plain": [
       "<Figure size 432x288 with 1 Axes>"
      ]
     },
     "metadata": {
      "needs_background": "light"
     },
     "output_type": "display_data"
    }
   ],
   "source": [
    "from matplotlib import pyplot as plt\n",
    "import numpy as np\n",
    "\n",
    "fig, ax = plt.subplots()\n",
    "\n",
    "ax.plot(w, 20 * np.log10(np.maximum(abs(h), 1e-5)))\n",
    "\n",
    "ax.set_title('Butterworth bandpass filter frequency response')\n",
    "ax.set_xlabel('Frequency [Hz]')\n",
    "ax.set_ylabel('Amplitude [dB]')\n",
    "ax.axis((0, 20, -100, 10))\n",
    "ax.grid(which='both',\n",
    "        axis='both')"
   ]
  },
  {
   "cell_type": "markdown",
   "metadata": {
    "id": "G26eXYXnpHWF"
   },
   "source": [
    "<div class=\"alert alert-block alert-info\"><p><b>Question:</b> What does this plot tell us about the filter characteristics? What types of noise does the filter attenuate?</p></div>"
   ]
  },
  {
   "cell_type": "markdown",
   "metadata": {
    "id": "JJD2n5hGpHWG"
   },
   "source": [
    "<div class=\"alert alert-block alert-warning\"><p><b>Explanation:</b> This function generates the co-efficients for a Butterworth filter. The filter-type is specified as 'bp' - a bandpass filtter. The filter frequencies are specified in Hz (because the sampling frequency, fs, has also been specified): a high-pass frequency of 0.7 Hz, and a low-pass frequency of 10 Hz.</p></div>"
   ]
  },
  {
   "cell_type": "markdown",
   "metadata": {
    "id": "dnSasCJ5pHWG"
   },
   "source": [
    "<div class=\"alert alert-block alert-info\"><p><b>Extension 1:</b> How could we re-design the filter to retain frequency content of up to 20 Hz, but eliminate mains frequencies?</p></div>"
   ]
  },
  {
   "cell_type": "markdown",
   "metadata": {
    "id": "3cLPjh14pHWG"
   },
   "source": [
    "<div class=\"alert alert-block alert-info\"><p><b>Extension 2:</b> What would be appropriate cut-off frequencies when using the PPG for different purposes, e.g. heart rate monitoring, or blood pressure estimation? See <a href=\"http://peterhcharlton.github.io/publication/wearable_ppg_chapter/\">this book chapter</a> (Sections 2.2.4 to 2.2.5 on Sampling Frequency and Bandwidth) for details.</p></div>"
   ]
  },
  {
   "cell_type": "markdown",
   "metadata": {
    "id": "s8NgRIcapHWH"
   },
   "source": [
    "---\n",
    "## Filter the PPG signal"
   ]
  },
  {
   "cell_type": "markdown",
   "metadata": {
    "id": "5QTJpU4lpHWH"
   },
   "source": [
    "- Filter the PPG signal"
   ]
  },
  {
   "cell_type": "code",
   "execution_count": 60,
   "metadata": {
    "id": "AHbccVHppHWH"
   },
   "outputs": [],
   "source": [
    "ppg_filt = sp.sosfiltfilt(sos_ppg, ppg)"
   ]
  },
  {
   "cell_type": "markdown",
   "metadata": {
    "id": "Kw90DmO_pHWH"
   },
   "source": [
    "- Plot original and filtered PPG signals"
   ]
  },
  {
   "cell_type": "code",
   "execution_count": 61,
   "metadata": {
    "colab": {
     "base_uri": "https://localhost:8080/",
     "height": 279
    },
    "id": "g7E41qWdpHWI",
    "outputId": "40f0345d-83c9-439d-f449-72a30cce15c0"
   },
   "outputs": [
    {
     "data": {
      "image/png": "[encoded data removed]",
      "text/plain": [
       "<Figure size 432x288 with 1 Axes>"
      ]
     },
     "metadata": {
      "needs_background": "light"
     },
     "output_type": "display_data"
    }
   ],
   "source": [
    "fig, ax = plt.subplots()\n",
    "t = np.arange(0, len(ppg_filt))/segment_data.fs\n",
    "\n",
    "ax.plot(t, ppg,\n",
    "        linewidth=2.0,\n",
    "        color = 'blue',\n",
    "        label = \"original PPG\")\n",
    "\n",
    "ax.plot(t, ppg_filt,\n",
    "        linewidth=2.0,\n",
    "        color = 'red',\n",
    "        label = \"filtered PPG\")\n",
    "\n",
    "ax.set(xlim=(0, n_seconds_to_load))\n",
    "plt.xlabel('time (s)')\n",
    "plt.ylabel('PPG')\n",
    "plt.xlim([20, 45])\n",
    "\n",
    "plt.legend()\n",
    "plt.show()"
   ]
  },
  {
   "cell_type": "markdown",
   "metadata": {
    "id": "rJ4aQtFvpHWI"
   },
   "source": [
    "<div class=\"alert alert-block alert-warning\"><p><b>Note:</b> The PPG signals in MIMIC have already been filtered somewhat by the clinical monitors used to record them.</p></div>"
   ]
  },
  {
   "cell_type": "markdown",
   "metadata": {
    "id": "iJB6_3eUpHWI"
   },
   "source": [
    "<div class=\"alert alert-block alert-info\"><p><b>Further work:</b> Several different types of filters have been used to filter the PPG signal (e.g. Chebyshev filter, Butterworth filter). Have a look at <a href=\"https://doi.org/10.1038/sdata.2018.76\">this article</a> for examples of several filter types (on pp.8-9). Which type of filter do the authors recommend? Can you re-design the filter above to use this type of filter?</p></div>"
   ]
  },
  {
   "cell_type": "markdown",
   "metadata": {
    "id": "b5UDOyp8pHWI"
   },
   "source": [
    "## Prepare a segment of clean PPG signal for differentiation"
   ]
  },
  {
   "cell_type": "markdown",
   "metadata": {},
   "source": [
    "We'll now extract a segment of clean PPG signal, which we'll use to show the process of differentiation.\n",
    "\n",
    "_These first few steps are repeated from earlier in this tutorial._"
   ]
  },
  {
   "cell_type": "markdown",
   "metadata": {},
   "source": [
    "### Extract data"
   ]
  },
  {
   "cell_type": "markdown",
   "metadata": {},
   "source": [
    "- Specify the segment"
   ]
  },
  {
   "cell_type": "code",
   "execution_count": 62,
   "metadata": {},
   "outputs": [],
   "source": [
    "rel_segment_n = 8 \n",
    "rel_segment_name = segment_names[rel_segment_n]\n",
    "rel_segment_dir = segment_dirs[rel_segment_n]"
   ]
  },
  {
   "cell_type": "markdown",
   "metadata": {},
   "source": [
    "- Load the data for this segment"
   ]
  },
  {
   "cell_type": "code",
   "execution_count": 63,
   "metadata": {},
   "outputs": [
    {
     "name": "stdout",
     "output_type": "stream",
     "text": [
      "Metadata loaded from segment: 88995377_0001\n",
      "5 seconds of data extracted from: 88995377_0001\n",
      "Extracted the PPG signal from column 4 of the matrix of waveform data.\n"
     ]
    }
   ],
   "source": [
    "# Specify the segment of data to be loaded\n",
    "start_seconds = 100 # time since the start of the segment at which to begin extracting data\n",
    "n_seconds_to_load = 5\n",
    "\n",
    "# Load metadata for this record\n",
    "segment_metadata = wfdb.rdheader(record_name=rel_segment_name, pn_dir=rel_segment_dir) \n",
    "fs = round(segment_metadata.fs)\n",
    "print(f\"Metadata loaded from segment: {rel_segment_name}\")\n",
    "\n",
    "# Load data from this record\n",
    "sampfrom = fs*start_seconds\n",
    "sampto = fs*(start_seconds + n_seconds_to_load)\n",
    "segment_data = wfdb.rdrecord(record_name=rel_segment_name,\n",
    "                             sampfrom=sampfrom,\n",
    "                             sampto=sampto,\n",
    "                             pn_dir=rel_segment_dir)\n",
    "print(f\"{n_seconds_to_load} seconds of data extracted from: {rel_segment_name}\")\n",
    "\n",
    "# Extract the PPG signal\n",
    "sig_no = segment_data.sig_name.index('Pleth')\n",
    "ppg = segment_data.p_signal[:,sig_no]\n",
    "fs = segment_data.fs\n",
    "print(f\"Extracted the PPG signal from column {sig_no} of the matrix of waveform data.\")"
   ]
  },
  {
   "cell_type": "markdown",
   "metadata": {},
   "source": [
    "### Filter this signal segment"
   ]
  },
  {
   "cell_type": "markdown",
   "metadata": {},
   "source": [
    "- Filter the PPG signal"
   ]
  },
  {
   "cell_type": "code",
   "execution_count": 64,
   "metadata": {},
   "outputs": [],
   "source": [
    "ppg_filt = sp.sosfiltfilt(sos_ppg, ppg)"
   ]
  },
  {
   "cell_type": "markdown",
   "metadata": {},
   "source": [
    "### Plot the signal"
   ]
  },
  {
   "cell_type": "markdown",
   "metadata": {},
   "source": [
    "Plot the original and the filtered PPG signal"
   ]
  },
  {
   "cell_type": "markdown",
   "metadata": {},
   "source": [
    "- Import the packages required to plot the signal: [matplotlib](https://matplotlib.org/stable/index.html) which is used to create plots, and [NumPy](https://numpy.org/) which is used to create a time vector in this example."
   ]
  },
  {
   "cell_type": "code",
   "execution_count": 65,
   "metadata": {},
   "outputs": [],
   "source": [
    "from matplotlib import pyplot as plt\n",
    "import numpy as np"
   ]
  },
  {
   "cell_type": "markdown",
   "metadata": {},
   "source": [
    "- Make the plot"
   ]
  },
  {
   "cell_type": "code",
   "execution_count": 66,
   "metadata": {},
   "outputs": [
    {
     "data": {
      "image/png": "[encoded data removed]",
      "text/plain": [
       "<Figure size 432x288 with 1 Axes>"
      ]
     },
     "metadata": {
      "needs_background": "light"
     },
     "output_type": "display_data"
    }
   ],
   "source": [
    "fig, ax = plt.subplots()\n",
    "t = np.arange(0, len(ppg_filt)) / segment_data.fs\n",
    "\n",
    "ax.plot(t, ppg,\n",
    "        linewidth=2.0,\n",
    "        label = \"original PPG\")\n",
    "\n",
    "ax.plot(t, ppg_filt,\n",
    "        linewidth=2.0,\n",
    "        label = \"filtered PPG\")\n",
    "\n",
    "plt.xlabel('time (s)')\n",
    "plt.ylabel('PPG')\n",
    "\n",
    "plt.legend()\n",
    "plt.show()"
   ]
  },
  {
   "cell_type": "markdown",
   "metadata": {},
   "source": [
    "- We will use the filtered signal instead of the original PPG from now on."
   ]
  },
  {
   "cell_type": "markdown",
   "metadata": {},
   "source": [
    "## Differentiate the PPG signal"
   ]
  },
  {
   "cell_type": "markdown",
   "metadata": {},
   "source": [
    "### Differentiate using Savitzky-Golay filtering"
   ]
  },
  {
   "cell_type": "markdown",
   "metadata": {},
   "source": [
    "- Differentiate it once and twice using the [Savitzky-Golay filtering](https://docs.scipy.org/doc/scipy/reference/generated/scipy.signal.savgol_filter.html) function in SciPy"
   ]
  },
  {
   "cell_type": "code",
   "execution_count": 67,
   "metadata": {},
   "outputs": [],
   "source": [
    "# Calculate first derivative\n",
    "d1ppg = sp.savgol_filter(ppg_filt, 9, 5, deriv=1)\n",
    "\n",
    "# Calculate second derivative\n",
    "d2ppg = sp.savgol_filter(d1ppg, 9, 5, deriv=1) "
   ]
  },
  {
   "cell_type": "markdown",
   "metadata": {},
   "source": [
    "<div class=\"alert alert-block alert-warning\"><p><b>Resource:</b> Savitzky-Golay filtering, which is used here to calculate derivatives, is described in <a href=\"https://doi.org/10.1021/ac60214a047\">this article</a>.</p></div>"
   ]
  },
  {
   "cell_type": "markdown",
   "metadata": {},
   "source": [
    "<div class=\"alert alert-block alert-info\"><p><b>Question:</b> Can you summarise how Savitzky-Golay filtering works? What are its advantages in physiological signal processing?</p></div>"
   ]
  },
  {
   "cell_type": "markdown",
   "metadata": {},
   "source": [
    "### Plot the PPG and its derivatives"
   ]
  },
  {
   "cell_type": "code",
   "execution_count": 68,
   "metadata": {},
   "outputs": [
    {
     "data": {
      "image/png": "[encoded data removed]",
      "text/plain": [
       "<Figure size 432x288 with 3 Axes>"
      ]
     },
     "metadata": {
      "needs_background": "light"
     },
     "output_type": "display_data"
    }
   ],
   "source": [
    "t = np.arange(0, len(ppg_filt))/segment_data.fs\n",
    "\n",
    "fig, (ax1,ax2,ax3) = plt.subplots(3, 1, sharex = True, sharey = False)\n",
    "ax1.plot(t, ppg_filt)\n",
    "ax1.set(xlabel = '', ylabel = 'PPG')\n",
    "\n",
    "plt.suptitle('The PPG signal and its first and second derivatives')\n",
    "\n",
    "ax2.plot(t, d1ppg)\n",
    "ax2.set(xlabel = '',\n",
    "        ylabel = 'PPG\\'')\n",
    "\n",
    "ax3.plot(t, d2ppg)\n",
    "ax3.set(xlabel = 'Time (s)',\n",
    "        ylabel = 'PPG\\'\\'')\n",
    "\n",
    "plt.show()"
   ]
  },
  {
   "cell_type": "markdown",
   "metadata": {},
   "source": [
    "<div class=\"alert alert-block alert-info\"><p><b>Question:</b> How would the derivatives have looked different if the PPG signal hadn't been filtered before differentiation? <br> <b>Hint:</b> In the differentiation step above, try replacing 'ppg_filt' with 'ppg'.</p></div>"
   ]
  },
  {
   "cell_type": "markdown",
   "metadata": {},
   "source": [
    "<div class=\"alert alert-block alert-info\"><p><b>Question:</b> How would the derivatives have been different if the PPG signal had been filtered using different co-efficients?\n",
    "    <br> <b>Hint:</b> Above, try replacing the relatively wide band-pass frequencies '[0.7, 10]' with '[0.8, 3]'. \n",
    "    <br> <b>Consider:</b> Which band-pass frequencies would be most suitable for pulse wave analysis? How about heart rate estimation?</p>\n",
    "</div>"
   ]
  },
  {
   "cell_type": "markdown",
   "metadata": {},
   "source": [
    "### Comparison with a typical PPG pulse wave "
   ]
  },
  {
   "cell_type": "markdown",
   "metadata": {},
   "source": [
    "The figure below shows a typical PPG pulse wave recorded from a young, healthy subject."
   ]
  },
  {
   "cell_type": "markdown",
   "metadata": {},
   "source": [
    "![pic](https://upload.wikimedia.org/wikipedia/commons/b/b0/Photoplethysmogram_%28PPG%29_pulse_wave_fiducial_points.svg)"
   ]
  },
  {
   "cell_type": "markdown",
   "metadata": {},
   "source": [
    "_Source: Charlton PH, [Photoplethysmogram (PPG) pulse wave fiducial points](https://commons.wikimedia.org/wiki/File:Photoplethysmogram_\\(PPG\\)_pulse_wave_fiducial_points.svg), Wikimedia Commons (CC BY 4.0)._"
   ]
  },
  {
   "cell_type": "markdown",
   "metadata": {},
   "source": [
    "<div class=\"alert alert-block alert-info\"><p><b>Question:</b> How does this pulse wave shape and derivatives compare to the shape of those obtained from MIMIC data above? What might explain the differences?</p></div>"
   ]
  },
  {
   "cell_type": "markdown",
   "metadata": {},
   "source": [
    "<div class=\"alert alert-block alert-info\"><p><b>Extension:</b> Try using 'rel_segment_n=3' above (i.e. analysing segment '82439920_0004'). How do the pulse waves in this signal compare? What might that tell us about this patient?</p></div>"
   ]
  },
  {
   "cell_type": "markdown",
   "metadata": {},
   "source": [
    "<div class=\"alert alert-block alert-warning\"><p><b>Further reading:</b> <a href=\"https://doi.org/10.1161/01.HYP.32.2.365\">this article</a> provides further information on how age affects the shape of the PPG's second derivative.</p></div>"
   ]
  }
 ],
 "metadata": {
  "colab": {
   "name": "signal-filtering.ipynb",
   "provenance": []
  },
  "kernelspec": {
   "display_name": "Python 3",
   "language": "python",
   "name": "python3"
  },
  "language_info": {
   "codemirror_mode": {
    "name": "ipython",
    "version": 3
   },
   "file_extension": ".py",
   "mimetype": "text/x-python",
   "name": "python",
   "nbconvert_exporter": "python",
   "pygments_lexer": "ipython3",
   "version": "3.8.8"
  },
  "toc": {
   "base_numbering": 1,
   "nav_menu": {},
   "number_sections": true,
   "sideBar": true,
   "skip_h1_title": true,
   "title_cell": "Table of Contents",
   "title_sidebar": "Contents",
   "toc_cell": false,
   "toc_position": {},
   "toc_section_display": true,
   "toc_window_display": true
  }
 },
 "nbformat": 4,
 "nbformat_minor": 1
}
