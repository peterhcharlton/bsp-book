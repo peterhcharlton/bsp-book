{
  "cells": [
    {
      "cell_type": "markdown",
      "metadata": {
        "id": "97Ad8yROpHV8"
      },
      "source": [
        "# Filtering Signals\n",
        "In this tutorial we will practice filtering MIMIC waveform signals.\n",
        "\n",
        "Our **objectives** are to:\n",
        "- Filter signals using the [SciPy signal processing package](https://docs.scipy.org/doc/scipy/reference/signal.html).\n",
        "- Understand how to interpret the amplitude-response of a filter.\n",
        "- Gain experience in filtering PPG signals."
      ]
    },
    {
      "cell_type": "markdown",
      "metadata": {
        "id": "efztffyOpHV-"
      },
      "source": [
        "<div class=\"alert alert-block alert-warning\"><p><b>Context:</b> Filtering is used to eliminate noise from physiological signals. For instance, ECG signals can contain mains frequency noise due to electrical interference. Ideally, a filter would attenuate unwanted frequency content in a signal whilst retaining the physiological frequency content.</p></div>"
      ]
    },
    {
      "cell_type": "markdown",
      "metadata": {
        "id": "1y92CrBlpHV_"
      },
      "source": [
        "<div class=\"alert alert-block alert-info\"><p><b>Extension:</b> If you've not seen it before, then have a look at the <a href= https://docs.scipy.org/doc/scipy/reference/signal.html>SciPy signal processing package</a>. How might it be helpful for processing PPG signals?</p></div>"
      ]
    },
    {
      "cell_type": "markdown",
      "metadata": {
        "id": "McluxdGrpHV_"
      },
      "source": [
        "## Setup"
      ]
    },
    {
      "cell_type": "markdown",
      "metadata": {
        "id": "742rlU3ApHV_"
      },
      "source": [
        "_The following steps have been covered in previous tutorials. We'll just re-use the previous code here._"
      ]
    },
    {
      "cell_type": "code",
      "execution_count": null,
      "metadata": {
        "id": "byobDIEIpHV_"
      },
      "outputs": [],
      "source": [
        "# Packages\n",
        "import sys\n",
        "from pathlib import Path\n",
        "!pip install wfdb==4.0.0\n",
        "import wfdb\n",
        "\n",
        "# The name of the MIMIC IV Waveform Database on Physionet\n",
        "database_name = 'mimic4wdb/0.1.0'\n",
        "\n",
        "# Segment for analysis\n",
        "segment_names = ['83404654_0005',\n",
        "                 '82924339_0007']\n",
        "\n",
        "segment_dirs = ['mimic4wdb/0.1.0/waves/p100/p10020306/83404654',\n",
        "                'mimic4wdb/0.1.0/waves/p101/p10126957/82924339']\n",
        "\n",
        "rel_segment_n = 0\n",
        "rel_segment_name = segment_names[rel_segment_n]\n",
        "rel_segment_dir = segment_dirs[rel_segment_n]\n"
      ]
    },
    {
      "cell_type": "markdown",
      "metadata": {
        "id": "iUNUDMnopHWB"
      },
      "source": [
        "---\n",
        "## Extract one minute of PPG signal from this segment"
      ]
    },
    {
      "cell_type": "markdown",
      "metadata": {
        "id": "A0YsdFikpHWB"
      },
      "source": [
        "_These steps have been covered in previous tutorials, so we'll just re-use the code here._"
      ]
    },
    {
      "cell_type": "code",
      "execution_count": 2,
      "metadata": {
        "id": "2geoFoDBpHWC",
        "outputId": "29847fb7-2f05-4762-b311-e40ce5a6136c",
        "colab": {
          "base_uri": "https://localhost:8080/"
        }
      },
      "outputs": [
        {
          "output_type": "stream",
          "name": "stdout",
          "text": [
            "Metadata loaded from segment: 83404654_0005\n",
            "60 seconds of data extracted from: 83404654_0005\n",
            "Extracted the PPG signal from column 4 of the matrix of waveform data.\n"
          ]
        }
      ],
      "source": [
        "# time since the start of the segment at which to begin extracting data\n",
        "start_seconds = 20 \n",
        "n_seconds_to_load = 60\n",
        "\n",
        "segment_metadata = wfdb.rdheader(record_name=rel_segment_name, pn_dir=rel_segment_dir) \n",
        "print(f\"Metadata loaded from segment: {rel_segment_name}\")\n",
        "\n",
        "fs = round(segment_metadata.fs)\n",
        "sampfrom = fs*start_seconds\n",
        "sampto = fs*(start_seconds + n_seconds_to_load)\n",
        "\n",
        "segment_data = wfdb.rdrecord(record_name=rel_segment_name,\n",
        "                             sampfrom=sampfrom,\n",
        "                             sampto=sampto,\n",
        "                             pn_dir=rel_segment_dir)\n",
        "\n",
        "print(f\"{n_seconds_to_load} seconds of data extracted from: {rel_segment_name}\")\n",
        "\n",
        "for sig_no in range(0, len(segment_data.sig_name)):\n",
        "    if \"Pleth\" in segment_data.sig_name[sig_no]:\n",
        "        break\n",
        "\n",
        "ppg = segment_data.p_signal[:,sig_no]\n",
        "fs = segment_data.fs\n",
        "print(f\"Extracted the PPG signal from column {sig_no} of the matrix of waveform data.\")"
      ]
    },
    {
      "cell_type": "markdown",
      "metadata": {
        "id": "beaUjk5spHWC"
      },
      "source": [
        "---\n",
        "## Create a filter"
      ]
    },
    {
      "cell_type": "markdown",
      "metadata": {
        "id": "scLn9bVKpHWD"
      },
      "source": [
        "- Import the [SciPy signal processing package](https://docs.scipy.org/doc/scipy/tutorial/signal.html), which contains functions for filtering and differentiating."
      ]
    },
    {
      "cell_type": "code",
      "execution_count": 3,
      "metadata": {
        "id": "1db-InU9pHWD"
      },
      "outputs": [],
      "source": [
        "import scipy.signal as sp"
      ]
    },
    {
      "cell_type": "markdown",
      "metadata": {
        "id": "MuzX0XoCpHWD"
      },
      "source": [
        "- Specify the high- and low-pass filter cut-offs"
      ]
    },
    {
      "cell_type": "code",
      "execution_count": 4,
      "metadata": {
        "id": "cGKF92QTpHWD"
      },
      "outputs": [],
      "source": [
        "# Specify cutoff in Hertz\n",
        "lpf_cutoff = 0.7 \n",
        "hpf_cutoff = 10"
      ]
    },
    {
      "cell_type": "markdown",
      "metadata": {
        "id": "RtLUEaAHpHWE"
      },
      "source": [
        "- Create a Butterworth filter using the [butter](https://docs.scipy.org/doc/scipy/reference/generated/scipy.signal.butter.html) function"
      ]
    },
    {
      "cell_type": "code",
      "execution_count": 5,
      "metadata": {
        "id": "HmiOvyHZpHWE"
      },
      "outputs": [],
      "source": [
        "sos_ppg = sp.butter(10,\n",
        "                    [lpf_cutoff, hpf_cutoff],\n",
        "                    btype = 'bp',\n",
        "                    analog = False,\n",
        "                    output = 'sos',\n",
        "                    fs = segment_data.fs)\n",
        "\n",
        "w, h = sp.sosfreqz(sos_ppg,\n",
        "                   2000,\n",
        "                   fs = fs)"
      ]
    },
    {
      "cell_type": "markdown",
      "metadata": {
        "id": "k84fKyK6pHWE"
      },
      "source": [
        "- Plot filter characteristics"
      ]
    },
    {
      "cell_type": "code",
      "execution_count": 9,
      "metadata": {
        "id": "fjd8i8-SpHWE",
        "outputId": "951c910b-e786-4598-c568-6064effb9d71",
        "colab": {
          "base_uri": "https://localhost:8080/",
          "height": 295
        }
      },
      "outputs": [
        {
          "output_type": "display_data",
          "data": {
            "text/plain": [
              "<Figure size 432x288 with 1 Axes>"
            ],
            "image/png": "[encoded data removed]"
          },
          "metadata": {
            "needs_background": "light"
          }
        }
      ],
      "source": [
        "from matplotlib import pyplot as plt\n",
        "import numpy as np\n",
        "\n",
        "fig, ax = plt.subplots()\n",
        "\n",
        "ax.plot(w, 20 * np.log10(np.maximum(abs(h), 1e-5)))\n",
        "\n",
        "ax.set_title('Butterworth bandpass filter frequency response')\n",
        "ax.set_xlabel('Frequency [Hz]')\n",
        "ax.set_ylabel('Amplitude [dB]')\n",
        "ax.axis((0, 20, -100, 10))\n",
        "ax.grid(which='both',\n",
        "        axis='both')"
      ]
    },
    {
      "cell_type": "markdown",
      "metadata": {
        "id": "G26eXYXnpHWF"
      },
      "source": [
        "<div class=\"alert alert-block alert-info\"><p><b>Question:</b> What does this plot tell us about the filter characteristics? What types of noise does the filter attenuate?</p></div>"
      ]
    },
    {
      "cell_type": "markdown",
      "metadata": {
        "id": "JJD2n5hGpHWG"
      },
      "source": [
        "<div class=\"alert alert-block alert-warning\"><p><b>Explanation:</b> This function generates the co-efficients for a Butterworth filter. The filter-type is specified as 'bp' - a bandpass filtter. The filter frequencies are specified in Hz (because the sampling frequency, fs, has also been specified): a high-pass frequency of 0.7 Hz, and a low-pass frequency of 10 Hz.</p></div>"
      ]
    },
    {
      "cell_type": "markdown",
      "metadata": {
        "id": "dnSasCJ5pHWG"
      },
      "source": [
        "<div class=\"alert alert-block alert-info\"><p><b>Extension 1:</b> How could we re-design the filter to retain frequency content of up to 20 Hz, but eliminate mains frequencies?</p></div>"
      ]
    },
    {
      "cell_type": "markdown",
      "metadata": {
        "id": "3cLPjh14pHWG"
      },
      "source": [
        "<div class=\"alert alert-block alert-info\"><p><b>Extension 2:</b> What would be appropriate cut-off frequencies when using the PPG for different purposes, e.g. heart rate monitoring, or blood pressure estimation? See <a href=\"http://peterhcharlton.github.io/publication/wearable_ppg_chapter/\">this book chapter</a> (Sections 2.2.4 to 2.2.5 on Sampling Frequency and Bandwidth) for details.</p></div>"
      ]
    },
    {
      "cell_type": "markdown",
      "metadata": {
        "id": "s8NgRIcapHWH"
      },
      "source": [
        "---\n",
        "## Filter the PPG signal"
      ]
    },
    {
      "cell_type": "markdown",
      "metadata": {
        "id": "5QTJpU4lpHWH"
      },
      "source": [
        "- Filter the PPG signal in preparation for differentiation."
      ]
    },
    {
      "cell_type": "code",
      "execution_count": 7,
      "metadata": {
        "id": "AHbccVHppHWH"
      },
      "outputs": [],
      "source": [
        "ppg_filt = sp.sosfiltfilt(sos_ppg, ppg)"
      ]
    },
    {
      "cell_type": "markdown",
      "metadata": {
        "id": "Kw90DmO_pHWH"
      },
      "source": [
        "- Plot original and filtered PPG signals"
      ]
    },
    {
      "cell_type": "code",
      "execution_count": 8,
      "metadata": {
        "id": "g7E41qWdpHWI",
        "outputId": "40f0345d-83c9-439d-f449-72a30cce15c0",
        "colab": {
          "base_uri": "https://localhost:8080/",
          "height": 279
        }
      },
      "outputs": [
        {
          "output_type": "display_data",
          "data": {
            "text/plain": [
              "<Figure size 432x288 with 1 Axes>"
            ],
            "image/png": "[encoded data removed]"
          },
          "metadata": {
            "needs_background": "light"
          }
        }
      ],
      "source": [
        "fig, ax = plt.subplots()\n",
        "t = np.arange(0, len(ppg_filt))/segment_data.fs\n",
        "\n",
        "ax.plot(t, ppg,\n",
        "        linewidth=2.0,\n",
        "        color = 'blue',\n",
        "        label = \"original PPG\")\n",
        "\n",
        "ax.plot(t, ppg_filt,\n",
        "        linewidth=2.0,\n",
        "        color = 'red',\n",
        "        label = \"filtered PPG\")\n",
        "\n",
        "ax.set(xlim=(0, n_seconds_to_load))\n",
        "plt.xlabel('time (s)')\n",
        "plt.ylabel('PPG')\n",
        "plt.xlim([50, 60])\n",
        "\n",
        "plt.legend()\n",
        "plt.show()"
      ]
    },
    {
      "cell_type": "markdown",
      "metadata": {
        "id": "rJ4aQtFvpHWI"
      },
      "source": [
        "<div class=\"alert alert-block alert-warning\"><p><b>Note:</b> The PPG signals in MIMIC have already been filtered somewhat by the clinical monitors used to record them.</p></div>"
      ]
    },
    {
      "cell_type": "markdown",
      "metadata": {
        "id": "iJB6_3eUpHWI"
      },
      "source": [
        "<div class=\"alert alert-block alert-info\"><p><b>Further work:</b> Several different types of filters have been used to filter the PPG signal (e.g. Chebyshev filter, Butterworth filter). Have a look at <a href=\"https://doi.org/10.1038/sdata.2018.76\">this article</a> for examples of several filter types (on pp.8-9). Which type of filter do the authors recommend? Can you re-design the filter above to use this type of filter?</p></div>"
      ]
    },
    {
      "cell_type": "code",
      "execution_count": null,
      "metadata": {
        "id": "b5UDOyp8pHWI"
      },
      "outputs": [],
      "source": [
        ""
      ]
    }
  ],
  "metadata": {
    "kernelspec": {
      "display_name": "Python 3",
      "language": "python",
      "name": "python3"
    },
    "language_info": {
      "codemirror_mode": {
        "name": "ipython",
        "version": 3
      },
      "file_extension": ".py",
      "mimetype": "text/x-python",
      "name": "python",
      "nbconvert_exporter": "python",
      "pygments_lexer": "ipython3",
      "version": "3.8.8"
    },
    "toc": {
      "base_numbering": 1,
      "nav_menu": {},
      "number_sections": true,
      "sideBar": true,
      "skip_h1_title": true,
      "title_cell": "Table of Contents",
      "title_sidebar": "Contents",
      "toc_cell": false,
      "toc_position": {},
      "toc_section_display": true,
      "toc_window_display": true
    },
    "colab": {
      "name": "signal-filtering.ipynb",
      "provenance": []
    }
  },
  "nbformat": 4,
  "nbformat_minor": 0
}