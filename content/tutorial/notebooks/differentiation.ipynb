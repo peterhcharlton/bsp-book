{
  "cells": [
    {
      "cell_type": "markdown",
      "id": "5d037743",
      "metadata": {
        "id": "5d037743"
      },
      "source": [
        "# Differentiating the PPG signal\n",
        "In this tutorial we will learn how to differentiate physiological signals.\n",
        "\n",
        "Our **objectives** are to:\n",
        "- Apply [SciPy](https://docs.scipy.org/doc/scipy/index.html) functions for differentiating signals.\n",
        "- View typical shapes of the first and second derivatives of PPG signals."
      ]
    },
    {
      "cell_type": "markdown",
      "id": "e21e64d8",
      "metadata": {
        "id": "e21e64d8"
      },
      "source": [
        "<div class=\"alert alert-block alert-warning\"><p><b>Context:</b> Differentiating the PPG signal is a key step in identifying fiducial points on PPG pulse waves.</p></div>"
      ]
    },
    {
      "cell_type": "markdown",
      "id": "1afcdef9",
      "metadata": {
        "id": "1afcdef9"
      },
      "source": [
        "---\n",
        "## Setup"
      ]
    },
    {
      "cell_type": "markdown",
      "id": "edd8e0c5",
      "metadata": {
        "id": "edd8e0c5"
      },
      "source": [
        "_These steps have been covered in previous tutorials, so we'll just re-use the code here._"
      ]
    },
    {
      "cell_type": "code",
      "execution_count": null,
      "id": "ce3cdfde",
      "metadata": {
        "id": "ce3cdfde"
      },
      "outputs": [],
      "source": [
        "# Import packages\n",
        "import sys\n",
        "from pathlib import Path\n",
        "!pip install wfdb==4.0.0\n",
        "import wfdb"
      ]
    },
    {
      "cell_type": "code",
      "execution_count": 3,
      "id": "f8c8884c",
      "metadata": {
        "id": "f8c8884c"
      },
      "outputs": [],
      "source": [
        "# The name of the MIMIC-IV Waveform Database on PhysioNet\n",
        "database_name = 'mimic4wdb/0.1.0'\n",
        "\n",
        "# Segment for analysis\n",
        "segment_names = ['83404654_0005', '82924339_0007', '84248019_0005', '82439920_0004', '82800131_0002', '84304393_0001', '89464742_0001', '88958796_0004', '88995377_0001', '85230771_0004', '86643930_0004', '81250824_0005', '87706224_0003', '83058614_0005', '82803505_0017', '88574629_0001', '87867111_0012', '84560969_0001', '87562386_0001', '88685937_0001', '86120311_0001', '89866183_0014', '89068160_0002', '86380383_0001', '85078610_0008', '87702634_0007', '84686667_0002', '84802706_0002', '81811182_0004', '84421559_0005', '88221516_0007', '80057524_0005', '84209926_0018', '83959636_0010', '89989722_0016', '89225487_0007', '84391267_0001', '80889556_0002', '85250558_0011', '84567505_0005', '85814172_0007', '88884866_0005', '80497954_0012', '80666640_0014', '84939605_0004', '82141753_0018', '86874920_0014', '84505262_0010', '86288257_0001', '89699401_0001', '88537698_0013', '83958172_0001']\n",
        "segment_dirs = ['mimic4wdb/0.1.0/waves/p100/p10020306/83404654', 'mimic4wdb/0.1.0/waves/p101/p10126957/82924339', 'mimic4wdb/0.1.0/waves/p102/p10209410/84248019', 'mimic4wdb/0.1.0/waves/p109/p10952189/82439920', 'mimic4wdb/0.1.0/waves/p111/p11109975/82800131', 'mimic4wdb/0.1.0/waves/p113/p11392990/84304393', 'mimic4wdb/0.1.0/waves/p121/p12168037/89464742', 'mimic4wdb/0.1.0/waves/p121/p12173569/88958796', 'mimic4wdb/0.1.0/waves/p121/p12188288/88995377', 'mimic4wdb/0.1.0/waves/p128/p12872596/85230771', 'mimic4wdb/0.1.0/waves/p129/p12933208/86643930', 'mimic4wdb/0.1.0/waves/p130/p13016481/81250824', 'mimic4wdb/0.1.0/waves/p132/p13240081/87706224', 'mimic4wdb/0.1.0/waves/p136/p13624686/83058614', 'mimic4wdb/0.1.0/waves/p137/p13791821/82803505', 'mimic4wdb/0.1.0/waves/p141/p14191565/88574629', 'mimic4wdb/0.1.0/waves/p142/p14285792/87867111', 'mimic4wdb/0.1.0/waves/p143/p14356077/84560969', 'mimic4wdb/0.1.0/waves/p143/p14363499/87562386', 'mimic4wdb/0.1.0/waves/p146/p14695840/88685937', 'mimic4wdb/0.1.0/waves/p149/p14931547/86120311', 'mimic4wdb/0.1.0/waves/p151/p15174162/89866183', 'mimic4wdb/0.1.0/waves/p153/p15312343/89068160', 'mimic4wdb/0.1.0/waves/p153/p15342703/86380383', 'mimic4wdb/0.1.0/waves/p155/p15552902/85078610', 'mimic4wdb/0.1.0/waves/p156/p15649186/87702634', 'mimic4wdb/0.1.0/waves/p158/p15857793/84686667', 'mimic4wdb/0.1.0/waves/p158/p15865327/84802706', 'mimic4wdb/0.1.0/waves/p158/p15896656/81811182', 'mimic4wdb/0.1.0/waves/p159/p15920699/84421559', 'mimic4wdb/0.1.0/waves/p160/p16034243/88221516', 'mimic4wdb/0.1.0/waves/p165/p16566444/80057524', 'mimic4wdb/0.1.0/waves/p166/p16644640/84209926', 'mimic4wdb/0.1.0/waves/p167/p16709726/83959636', 'mimic4wdb/0.1.0/waves/p167/p16715341/89989722', 'mimic4wdb/0.1.0/waves/p168/p16818396/89225487', 'mimic4wdb/0.1.0/waves/p170/p17032851/84391267', 'mimic4wdb/0.1.0/waves/p172/p17229504/80889556', 'mimic4wdb/0.1.0/waves/p173/p17301721/85250558', 'mimic4wdb/0.1.0/waves/p173/p17325001/84567505', 'mimic4wdb/0.1.0/waves/p174/p17490822/85814172', 'mimic4wdb/0.1.0/waves/p177/p17738824/88884866', 'mimic4wdb/0.1.0/waves/p177/p17744715/80497954', 'mimic4wdb/0.1.0/waves/p179/p17957832/80666640', 'mimic4wdb/0.1.0/waves/p180/p18080257/84939605', 'mimic4wdb/0.1.0/waves/p181/p18109577/82141753', 'mimic4wdb/0.1.0/waves/p183/p18324626/86874920', 'mimic4wdb/0.1.0/waves/p187/p18742074/84505262', 'mimic4wdb/0.1.0/waves/p188/p18824975/86288257', 'mimic4wdb/0.1.0/waves/p191/p19126489/89699401', 'mimic4wdb/0.1.0/waves/p193/p19313794/88537698', 'mimic4wdb/0.1.0/waves/p196/p19619764/83958172']\n",
        "\n",
        "# Segment 3 and 8 are helpful\n",
        "rel_segment_n = 8 \n",
        "rel_segment_name = segment_names[rel_segment_n]\n",
        "rel_segment_dir = segment_dirs[rel_segment_n]"
      ]
    },
    {
      "cell_type": "markdown",
      "id": "61a223f7",
      "metadata": {
        "id": "61a223f7"
      },
      "source": [
        "---\n",
        "## Extract one minute of PPG signal from this segment"
      ]
    },
    {
      "cell_type": "markdown",
      "id": "0c587f1d",
      "metadata": {
        "id": "0c587f1d"
      },
      "source": [
        "_These steps have been covered in previous tutorials, so we'll just re-use the code here._"
      ]
    },
    {
      "cell_type": "code",
      "execution_count": 5,
      "id": "48891a4b",
      "metadata": {
        "id": "48891a4b",
        "outputId": "583d3f99-0d01-4e0b-f4fc-11c910ec566e",
        "colab": {
          "base_uri": "https://localhost:8080/"
        }
      },
      "outputs": [
        {
          "output_type": "stream",
          "name": "stdout",
          "text": [
            "Metadata loaded from segment: 88995377_0001\n",
            "5 seconds of data extracted from: 88995377_0001\n",
            "Extracted the PPG signal from column 4 of the matrix of waveform data.\n"
          ]
        }
      ],
      "source": [
        "# time since the start of the segment at which to begin extracting data\n",
        "start_seconds = 100 \n",
        "no_seconds_to_load = 5\n",
        "\n",
        "segment_metadata = wfdb.rdheader(record_name=rel_segment_name,\n",
        "                                 pn_dir=rel_segment_dir) \n",
        "print(f\"Metadata loaded from segment: {rel_segment_name}\")\n",
        "\n",
        "fs = round(segment_metadata.fs)\n",
        "sampfrom = fs*start_seconds\n",
        "sampto = fs*(start_seconds + no_seconds_to_load)\n",
        "\n",
        "segment_data = wfdb.rdrecord(record_name=rel_segment_name,\n",
        "                             sampfrom=sampfrom,\n",
        "                             sampto=sampto,\n",
        "                             pn_dir=rel_segment_dir) \n",
        "\n",
        "print(f\"{no_seconds_to_load} seconds of data extracted from: {rel_segment_name}\")\n",
        "\n",
        "for sig_no in range(0, len(segment_data.sig_name)):\n",
        "    if \"Pleth\" in segment_data.sig_name[sig_no]:\n",
        "        break\n",
        "\n",
        "ppg = segment_data.p_signal[:,sig_no]\n",
        "fs = segment_data.fs\n",
        "\n",
        "print(f\"Extracted the PPG signal from column {sig_no} of the matrix of waveform data.\")"
      ]
    },
    {
      "cell_type": "markdown",
      "id": "fda3cdf7",
      "metadata": {
        "id": "fda3cdf7"
      },
      "source": [
        "---\n",
        "## Filter the data"
      ]
    },
    {
      "cell_type": "markdown",
      "id": "b21086dc",
      "metadata": {
        "id": "b21086dc"
      },
      "source": [
        "_These steps have been covered in previous tutorials, so we'll just re-use the code here._"
      ]
    },
    {
      "cell_type": "code",
      "execution_count": 6,
      "id": "75fd6b99",
      "metadata": {
        "id": "75fd6b99"
      },
      "outputs": [],
      "source": [
        "# package\n",
        "import scipy.signal as sp\n",
        "\n",
        "# filter cut-offs\n",
        "lpf_cutoff = 0.7 # Hz\n",
        "hpf_cutoff = 10 # Hz\n",
        "\n",
        "# create filter\n",
        "sos_ppg = sp.butter(10, [lpf_cutoff, hpf_cutoff],\n",
        "                    btype = 'bp',\n",
        "                    analog = False,\n",
        "                    output = 'sos',\n",
        "                    fs = segment_data.fs)\n",
        "\n",
        "w, h = sp.sosfreqz(sos_ppg, 2000, fs = fs)\n",
        "\n",
        "# filter PPG\n",
        "ppg_filt = sp.sosfiltfilt(sos_ppg, ppg)"
      ]
    },
    {
      "cell_type": "markdown",
      "id": "f28059ee",
      "metadata": {
        "id": "f28059ee"
      },
      "source": [
        "- Import the packages required to plot the signal: [matplotlib](https://matplotlib.org/stable/index.html) which is used to create plots, and [NumPy](https://numpy.org/) which is used to create a time vector in this example."
      ]
    },
    {
      "cell_type": "code",
      "execution_count": 7,
      "id": "f9cba97c",
      "metadata": {
        "id": "f9cba97c"
      },
      "outputs": [],
      "source": [
        "from matplotlib import pyplot as plt\n",
        "import numpy as np"
      ]
    },
    {
      "cell_type": "markdown",
      "id": "65a2f117",
      "metadata": {
        "id": "65a2f117"
      },
      "source": [
        "- Plot the original and the filtered PPG signal"
      ]
    },
    {
      "cell_type": "code",
      "execution_count": 8,
      "id": "68af0c37",
      "metadata": {
        "id": "68af0c37",
        "outputId": "b6370eb2-2f7d-41c9-bdd6-5288bf718a0d",
        "colab": {
          "base_uri": "https://localhost:8080/",
          "height": 279
        }
      },
      "outputs": [
        {
          "output_type": "display_data",
          "data": {
            "text/plain": [
              "<Figure size 432x288 with 1 Axes>"
            ],
            "image/png": "[encoded data removed]"
          },
          "metadata": {
            "needs_background": "light"
          }
        }
      ],
      "source": [
        "fig, ax = plt.subplots()\n",
        "t = np.arange(0, len(ppg_filt)) / segment_data.fs\n",
        "\n",
        "ax.plot(t, ppg,\n",
        "        linewidth=2.0,\n",
        "        label = \"original PPG\")\n",
        "\n",
        "ax.plot(t, ppg_filt,\n",
        "        linewidth=2.0,\n",
        "        label = \"filtered PPG\")\n",
        "\n",
        "ax.set(xlim=(0, no_seconds_to_load))\n",
        "plt.xlabel('time (s)')\n",
        "plt.ylabel('PPG')\n",
        "\n",
        "plt.legend()\n",
        "plt.show()"
      ]
    },
    {
      "cell_type": "markdown",
      "id": "83f24a1b",
      "metadata": {
        "id": "83f24a1b"
      },
      "source": [
        "- We will use the filtered signal instead of the original PPG from now on."
      ]
    },
    {
      "cell_type": "markdown",
      "id": "89e538fb",
      "metadata": {
        "id": "89e538fb"
      },
      "source": [
        "---\n",
        "## Differentiate the PPG signal"
      ]
    },
    {
      "cell_type": "markdown",
      "id": "4c17b93f",
      "metadata": {
        "id": "4c17b93f"
      },
      "source": [
        "- Differentiate it once and twice using the [Savitzky-Golay filtering](https://docs.scipy.org/doc/scipy/reference/generated/scipy.signal.savgol_filter.html) function in SciPy"
      ]
    },
    {
      "cell_type": "code",
      "execution_count": 9,
      "id": "351342c9",
      "metadata": {
        "id": "351342c9"
      },
      "outputs": [],
      "source": [
        "# Calculate first derivative\n",
        "d1ppg = sp.savgol_filter(ppg_filt, 9, 5, deriv=1)\n",
        "\n",
        "# Calculate second derivative\n",
        "d2ppg = sp.savgol_filter(ppg_filt, 9, 5, deriv=2) "
      ]
    },
    {
      "cell_type": "markdown",
      "id": "60597b8e",
      "metadata": {
        "id": "60597b8e"
      },
      "source": [
        "<div class=\"alert alert-block alert-warning\"><p><b>Resource:</b> Savitzky-Golay filtering, which is used here to calculate derivatives, is described in <a href=\"https://doi.org/10.1021/ac60214a047\">this article</a>.</p></div>"
      ]
    },
    {
      "cell_type": "markdown",
      "id": "d25eb409",
      "metadata": {
        "id": "d25eb409"
      },
      "source": [
        "<div class=\"alert alert-block alert-info\"><p><b>Question:</b> Can you summarise how Savitzky-Golay filtering works? What are its advantages in physiological signal processing?</p></div>"
      ]
    },
    {
      "cell_type": "markdown",
      "id": "20a17e39",
      "metadata": {
        "id": "20a17e39"
      },
      "source": [
        "---\n",
        "## Plot the PPG and its derivatives"
      ]
    },
    {
      "cell_type": "code",
      "execution_count": 10,
      "id": "f7cc2de0",
      "metadata": {
        "id": "f7cc2de0"
      },
      "outputs": [],
      "source": [
        "from matplotlib import pyplot as plt\n",
        "import numpy as np"
      ]
    },
    {
      "cell_type": "code",
      "execution_count": 11,
      "id": "62850216",
      "metadata": {
        "id": "62850216",
        "outputId": "f158e324-d142-44ba-b705-2baaa11a4594",
        "colab": {
          "base_uri": "https://localhost:8080/",
          "height": 308
        }
      },
      "outputs": [
        {
          "output_type": "display_data",
          "data": {
            "text/plain": [
              "<Figure size 432x288 with 3 Axes>"
            ],
            "image/png": "[encoded data removed]"
          },
          "metadata": {
            "needs_background": "light"
          }
        }
      ],
      "source": [
        "t = np.arange(0, len(ppg_filt))/segment_data.fs\n",
        "\n",
        "fig, (ax1,ax2,ax3) = plt.subplots(3, 1, sharex = True, sharey = False)\n",
        "ax1.plot(t, ppg_filt)\n",
        "ax1.set(xlabel = '', ylabel = 'PPG')\n",
        "\n",
        "plt.suptitle('The PPG signal and its first and second derivatives')\n",
        "\n",
        "ax2.plot(t, d1ppg)\n",
        "ax2.set(xlabel = '',\n",
        "        ylabel = 'PPG\\'')\n",
        "\n",
        "ax3.plot(t, d2ppg)\n",
        "ax3.set(xlabel = 'Time (s)',\n",
        "        ylabel = 'PPG\\'\\'')\n",
        "\n",
        "plt.show()"
      ]
    },
    {
      "cell_type": "markdown",
      "id": "556b9ff6",
      "metadata": {
        "id": "556b9ff6"
      },
      "source": [
        "<div class=\"alert alert-block alert-info\"><p><b>Question:</b> How would the derivatives have looked different if the PPG signal hadn't been filtered before differentiation? <br> <b>Hint:</b> In the differentiation step above, try replacing 'ppg_filt' with 'ppg'.</p></div>"
      ]
    },
    {
      "cell_type": "markdown",
      "id": "47bd06f1",
      "metadata": {
        "id": "47bd06f1"
      },
      "source": [
        "<div class=\"alert alert-block alert-info\"><p><b>Question:</b> How would the derivatives have been different if the PPG signal had been filtered using different co-efficients?\n",
        "    <br> <b>Hint:</b> Above, try replacing the relatively wide band-pass frequencies '[0.7, 10]' with '[0.8, 3]'. \n",
        "    <br> <b>Consider:</b> Which band-pass frequencies would be most suitable for pulse wave analysis? How about heart rate estimation?</p>\n",
        "</div>"
      ]
    },
    {
      "cell_type": "markdown",
      "id": "8be393de",
      "metadata": {
        "id": "8be393de"
      },
      "source": [
        "## Comparison with typical PPG pulse wave "
      ]
    },
    {
      "cell_type": "markdown",
      "id": "b8d4215b",
      "metadata": {
        "id": "b8d4215b"
      },
      "source": [
        "The figure below shows a typical PPG pulse wave recorded from a young, healthy subject."
      ]
    },
    {
      "cell_type": "markdown",
      "id": "4cb06fc4",
      "metadata": {
        "id": "4cb06fc4"
      },
      "source": [
        "![pic](https://upload.wikimedia.org/wikipedia/commons/b/b0/Photoplethysmogram_%28PPG%29_pulse_wave_fiducial_points.svg)"
      ]
    },
    {
      "cell_type": "markdown",
      "id": "913b56d4",
      "metadata": {
        "id": "913b56d4"
      },
      "source": [
        "_Source: Charlton PH, [Photoplethysmogram (PPG) pulse wave fiducial points](https://commons.wikimedia.org/wiki/File:Photoplethysmogram_\\(PPG\\)_pulse_wave_fiducial_points.svg), Wikimedia Commons (CC BY 4.0)._"
      ]
    },
    {
      "cell_type": "markdown",
      "id": "29d096c6",
      "metadata": {
        "id": "29d096c6"
      },
      "source": [
        "<div class=\"alert alert-block alert-info\"><p><b>Question:</b> How does this pulse wave shape and derivatives compare to the shape of those obtained from MIMIC data above? What might explain the differences?</p></div>"
      ]
    },
    {
      "cell_type": "markdown",
      "id": "dabced47",
      "metadata": {
        "id": "dabced47"
      },
      "source": [
        "<div class=\"alert alert-block alert-info\"><p><b>Extension:</b> Try using 'rel_segment_n=3' above (i.e. analysing segment '82439920_0004'). How do the pulse waves in this signal compare? What might that tell us about this patient?</p></div>"
      ]
    },
    {
      "cell_type": "markdown",
      "id": "82ef9fc0",
      "metadata": {
        "id": "82ef9fc0"
      },
      "source": [
        "<div class=\"alert alert-block alert-warning\"><p><b>Further reading:</b> <a href=\"https://doi.org/10.1161/01.HYP.32.2.365\">this article</a> provides further information on how age affects the shape of the PPG's second derivative.</p></div>"
      ]
    },
    {
      "cell_type": "code",
      "execution_count": null,
      "id": "af784493",
      "metadata": {
        "id": "af784493"
      },
      "outputs": [],
      "source": [
        ""
      ]
    }
  ],
  "metadata": {
    "kernelspec": {
      "display_name": "Python 3",
      "language": "python",
      "name": "python3"
    },
    "language_info": {
      "codemirror_mode": {
        "name": "ipython",
        "version": 3
      },
      "file_extension": ".py",
      "mimetype": "text/x-python",
      "name": "python",
      "nbconvert_exporter": "python",
      "pygments_lexer": "ipython3",
      "version": "3.8.8"
    },
    "toc": {
      "base_numbering": 1,
      "nav_menu": {},
      "number_sections": true,
      "sideBar": true,
      "skip_h1_title": true,
      "title_cell": "Table of Contents",
      "title_sidebar": "Contents",
      "toc_cell": false,
      "toc_position": {},
      "toc_section_display": true,
      "toc_window_display": true
    },
    "colab": {
      "name": "differentiation.ipynb",
      "provenance": []
    }
  },
  "nbformat": 4,
  "nbformat_minor": 5
}