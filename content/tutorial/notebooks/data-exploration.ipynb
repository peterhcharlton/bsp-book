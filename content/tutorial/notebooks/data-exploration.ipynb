{
 "cells": [
  {
   "cell_type": "markdown",
   "id": "5d037743",
   "metadata": {
    "id": "5d037743"
   },
   "source": [
    "# Exploring MIMIC"
   ]
  },
  {
   "cell_type": "markdown",
   "id": "fbae8e9b",
   "metadata": {
    "id": "fbae8e9b"
   },
   "source": [
    "Let's begin by exploring data in the MIMIC Waveform Database.\n",
    "\n",
    "Our **objectives** are to:\n",
    "- Review the structure of the MIMIC Waveform Database (considering subjects, studies, records, and segments).\n",
    "- Find out which signals are present in selected records and segments, and how long the signals last.\n",
    "- Search for records that contain signals of interest.\n",
    "- Load waveforms using the WFDB toolbox.\n",
    "- Plot one minute of signals from a segment of data\n",
    "- Look more closely at the shape of the PPG pulse waves"
   ]
  },
  {
   "cell_type": "markdown",
   "id": "0b240726",
   "metadata": {
    "id": "0b240726"
   },
   "source": [
    "<div class=\"alert alert-block alert-warning\">\n",
    "<p><b>Resource:</b> You can find out more about the MIMIC Waveform Database <a href=\"https://physionet.org/content/mimic4wdb/0.1.0/\">here</a>.</p>\n",
    "</div>"
   ]
  },
  {
   "cell_type": "markdown",
   "id": "28b8e213",
   "metadata": {
    "id": "28b8e213"
   },
   "source": [
    "---\n",
    "## Setup"
   ]
  },
  {
   "cell_type": "markdown",
   "id": "5dac032e",
   "metadata": {
    "id": "5dac032e"
   },
   "source": [
    "### Specify the required Python packages\n",
    "We'll import the following:\n",
    "- _sys_: an essential python package\n",
    "- _pathlib_ (well a particular function from _pathlib_, called _Path_)"
   ]
  },
  {
   "cell_type": "code",
   "execution_count": 1,
   "id": "ce3cdfde",
   "metadata": {
    "id": "ce3cdfde"
   },
   "outputs": [],
   "source": [
    "import sys\n",
    "from pathlib import Path"
   ]
  },
  {
   "cell_type": "markdown",
   "id": "9976c5e4",
   "metadata": {
    "id": "9976c5e4"
   },
   "source": [
    "### Specify a particular version of the WFDB Toolbox"
   ]
  },
  {
   "cell_type": "markdown",
   "id": "6533154b",
   "metadata": {
    "id": "6533154b"
   },
   "source": [
    "- _wfdb_: For this workshop we will be using version 4 of the WaveForm DataBase (WFDB) Toolbox package. The package contains tools for processing waveform data such as those found in MIMIC:"
   ]
  },
  {
   "cell_type": "code",
   "execution_count": 2,
   "id": "5fdfa989",
   "metadata": {
    "id": "5fdfa989"
   },
   "outputs": [
    {
     "name": "stdout",
     "output_type": "stream",
     "text": [
      "Requirement already satisfied: wfdb==4.1.0 in /Users/petercharlton/anaconda3/lib/python3.8/site-packages (4.1.0)\n",
      "Requirement already satisfied: matplotlib<4.0.0,>=3.2.2 in /Users/petercharlton/anaconda3/lib/python3.8/site-packages (from wfdb==4.1.0) (3.3.4)\n",
      "Requirement already satisfied: pandas<2.0.0,>=1.0.0 in /Users/petercharlton/anaconda3/lib/python3.8/site-packages (from wfdb==4.1.0) (1.2.4)\n",
      "Requirement already satisfied: SoundFile<0.12.0,>=0.10.0 in /Users/petercharlton/anaconda3/lib/python3.8/site-packages (from wfdb==4.1.0) (0.10.3.post1)\n",
      "Requirement already satisfied: numpy<2.0.0,>=1.10.1 in /Users/petercharlton/anaconda3/lib/python3.8/site-packages (from wfdb==4.1.0) (1.20.1)\n",
      "Requirement already satisfied: scipy<2.0.0,>=1.0.0 in /Users/petercharlton/anaconda3/lib/python3.8/site-packages (from wfdb==4.1.0) (1.6.2)\n",
      "Requirement already satisfied: requests<3.0.0,>=2.8.1 in /Users/petercharlton/anaconda3/lib/python3.8/site-packages (from wfdb==4.1.0) (2.25.1)\n",
      "Requirement already satisfied: pyparsing!=2.0.4,!=2.1.2,!=2.1.6,>=2.0.3 in /Users/petercharlton/anaconda3/lib/python3.8/site-packages (from matplotlib<4.0.0,>=3.2.2->wfdb==4.1.0) (2.4.7)\n",
      "Requirement already satisfied: kiwisolver>=1.0.1 in /Users/petercharlton/anaconda3/lib/python3.8/site-packages (from matplotlib<4.0.0,>=3.2.2->wfdb==4.1.0) (1.3.1)\n",
      "Requirement already satisfied: python-dateutil>=2.1 in /Users/petercharlton/anaconda3/lib/python3.8/site-packages (from matplotlib<4.0.0,>=3.2.2->wfdb==4.1.0) (2.8.1)\n",
      "Requirement already satisfied: pillow>=6.2.0 in /Users/petercharlton/anaconda3/lib/python3.8/site-packages (from matplotlib<4.0.0,>=3.2.2->wfdb==4.1.0) (8.2.0)\n",
      "Requirement already satisfied: cycler>=0.10 in /Users/petercharlton/anaconda3/lib/python3.8/site-packages (from matplotlib<4.0.0,>=3.2.2->wfdb==4.1.0) (0.10.0)\n",
      "Requirement already satisfied: six in /Users/petercharlton/anaconda3/lib/python3.8/site-packages (from cycler>=0.10->matplotlib<4.0.0,>=3.2.2->wfdb==4.1.0) (1.15.0)\n",
      "Requirement already satisfied: pytz>=2017.3 in /Users/petercharlton/anaconda3/lib/python3.8/site-packages (from pandas<2.0.0,>=1.0.0->wfdb==4.1.0) (2021.1)\n",
      "Requirement already satisfied: certifi>=2017.4.17 in /Users/petercharlton/anaconda3/lib/python3.8/site-packages (from requests<3.0.0,>=2.8.1->wfdb==4.1.0) (2022.12.7)\n",
      "Requirement already satisfied: idna<3,>=2.5 in /Users/petercharlton/anaconda3/lib/python3.8/site-packages (from requests<3.0.0,>=2.8.1->wfdb==4.1.0) (2.10)\n",
      "Requirement already satisfied: chardet<5,>=3.0.2 in /Users/petercharlton/anaconda3/lib/python3.8/site-packages (from requests<3.0.0,>=2.8.1->wfdb==4.1.0) (4.0.0)\n",
      "Requirement already satisfied: urllib3<1.27,>=1.21.1 in /Users/petercharlton/anaconda3/lib/python3.8/site-packages (from requests<3.0.0,>=2.8.1->wfdb==4.1.0) (1.26.4)\n",
      "Requirement already satisfied: cffi>=1.0 in /Users/petercharlton/anaconda3/lib/python3.8/site-packages (from SoundFile<0.12.0,>=0.10.0->wfdb==4.1.0) (1.14.5)\n",
      "Requirement already satisfied: pycparser in /Users/petercharlton/anaconda3/lib/python3.8/site-packages (from cffi>=1.0->SoundFile<0.12.0,>=0.10.0->wfdb==4.1.0) (2.20)\n"
     ]
    }
   ],
   "source": [
    "!pip install wfdb==4.1.0\n",
    "import wfdb"
   ]
  },
  {
   "cell_type": "markdown",
   "id": "e11ce5b6",
   "metadata": {
    "id": "e11ce5b6"
   },
   "source": [
    "<div class=\"alert alert-block alert-warning\">\n",
    "<p><b>Resource:</b> You can find out more about the WFDB package <a href=\"https://physionet.org/content/wfdb-python/3.4.1/\">here</a>.</p>\n",
    "</div>"
   ]
  },
  {
   "cell_type": "markdown",
   "id": "d492e49f",
   "metadata": {
    "id": "d492e49f"
   },
   "source": [
    "Now that we have imported these packages (_i.e._ toolboxes) we have a set of tools (functions) ready to use."
   ]
  },
  {
   "cell_type": "markdown",
   "id": "e7d38297",
   "metadata": {
    "id": "e7d38297"
   },
   "source": [
    "### Specify the name of the MIMIC Waveform Database"
   ]
  },
  {
   "cell_type": "markdown",
   "id": "68491718",
   "metadata": {
    "id": "68491718"
   },
   "source": [
    "- Specify the name of the MIMIC IV Waveform Database on Physionet, which comes from the URL: https://physionet.org/content/mimic4wdb/0.1.0/"
   ]
  },
  {
   "cell_type": "code",
   "execution_count": 3,
   "id": "982b8154",
   "metadata": {
    "id": "982b8154"
   },
   "outputs": [],
   "source": [
    "database_name = 'mimic4wdb/0.1.0'"
   ]
  },
  {
   "cell_type": "markdown",
   "id": "e49196a6",
   "metadata": {
    "id": "e49196a6"
   },
   "source": [
    "---\n",
    "## Identify the records in the database"
   ]
  },
  {
   "cell_type": "markdown",
   "id": "b476f9b7",
   "metadata": {
    "id": "b476f9b7"
   },
   "source": [
    "### Get a list of records\n",
    "\n",
    "- Use the [`get_record_list`](https://wfdb.readthedocs.io/en/latest/io.html#wfdb.io.get_record_list) function from the WFDB toolbox to get a list of records in the database."
   ]
  },
  {
   "cell_type": "code",
   "execution_count": 4,
   "id": "d91aa6a7",
   "metadata": {
    "colab": {
     "base_uri": "https://localhost:8080/"
    },
    "id": "d91aa6a7",
    "outputId": "db8e3169-76ac-4bdd-bbaa-91cf626c1a6b"
   },
   "outputs": [
    {
     "name": "stdout",
     "output_type": "stream",
     "text": [
      "The 'mimic4wdb/0.1.0' database contains data from 198 subjects\n"
     ]
    }
   ],
   "source": [
    "# each subject may be associated with multiple records\n",
    "subjects = wfdb.get_record_list(database_name)\n",
    "print(f\"The '{database_name}' database contains data from {len(subjects)} subjects\")\n",
    "\n",
    "# set max number of records to load\n",
    "max_records_to_load = 200"
   ]
  },
  {
   "cell_type": "code",
   "execution_count": 5,
   "id": "0RzQmqjiQ9LD",
   "metadata": {
    "colab": {
     "base_uri": "https://localhost:8080/"
    },
    "id": "0RzQmqjiQ9LD",
    "outputId": "31eb6067-de92-4424-b32b-f292623215a5"
   },
   "outputs": [
    {
     "name": "stdout",
     "output_type": "stream",
     "text": [
      "Reached maximum required number of records.\n",
      "Loaded 200 records from the 'mimic4wdb/0.1.0' database.\n"
     ]
    }
   ],
   "source": [
    "# iterate the subjects to get a list of records\n",
    "records = []\n",
    "for subject in subjects:\n",
    "    studies = wfdb.get_record_list(f'{database_name}/{subject}')\n",
    "    for study in studies:\n",
    "        records.append(Path(f'{subject}{study}'))\n",
    "        # stop if we've loaded enough records\n",
    "        if len(records) >= max_records_to_load:\n",
    "            print(\"Reached maximum required number of records.\")\n",
    "            break\n",
    "\n",
    "print(f\"Loaded {len(records)} records from the '{database_name}' database.\")"
   ]
  },
  {
   "cell_type": "markdown",
   "id": "fc82d67e",
   "metadata": {
    "id": "fc82d67e"
   },
   "source": [
    "### Look at the records"
   ]
  },
  {
   "cell_type": "markdown",
   "id": "29552f5a",
   "metadata": {
    "id": "29552f5a"
   },
   "source": [
    "- Display the first few records"
   ]
  },
  {
   "cell_type": "code",
   "execution_count": 6,
   "id": "bb5745a7",
   "metadata": {
    "colab": {
     "base_uri": "https://localhost:8080/"
    },
    "id": "bb5745a7",
    "outputId": "8fe32e59-c542-4a40-bd06-0c04fdcfbbfe"
   },
   "outputs": [
    {
     "name": "stdout",
     "output_type": "stream",
     "text": [
      "First five records: \n",
      " - waves/p100/p10014354/81739927/81739927\n",
      " - waves/p100/p10019003/87033314/87033314\n",
      " - waves/p100/p10020306/83404654/83404654\n",
      " - waves/p100/p10039708/83411188/83411188\n",
      " - waves/p100/p10039708/85583557/85583557\n",
      "\n",
      "Note the formatting of these records:\n",
      " - intermediate directory ('p100' in this case)\n",
      " - subject identifier (e.g. 'p10014354')\n",
      " - record identifier (e.g. '81739927'\n",
      " \n"
     ]
    }
   ],
   "source": [
    "# format and print first five records\n",
    "first_five_records = [str(x) for x in records[0:5]]\n",
    "first_five_records = \"\\n - \".join(first_five_records)\n",
    "print(f\"First five records: \\n - {first_five_records}\")\n",
    "\n",
    "print(\"\"\"\n",
    "Note the formatting of these records:\n",
    " - intermediate directory ('p100' in this case)\n",
    " - subject identifier (e.g. 'p10014354')\n",
    " - record identifier (e.g. '81739927'\n",
    " \"\"\")"
   ]
  },
  {
   "cell_type": "markdown",
   "id": "b56c29d5",
   "metadata": {
    "id": "b56c29d5"
   },
   "source": [
    "<div class=\"alert alert-block alert-info\">\n",
    "<p><b>Q:</b> Can you print the names of the last five records? <br> <b>Hint:</b> in Python, the last five elements can be specified using '[-5:]'</p>\n",
    "</div>"
   ]
  },
  {
   "cell_type": "markdown",
   "id": "cb21a93b",
   "metadata": {
    "id": "cb21a93b"
   },
   "source": [
    "---\n",
    "## Extract metadata for a record"
   ]
  },
  {
   "cell_type": "markdown",
   "id": "c39dc9f3",
   "metadata": {
    "id": "c39dc9f3"
   },
   "source": [
    "Each record contains metadata stored in a header file, named \"`<record name>.hea`\""
   ]
  },
  {
   "cell_type": "markdown",
   "id": "3b2e6adb",
   "metadata": {
    "id": "3b2e6adb"
   },
   "source": [
    "### Specify the online directory containing a record's data"
   ]
  },
  {
   "cell_type": "code",
   "execution_count": 7,
   "id": "86eed39f",
   "metadata": {
    "colab": {
     "base_uri": "https://localhost:8080/"
    },
    "id": "86eed39f",
    "outputId": "5cfa40d0-b4d4-4605-b677-164d9b603f90"
   },
   "outputs": [
    {
     "name": "stdout",
     "output_type": "stream",
     "text": [
      "PhysioNet directory specified for record: mimic4wdb/0.1.0/waves/p100/p10039708/83411188\n"
     ]
    }
   ],
   "source": [
    "# Specify the 4th record (note, in Python indexing begins at 0)\n",
    "idx = 3\n",
    "record = records[idx]\n",
    "record_dir = f'{database_name}/{record.parent}'\n",
    "print(\"PhysioNet directory specified for record: {}\".format(record_dir))"
   ]
  },
  {
   "cell_type": "markdown",
   "id": "b5220ad3",
   "metadata": {
    "id": "b5220ad3"
   },
   "source": [
    "### Specify the subject identifier"
   ]
  },
  {
   "cell_type": "markdown",
   "id": "d7a5bbef",
   "metadata": {
    "id": "d7a5bbef"
   },
   "source": [
    "Extract the record name (e.g. '83411188') from the record (e.g. 'p100/p10039708/83411188/83411188'):"
   ]
  },
  {
   "cell_type": "code",
   "execution_count": 8,
   "id": "b4bc247b",
   "metadata": {
    "colab": {
     "base_uri": "https://localhost:8080/"
    },
    "id": "b4bc247b",
    "outputId": "a74ca902-ca05-496a-fd5d-2dbb0d95f998"
   },
   "outputs": [
    {
     "name": "stdout",
     "output_type": "stream",
     "text": [
      "Record name: 83411188\n"
     ]
    }
   ],
   "source": [
    "record_name = record.name\n",
    "print(\"Record name: {}\".format(record_name))"
   ]
  },
  {
   "cell_type": "markdown",
   "id": "742071da",
   "metadata": {
    "id": "742071da"
   },
   "source": [
    "### Load the metadata for this record\n",
    "- Use the [`rdheader`](https://wfdb.readthedocs.io/en/latest/io.html#wfdb.io.rdheader) function from the WFDB toolbox to load metadata from the record header file"
   ]
  },
  {
   "cell_type": "code",
   "execution_count": 9,
   "id": "c5a0afc5",
   "metadata": {
    "colab": {
     "base_uri": "https://localhost:8080/"
    },
    "id": "c5a0afc5",
    "outputId": "13b3dfa2-d489-4a77-c07d-a5116d67b4ec"
   },
   "outputs": [
    {
     "name": "stdout",
     "output_type": "stream",
     "text": [
      "Done: metadata loaded for record '83411188' from the header file at:\n",
      "https://physionet.org/content/mimic4wdb/0.1.0/waves/p100/p10039708/83411188/83411188.hea\n"
     ]
    }
   ],
   "source": [
    "record_data = wfdb.rdheader(record_name, pn_dir=record_dir, rd_segments=True)\n",
    "remote_url = \"https://physionet.org/content/\" + record_dir + \"/\" + record_name + \".hea\"\n",
    "print(f\"Done: metadata loaded for record '{record_name}' from the header file at:\\n{remote_url}\")"
   ]
  },
  {
   "cell_type": "markdown",
   "id": "f7a4d25d",
   "metadata": {
    "id": "f7a4d25d"
   },
   "source": [
    "---\n",
    "## Inspect details of physiological signals recorded in this record\n",
    "- Printing a few details of the signals from the extracted metadata"
   ]
  },
  {
   "cell_type": "code",
   "execution_count": 10,
   "id": "58630149",
   "metadata": {
    "colab": {
     "base_uri": "https://localhost:8080/"
    },
    "id": "58630149",
    "outputId": "e19d66b1-690c-4cc5-c754-c4b5d1b16d38"
   },
   "outputs": [
    {
     "name": "stdout",
     "output_type": "stream",
     "text": [
      "- Number of signals: 6\n",
      "- Duration: 14.2 hours\n",
      "- Base sampling frequency: 62.4725 Hz\n"
     ]
    }
   ],
   "source": [
    "print(f\"- Number of signals: {record_data.n_sig}\".format())\n",
    "print(f\"- Duration: {record_data.sig_len/(record_data.fs*60*60):.1f} hours\") \n",
    "print(f\"- Base sampling frequency: {record_data.fs} Hz\")"
   ]
  },
  {
   "cell_type": "markdown",
   "id": "7b3da17f",
   "metadata": {
    "id": "7b3da17f"
   },
   "source": [
    "---\n",
    "## Inspect the segments making up a record\n",
    "Each record is typically made up of several segments"
   ]
  },
  {
   "cell_type": "code",
   "execution_count": 11,
   "id": "b127c857",
   "metadata": {
    "colab": {
     "base_uri": "https://localhost:8080/"
    },
    "id": "b127c857",
    "outputId": "4fe5a2b3-b95b-4bbe-db18-fabb199f0584"
   },
   "outputs": [
    {
     "name": "stdout",
     "output_type": "stream",
     "text": [
      "The 6 segments from record 83411188 are:\n",
      "['83411188_0000', '83411188_0001', '83411188_0002', '83411188_0003', '83411188_0004', '83411188_0005']\n"
     ]
    }
   ],
   "source": [
    "segments = record_data.seg_name\n",
    "print(f\"The {len(segments)} segments from record {record_name} are:\\n{segments}\")"
   ]
  },
  {
   "cell_type": "markdown",
   "id": "b379eaaf",
   "metadata": {
    "id": "b379eaaf"
   },
   "source": [
    "The format of filename for each segment is: `record directory, \"_\", segment number`"
   ]
  },
  {
   "cell_type": "markdown",
   "id": "f19d231b",
   "metadata": {
    "id": "f19d231b"
   },
   "source": [
    "---\n",
    "## Inspect an individual segment\n",
    "### Read the metadata for this segment\n",
    "- Read the metadata from the header file"
   ]
  },
  {
   "cell_type": "code",
   "execution_count": 12,
   "id": "7f70d34f",
   "metadata": {
    "colab": {
     "base_uri": "https://localhost:8080/"
    },
    "id": "7f70d34f",
    "outputId": "d1bd96de-09d9-4cf2-fa35-1bbcb5ddced4"
   },
   "outputs": [
    {
     "name": "stdout",
     "output_type": "stream",
     "text": [
      "Header metadata loaded for: \n",
      "- the segment '83411188_0001'\n",
      "- in record '83411188'\n",
      "- for subject 'p10039708'\n",
      "\n"
     ]
    }
   ],
   "source": [
    "segment_metadata = wfdb.rdheader(record_name=segments[2], pn_dir=record_dir)\n",
    "\n",
    "print(f\"\"\"Header metadata loaded for: \n",
    "- the segment '{segments[1]}'\n",
    "- in record '{record_name}'\n",
    "- for subject '{str(Path(record_dir).parent.parts[-1])}'\n",
    "\"\"\")"
   ]
  },
  {
   "cell_type": "markdown",
   "id": "d28771ac",
   "metadata": {
    "id": "d28771ac"
   },
   "source": [
    "### Find out what signals are present"
   ]
  },
  {
   "cell_type": "code",
   "execution_count": 13,
   "id": "324727df",
   "metadata": {
    "colab": {
     "base_uri": "https://localhost:8080/"
    },
    "id": "324727df",
    "outputId": "223bdb49-5023-453d-f2b7-a016a603fec9"
   },
   "outputs": [
    {
     "name": "stdout",
     "output_type": "stream",
     "text": [
      "This segment contains the following signals: ['II', 'V', 'aVR', 'ABP', 'Pleth', 'Resp']\n",
      "The signals are measured in units of: ['mV', 'mV', 'mV', 'mmHg', 'NU', 'Ohm']\n"
     ]
    }
   ],
   "source": [
    "print(f\"This segment contains the following signals: {segment_metadata.sig_name}\")\n",
    "print(f\"The signals are measured in units of: {segment_metadata.units}\")"
   ]
  },
  {
   "cell_type": "markdown",
   "id": "f09b3f37",
   "metadata": {
    "id": "f09b3f37"
   },
   "source": [
    "See [here](https://archive.physionet.org/mimic2/mimic2_waveform_overview.shtml#signals-125-samplessecond) for definitions of signal abbreviations."
   ]
  },
  {
   "cell_type": "markdown",
   "id": "3f56dd61",
   "metadata": {
    "id": "3f56dd61"
   },
   "source": [
    "<div class=\"alert alert-block alert-info\">\n",
    "<p><b>Q:</b> Which of these signals is no longer present in segment '83411188_0005'?</p>\n",
    "</div>"
   ]
  },
  {
   "cell_type": "markdown",
   "id": "9f921f27",
   "metadata": {
    "id": "9f921f27"
   },
   "source": [
    "### Find out how long each signal lasts"
   ]
  },
  {
   "cell_type": "markdown",
   "id": "d217b764",
   "metadata": {
    "id": "d217b764"
   },
   "source": [
    "All signals in a segment are time-aligned, measured at the same sampling frequency, and last the same duration:"
   ]
  },
  {
   "cell_type": "code",
   "execution_count": 14,
   "id": "c44f00a7",
   "metadata": {
    "colab": {
     "base_uri": "https://localhost:8080/"
    },
    "id": "c44f00a7",
    "outputId": "1cfa789e-b66b-4c8e-805b-4197c663ba18"
   },
   "outputs": [
    {
     "name": "stdout",
     "output_type": "stream",
     "text": [
      "The signals have a base sampling frequency of 62.5 Hz\n",
      "and they last for 0.9 minutes\n"
     ]
    }
   ],
   "source": [
    "print(f\"The signals have a base sampling frequency of {segment_metadata.fs:.1f} Hz\")\n",
    "print(f\"and they last for {segment_metadata.sig_len/(segment_metadata.fs*60):.1f} minutes\")"
   ]
  },
  {
   "cell_type": "markdown",
   "id": "d2a80895",
   "metadata": {
    "id": "d2a80895"
   },
   "source": [
    "## Identify records suitable for analysis"
   ]
  },
  {
   "cell_type": "markdown",
   "id": "1a3218d3",
   "metadata": {
    "id": "1a3218d3"
   },
   "source": [
    "- The signals and their durations vary from one record (and segment) to the next. \n",
    "- Since most studies require specific types of signals (e.g. blood pressure and photoplethysmography signals), we need to be able to identify which records (or segments) contain the required signals and duration."
   ]
  },
  {
   "cell_type": "markdown",
   "id": "b02c0b4e",
   "metadata": {
    "id": "b02c0b4e"
   },
   "source": [
    "### Setup"
   ]
  },
  {
   "cell_type": "code",
   "execution_count": 15,
   "id": "5bb47556",
   "metadata": {
    "id": "5bb47556"
   },
   "outputs": [],
   "source": [
    "import pandas as pd\n",
    "from pprint import pprint"
   ]
  },
  {
   "cell_type": "code",
   "execution_count": 16,
   "id": "95181681",
   "metadata": {
    "colab": {
     "base_uri": "https://localhost:8080/"
    },
    "id": "95181681",
    "outputId": "544c69db-59d9-432c-ee6c-10e1b0f54318"
   },
   "outputs": [
    {
     "name": "stdout",
     "output_type": "stream",
     "text": [
      "Earlier, we loaded 200 records from the 'mimic4wdb/0.1.0' database.\n"
     ]
    }
   ],
   "source": [
    "print(f\"Earlier, we loaded {len(records)} records from the '{database_name}' database.\")"
   ]
  },
  {
   "cell_type": "markdown",
   "id": "7f2b5955",
   "metadata": {
    "id": "7f2b5955"
   },
   "source": [
    "### Specify requirements"
   ]
  },
  {
   "cell_type": "markdown",
   "id": "83f8611c",
   "metadata": {
    "id": "83f8611c"
   },
   "source": [
    "- Required signals"
   ]
  },
  {
   "cell_type": "code",
   "execution_count": 17,
   "id": "3d1505ab",
   "metadata": {
    "id": "3d1505ab"
   },
   "outputs": [],
   "source": [
    "required_sigs = ['ABP', 'Pleth']"
   ]
  },
  {
   "cell_type": "markdown",
   "id": "03920810",
   "metadata": {
    "id": "03920810"
   },
   "source": [
    "- Required duration"
   ]
  },
  {
   "cell_type": "code",
   "execution_count": 18,
   "id": "568a93c1",
   "metadata": {
    "id": "568a93c1"
   },
   "outputs": [],
   "source": [
    "# convert from minutes to seconds\n",
    "req_seg_duration = 10*60 "
   ]
  },
  {
   "cell_type": "markdown",
   "id": "d49187cd",
   "metadata": {
    "id": "d49187cd"
   },
   "source": [
    "### Find out how many records meet the requirements"
   ]
  },
  {
   "cell_type": "markdown",
   "id": "65f2cdce",
   "metadata": {
    "id": "65f2cdce"
   },
   "source": [
    "_NB: This step may take a while. The results are copied below to save running it yourself._"
   ]
  },
  {
   "cell_type": "code",
   "execution_count": 19,
   "id": "015b47d3",
   "metadata": {
    "id": "015b47d3"
   },
   "outputs": [
    {
     "name": "stdout",
     "output_type": "stream",
     "text": [
      "Record: waves/p100/p10014354/81739927/81739927 (reading data)\n",
      "   (missing signals)\n",
      "Record: waves/p100/p10019003/87033314/87033314 (reading data)\n",
      "   (missing signals)\n",
      "Record: waves/p100/p10020306/83404654/83404654 (reading data)\n",
      " - Segment: 83404654_0000 (too short at 0.0 mins)\n",
      " - Segment: 83404654_0001 (long enough, but missing signal(s))\n",
      " - Segment: 83404654_0002 (too short at 0.1 mins)\n",
      " - Segment: 83404654_0003 (too short at 0.3 mins)\n",
      " - Segment: 83404654_0004 (long enough, but missing signal(s))\n",
      " - Segment: 83404654_0005 (met requirements)\n",
      "Record: waves/p100/p10039708/83411188/83411188 (reading data)\n",
      " - Segment: 83411188_0000 (too short at 0.0 mins)\n",
      " - Segment: 83411188_0001 (too short at 0.1 mins)\n",
      " - Segment: 83411188_0002 (too short at 0.9 mins)\n",
      " - Segment: 83411188_0003 (too short at 0.3 mins)\n",
      " - Segment: 83411188_0004 (too short at 0.3 mins)\n",
      " - Segment: 83411188_0005 (long enough, but missing signal(s))\n",
      "Record: waves/p100/p10039708/85583557/85583557 (reading data)\n",
      "   (missing signals)\n",
      "Record: waves/p100/p10079700/85594648/85594648 (reading data)\n",
      "   (missing signals)\n",
      "Record: waves/p100/p10082591/84050536/84050536 (reading data)\n",
      "   (missing signals)\n",
      "Record: waves/p101/p10100546/83268087/83268087 (reading data)\n",
      "   (missing signals)\n",
      "Record: waves/p101/p10112163/88501826/88501826 (reading data)\n",
      "   (missing signals)\n",
      "Record: waves/p101/p10126957/82924339/82924339 (reading data)\n",
      " - Segment: 82924339_0000 (too short at 0.0 mins)\n",
      " - Segment: 82924339_0001 (too short at 0.2 mins)\n",
      " - Segment: 82924339_0002 (too short at 0.1 mins)\n",
      " - Segment: 82924339_0003 (too short at 0.4 mins)\n",
      " - Segment: 82924339_0004 (too short at 0.1 mins)\n",
      " - Segment: 82924339_0005 (too short at 0.0 mins)\n",
      " - Segment: 82924339_0006 (too short at 5.3 mins)\n",
      " - Segment: 82924339_0007 (met requirements)\n",
      "Record: waves/p102/p10209410/84248019/84248019 (reading data)\n",
      " - Segment: 84248019_0000 (too short at 0.0 mins)\n",
      " - Segment: 84248019_0001 (too short at 0.1 mins)\n",
      " - Segment: 84248019_0002 (too short at 4.8 mins)\n",
      " - Segment: 84248019_0003 (too short at 0.2 mins)\n",
      " - Segment: 84248019_0004 (too short at 1.0 mins)\n",
      " - Segment: 84248019_0005 (met requirements)\n",
      "Record: waves/p103/p10303080/88399302/88399302 (reading data)\n",
      "   (missing signals)\n",
      "Record: waves/p104/p10494990/88374538/88374538 (reading data)\n",
      "   (missing signals)\n",
      "Record: waves/p105/p10560354/81105139/81105139 (reading data)\n",
      "   (missing signals)\n",
      "Record: waves/p106/p10680081/86426168/86426168 (reading data)\n",
      "   (missing signals)\n",
      "Record: waves/p108/p10882818/81826943/81826943 (reading data)\n",
      "   (missing signals)\n",
      "Record: waves/p109/p10952189/82439920/82439920 (reading data)\n",
      " - Segment: 82439920_0000 (too short at 0.0 mins)\n",
      " - Segment: 82439920_0001 (too short at 0.1 mins)\n",
      " - Segment: 82439920_0002 (too short at 0.0 mins)\n",
      " - Segment: 82439920_0003 (too short at 0.1 mins)\n",
      " - Segment: 82439920_0004 (met requirements)\n",
      "Record: waves/p110/p11013146/82432904/82432904 (reading data)\n",
      "   (missing signals)\n",
      "Record: waves/p111/p11109975/82800131/82800131 (reading data)\n",
      " - Segment: 82800131_0000 (too short at 0.0 mins)\n",
      " - Segment: 82800131_0001 (too short at 0.1 mins)\n",
      " - Segment: 82800131_0002 (met requirements)\n",
      "Record: waves/p113/p11320864/81312415/81312415 (reading data)\n",
      "   (missing signals)\n",
      "Record: waves/p113/p11392990/84304393/84304393 (reading data)\n",
      " - Segment: 84304393_0000 (too short at 0.0 mins)\n",
      " - Segment: 84304393_0001 (met requirements)\n",
      "Record: waves/p115/p11552552/82650378/82650378 (reading data)\n",
      "   (missing signals)\n",
      "Record: waves/p115/p11552552/88733244/88733244 (reading data)\n",
      "   (missing signals)\n",
      "Record: waves/p115/p11558369/88636340/88636340 (reading data)\n",
      "   (missing signals)\n",
      "Record: waves/p115/p11573811/87942784/87942784 (reading data)\n",
      "   (missing signals)\n",
      "Record: waves/p115/p11596691/86130599/86130599 (reading data)\n",
      "   (missing signals)\n",
      "Record: waves/p116/p11699665/81602645/81602645 (reading data)\n",
      "   (missing signals)\n",
      "Record: waves/p119/p11944882/88867862/88867862 (reading data)\n",
      " - Segment: 88867862_0000 (too short at 0.0 mins)\n",
      " - Segment: 88867862_0001 (long enough, but missing signal(s))\n",
      " - Segment: 88867862_0002 (too short at 0.6 mins)\n",
      " - Segment: 88867862_0003 (too short at 0.2 mins)\n",
      " - Segment: 88867862_0004 (long enough, but missing signal(s))\n",
      " - Segment: 88867862_0005 (too short at 6.5 mins)\n",
      " - Segment: 88867862_0006 (too short at 2.6 mins)\n",
      " - Segment: 88867862_0007 (long enough, but missing signal(s))\n",
      " - Segment: 88867862_0008 (too short at 0.3 mins)\n",
      " - Segment: 88867862_0009 (too short at 0.3 mins)\n",
      " - Segment: 88867862_0010 (long enough, but missing signal(s))\n",
      " - Segment: 88867862_0011 (long enough, but missing signal(s))\n",
      " - Segment: 88867862_0012 (too short at 0.2 mins)\n",
      " - Segment: 88867862_0013 (long enough, but missing signal(s))\n",
      " - Segment: 88867862_0014 (too short at 0.0 mins)\n",
      " - Segment: 88867862_0015 (too short at 0.1 mins)\n",
      " - Segment: 88867862_0016 (too short at 0.2 mins)\n",
      " - Segment: 88867862_0017 (too short at 0.0 mins)\n",
      " - Segment: 88867862_0018 (too short at 0.1 mins)\n",
      " - Segment: 88867862_0019 (too short at 0.1 mins)\n",
      " - Segment: 88867862_0020 (long enough, but missing signal(s))\n",
      " - Segment: 88867862_0021 (long enough, but missing signal(s))\n",
      " - Segment: 88867862_0022 (long enough, but missing signal(s))\n",
      " - Segment: 88867862_0023 (long enough, but missing signal(s))\n",
      " - Segment: 88867862_0024 (long enough, but missing signal(s))\n",
      " - Segment: 88867862_0025 (too short at 1.1 mins)\n",
      " - Segment: 88867862_0026 (long enough, but missing signal(s))\n",
      " - Segment: 88867862_0027 (long enough, but missing signal(s))\n",
      " - Segment: 88867862_0028 (too short at 2.6 mins)\n",
      " - Segment: 88867862_0029 (long enough, but missing signal(s))\n",
      " - Segment: 88867862_0030 (too short at 0.1 mins)\n",
      " - Segment: 88867862_0031 (long enough, but missing signal(s))\n",
      " - Segment: 88867862_0032 (too short at 0.8 mins)\n",
      " - Segment: 88867862_0033 (too short at 1.5 mins)\n",
      " - Segment: 88867862_0034 (long enough, but missing signal(s))\n",
      " - Segment: 88867862_0035 (long enough, but missing signal(s))\n",
      " - Segment: 88867862_0036 (long enough, but missing signal(s))\n",
      " - Segment: 88867862_0037 (too short at 0.7 mins)\n",
      " - Segment: 88867862_0038 (long enough, but missing signal(s))\n",
      " - Segment: 88867862_0039 (too short at 9.4 mins)\n",
      " - Segment: 88867862_0040 (long enough, but missing signal(s))\n",
      " - Segment: 88867862_0041 (long enough, but missing signal(s))\n",
      " - Segment: 88867862_0042 (long enough, but missing signal(s))\n",
      " - Segment: 88867862_0043 (long enough, but missing signal(s))\n",
      "Record: waves/p121/p12168037/89464742/89464742 (reading data)\n",
      " - Segment: 89464742_0000 (too short at 0.0 mins)\n",
      " - Segment: 89464742_0001 (met requirements)\n",
      "Record: waves/p121/p12173569/88958796/88958796 (reading data)\n",
      " - Segment: 88958796_0000 (too short at 0.0 mins)\n",
      " - Segment: 88958796_0001 (too short at 1.6 mins)\n",
      " - Segment: 88958796_0002 (too short at 6.5 mins)\n",
      " - Segment: 88958796_0003 (too short at 0.5 mins)\n",
      " - Segment: 88958796_0004 (met requirements)\n",
      "Record: waves/p121/p12188288/88995377/88995377 (reading data)\n",
      " - Segment: 88995377_0000 (too short at 0.0 mins)\n",
      " - Segment: 88995377_0001 (met requirements)\n",
      "Record: waves/p122/p12226163/85982742/85982742 (reading data)\n",
      "   (missing signals)\n",
      "Record: waves/p122/p12246674/81515145/81515145 (reading data)\n",
      "   (missing signals)\n",
      "Record: waves/p122/p12290932/84513510/84513510 (reading data)\n",
      "   (missing signals)\n",
      "Record: waves/p122/p12295067/86906600/86906600 (reading data)\n",
      "   (missing signals)\n",
      "Record: waves/p124/p12408438/88826653/88826653 (reading data)\n",
      "   (missing signals)\n",
      "Record: waves/p124/p12424398/81741333/81741333 (reading data)\n",
      " - Segment: 81741333_0000 (too short at 0.0 mins)\n",
      " - Segment: 81741333_0001 (long enough, but missing signal(s))\n",
      " - Segment: 81741333_0002 (too short at 0.4 mins)\n",
      " - Segment: 81741333_0003 (long enough, but missing signal(s))\n",
      " - Segment: 81741333_0004 (too short at 0.4 mins)\n",
      " - Segment: 81741333_0005 (too short at 0.1 mins)\n",
      " - Segment: 81741333_0006 (too short at 1.1 mins)\n",
      " - Segment: 81741333_0007 (long enough, but missing signal(s))\n",
      " - Segment: 81741333_0008 (too short at 0.1 mins)\n",
      " - Segment: 81741333_0009 (too short at 0.0 mins)\n",
      " - Segment: 81741333_0010 (long enough, but missing signal(s))\n",
      " - Segment: 81741333_0011 (too short at 0.1 mins)\n"
     ]
    },
    {
     "name": "stdout",
     "output_type": "stream",
     "text": [
      " - Segment: 81741333_0012 (too short at 0.0 mins)\n",
      " - Segment: 81741333_0013 (too short at 0.0 mins)\n",
      " - Segment: 81741333_0014 (too short at 0.1 mins)\n",
      " - Segment: 81741333_0015 (long enough, but missing signal(s))\n",
      "Record: waves/p124/p12449182/84179115/84179115 (reading data)\n",
      "   (missing signals)\n",
      "Record: waves/p124/p12470697/84213440/84213440 (reading data)\n",
      "   (missing signals)\n",
      "Record: waves/p125/p12545470/80674263/80674263 (reading data)\n",
      "   (missing signals)\n",
      "Record: waves/p125/p12563752/85393521/85393521 (reading data)\n",
      "   (missing signals)\n",
      "Record: waves/p125/p12567919/82552643/82552643 (reading data)\n",
      "   (missing signals)\n",
      "Record: waves/p127/p12789108/85835247/85835247 (reading data)\n",
      "   (missing signals)\n",
      "Record: waves/p128/p12801061/80154334/80154334 (reading data)\n",
      "   (missing signals)\n",
      "Record: waves/p128/p12807320/81739815/81739815 (reading data)\n",
      "   (missing signals)\n",
      "Record: waves/p128/p12847457/83054955/83054955 (reading data)\n",
      "   (missing signals)\n",
      "Record: waves/p128/p12872596/85230771/85230771 (reading data)\n",
      " - Segment: 85230771_0000 (too short at 0.0 mins)\n",
      " - Segment: 85230771_0001 (too short at 0.1 mins)\n",
      " - Segment: 85230771_0002 (too short at 0.3 mins)\n",
      " - Segment: 85230771_0003 (too short at 0.1 mins)\n",
      " - Segment: 85230771_0004 (met requirements)\n",
      "Record: waves/p128/p12882754/84094519/84094519 (reading data)\n",
      "   (missing signals)\n",
      "Record: waves/p129/p12933208/86643930/86643930 (reading data)\n",
      " - Segment: 86643930_0000 (too short at 0.0 mins)\n",
      " - Segment: 86643930_0001 (long enough, but missing signal(s))\n",
      " - Segment: 86643930_0002 (too short at 0.1 mins)\n",
      " - Segment: 86643930_0003 (long enough, but missing signal(s))\n",
      " - Segment: 86643930_0004 (met requirements)\n",
      "Record: waves/p129/p12961799/86114120/86114120 (reading data)\n",
      "   (missing signals)\n",
      "Record: waves/p130/p13016481/81250824/81250824 (reading data)\n",
      " - Segment: 81250824_0000 (too short at 0.0 mins)\n",
      " - Segment: 81250824_0001 (too short at 1.3 mins)\n",
      " - Segment: 81250824_0002 (too short at 0.1 mins)\n",
      " - Segment: 81250824_0003 (too short at 0.0 mins)\n",
      " - Segment: 81250824_0004 (too short at 1.4 mins)\n",
      " - Segment: 81250824_0005 (met requirements)\n",
      "Record: waves/p130/p13080738/85361504/85361504 (reading data)\n",
      "   (missing signals)\n",
      "Record: waves/p130/p13090274/87473566/87473566 (reading data)\n",
      "   (missing signals)\n",
      "Record: waves/p131/p13184012/87023605/87023605 (reading data)\n",
      "   (missing signals)\n",
      "Record: waves/p132/p13208026/82342224/82342224 (reading data)\n",
      "   (missing signals)\n",
      "Record: waves/p132/p13216117/81815063/81815063 (reading data)\n",
      "   (missing signals)\n",
      "Record: waves/p132/p13240081/87706224/87706224 (reading data)\n",
      " - Segment: 87706224_0000 (too short at 0.0 mins)\n",
      " - Segment: 87706224_0001 (too short at 0.1 mins)\n",
      " - Segment: 87706224_0002 (too short at 8.0 mins)\n",
      " - Segment: 87706224_0003 (met requirements)\n",
      "Record: waves/p133/p13335291/89017807/89017807 (reading data)\n",
      "   (missing signals)\n",
      "Record: waves/p133/p13364831/82697127/82697127 (reading data)\n",
      "   (missing signals)\n",
      "Record: waves/p133/p13386985/81002096/81002096 (reading data)\n",
      "   (missing signals)\n",
      "Record: waves/p134/p13457656/88841356/88841356 (reading data)\n",
      "   (missing signals)\n",
      "Record: waves/p134/p13496169/80200410/80200410 (reading data)\n",
      "   (missing signals)\n",
      "Record: waves/p135/p13559368/86957236/86957236 (reading data)\n",
      "   (missing signals)\n",
      "Record: waves/p136/p13620446/83988903/83988903 (reading data)\n",
      "   (missing signals)\n",
      "Record: waves/p136/p13624686/83058614/83058614 (reading data)\n",
      " - Segment: 83058614_0000 (too short at 0.0 mins)\n",
      " - Segment: 83058614_0001 (too short at 0.1 mins)\n",
      " - Segment: 83058614_0002 (too short at 0.1 mins)\n",
      " - Segment: 83058614_0003 (too short at 0.0 mins)\n",
      " - Segment: 83058614_0004 (too short at 0.0 mins)\n",
      " - Segment: 83058614_0005 (met requirements)\n",
      "Record: waves/p136/p13687171/82266835/82266835 (reading data)\n",
      "   (missing signals)\n",
      "Record: waves/p137/p13724605/81178488/81178488 (reading data)\n",
      "   (missing signals)\n",
      "Record: waves/p137/p13791821/82803505/82803505 (reading data)\n",
      " - Segment: 82803505_0000 (too short at 0.0 mins)\n",
      " - Segment: 82803505_0001 (too short at 0.1 mins)\n",
      " - Segment: 82803505_0002 (long enough, but missing signal(s))\n",
      " - Segment: 82803505_0003 (long enough, but missing signal(s))\n",
      " - Segment: 82803505_0004 (long enough, but missing signal(s))\n",
      " - Segment: 82803505_0005 (too short at 0.1 mins)\n",
      " - Segment: 82803505_0006 (long enough, but missing signal(s))\n",
      " - Segment: 82803505_0007 (too short at 3.8 mins)\n",
      " - Segment: 82803505_0008 (long enough, but missing signal(s))\n",
      " - Segment: 82803505_0009 (too short at 0.2 mins)\n",
      " - Segment: 82803505_0010 (too short at 2.4 mins)\n",
      " - Segment: 82803505_0011 (too short at 0.1 mins)\n",
      " - Segment: 82803505_0012 (long enough, but missing signal(s))\n",
      " - Segment: 82803505_0013 (too short at 0.2 mins)\n",
      " - Segment: 82803505_0014 (long enough, but missing signal(s))\n",
      " - Segment: 82803505_0015 (too short at 5.5 mins)\n",
      " - Segment: 82803505_0016 (long enough, but missing signal(s))\n",
      " - Segment: 82803505_0017 (met requirements)\n",
      "Record: waves/p138/p13840756/85241465/85241465 (reading data)\n",
      "   (missing signals)\n",
      "Record: waves/p139/p13909615/85874778/85874778 (reading data)\n",
      "   (missing signals)\n",
      "Record: waves/p140/p14025287/86429079/86429079 (reading data)\n",
      "   (missing signals)\n",
      "Record: waves/p140/p14043090/80351079/80351079 (reading data)\n",
      "   (missing signals)\n",
      "Record: waves/p140/p14057060/81396664/81396664 (reading data)\n",
      "   (missing signals)\n",
      "Record: waves/p140/p14071752/87613677/87613677 (reading data)\n",
      "   (missing signals)\n",
      "Record: waves/p141/p14141512/85863370/85863370 (reading data)\n",
      "   (missing signals)\n",
      "Record: waves/p141/p14191565/88574629/88574629 (reading data)\n",
      " - Segment: 88574629_0000 (too short at 0.0 mins)\n",
      " - Segment: 88574629_0001 (met requirements)\n",
      "Record: waves/p142/p14260018/80493349/80493349 (reading data)\n",
      "   (missing signals)\n",
      "Record: waves/p142/p14285792/87867111/87867111 (reading data)\n",
      " - Segment: 87867111_0000 (too short at 0.0 mins)\n",
      " - Segment: 87867111_0001 (long enough, but missing signal(s))\n",
      " - Segment: 87867111_0002 (too short at 0.1 mins)\n",
      " - Segment: 87867111_0003 (long enough, but missing signal(s))\n",
      " - Segment: 87867111_0004 (too short at 1.0 mins)\n",
      " - Segment: 87867111_0005 (long enough, but missing signal(s))\n",
      " - Segment: 87867111_0006 (too short at 0.5 mins)\n",
      " - Segment: 87867111_0007 (long enough, but missing signal(s))\n",
      " - Segment: 87867111_0008 (long enough, but missing signal(s))\n",
      " - Segment: 87867111_0009 (long enough, but missing signal(s))\n",
      " - Segment: 87867111_0010 (too short at 0.1 mins)\n",
      " - Segment: 87867111_0011 (long enough, but missing signal(s))\n",
      " - Segment: 87867111_0012 (met requirements)\n",
      "Record: waves/p143/p14328567/80030009/80030009 (reading data)\n",
      "   (missing signals)\n",
      "Record: waves/p143/p14356077/84560969/84560969 (reading data)\n",
      " - Segment: 84560969_0000 (too short at 0.0 mins)\n",
      " - Segment: 84560969_0001 (met requirements)\n",
      "Record: waves/p143/p14363499/87562386/87562386 (reading data)\n",
      " - Segment: 87562386_0000 (too short at 0.0 mins)\n",
      " - Segment: 87562386_0001 (met requirements)\n",
      "Record: waves/p145/p14504374/89909100/89909100 (reading data)\n",
      "   (missing signals)\n",
      "Record: waves/p145/p14573205/83993183/83993183 (reading data)\n",
      "   (missing signals)\n",
      "Record: waves/p146/p14629329/89923227/89923227 (reading data)\n",
      "   (missing signals)\n",
      "Record: waves/p146/p14678292/82257762/82257762 (reading data)\n",
      "   (missing signals)\n",
      "Record: waves/p146/p14695840/88685937/88685937 (reading data)\n",
      " - Segment: 88685937_0000 (too short at 0.0 mins)\n",
      " - Segment: 88685937_0001 (met requirements)\n",
      "Record: waves/p147/p14711488/80647461/80647461 (reading data)\n",
      "   (missing signals)\n",
      "Record: waves/p147/p14739057/86201081/86201081 (reading data)\n",
      "   (missing signals)\n",
      "Record: waves/p147/p14751132/87909383/87909383 (reading data)\n",
      "   (missing signals)\n",
      "Record: waves/p147/p14759494/87555605/87555605 (reading data)\n",
      "   (missing signals)\n",
      "Record: waves/p147/p14781701/80705205/80705205 (reading data)\n",
      "   (missing signals)\n",
      "Record: waves/p147/p14782379/83682560/83682560 (reading data)\n",
      "   (missing signals)\n",
      "Record: waves/p148/p14811560/88188377/88188377 (reading data)\n",
      "   (missing signals)\n",
      "Record: waves/p149/p14931547/86120311/86120311 (reading data)\n",
      " - Segment: 86120311_0000 (too short at 0.0 mins)\n",
      " - Segment: 86120311_0001 (met requirements)\n"
     ]
    },
    {
     "name": "stdout",
     "output_type": "stream",
     "text": [
      "Record: waves/p150/p15030787/82582002/82582002 (reading data)\n",
      "   (missing signals)\n",
      "Record: waves/p151/p15174162/89866183/89866183 (reading data)\n",
      " - Segment: 89866183_0000 (too short at 0.0 mins)\n",
      " - Segment: 89866183_0001 (too short at 0.2 mins)\n",
      " - Segment: 89866183_0002 (too short at 0.1 mins)\n",
      " - Segment: 89866183_0003 (too short at 0.0 mins)\n",
      " - Segment: 89866183_0004 (too short at 3.0 mins)\n",
      " - Segment: 89866183_0005 (too short at 0.0 mins)\n",
      " - Segment: 89866183_0006 (too short at 0.1 mins)\n",
      " - Segment: 89866183_0007 (too short at 0.0 mins)\n",
      " - Segment: 89866183_0008 (too short at 0.1 mins)\n",
      " - Segment: 89866183_0009 (too short at 0.2 mins)\n",
      " - Segment: 89866183_0010 (too short at 0.1 mins)\n",
      " - Segment: 89866183_0011 (too short at 0.0 mins)\n",
      " - Segment: 89866183_0012 (too short at 0.0 mins)\n",
      " - Segment: 89866183_0013 (too short at 0.0 mins)\n",
      " - Segment: 89866183_0014 (met requirements)\n",
      "Record: waves/p153/p15312343/89068160/89068160 (reading data)\n",
      " - Segment: 89068160_0000 (too short at 0.0 mins)\n",
      " - Segment: 89068160_0001 (too short at 1.3 mins)\n",
      " - Segment: 89068160_0002 (met requirements)\n",
      "Record: waves/p153/p15315368/83076714/83076714 (reading data)\n",
      "   (missing signals)\n",
      "Record: waves/p153/p15342703/86380383/86380383 (reading data)\n",
      " - Segment: 86380383_0000 (too short at 0.0 mins)\n",
      " - Segment: 86380383_0001 (met requirements)\n",
      "Record: waves/p154/p15450741/80222656/80222656 (reading data)\n",
      "   (missing signals)\n",
      "Record: waves/p154/p15461634/89565005/89565005 (reading data)\n",
      "   (missing signals)\n",
      "Record: waves/p154/p15465960/87710197/87710197 (reading data)\n",
      "   (missing signals)\n",
      "Record: waves/p154/p15497782/80353107/80353107 (reading data)\n",
      "   (missing signals)\n",
      "Record: waves/p155/p15524470/80713046/80713046 (reading data)\n",
      "   (missing signals)\n",
      "Record: waves/p155/p15552902/85078610/85078610 (reading data)\n",
      " - Segment: 85078610_0000 (too short at 0.0 mins)\n",
      " - Segment: 85078610_0001 (too short at 0.1 mins)\n",
      " - Segment: 85078610_0002 (too short at 0.1 mins)\n",
      " - Segment: 85078610_0003 (too short at 0.0 mins)\n",
      " - Segment: 85078610_0004 (too short at 2.1 mins)\n",
      " - Segment: 85078610_0005 (too short at 0.0 mins)\n",
      " - Segment: 85078610_0006 (too short at 0.0 mins)\n",
      " - Segment: 85078610_0007 (too short at 1.2 mins)\n",
      " - Segment: 85078610_0008 (met requirements)\n",
      "Record: waves/p156/p15649186/87702634/87702634 (reading data)\n",
      " - Segment: 87702634_0000 (too short at 0.0 mins)\n",
      " - Segment: 87702634_0001 (too short at 0.1 mins)\n",
      " - Segment: 87702634_0002 (too short at 0.1 mins)\n",
      " - Segment: 87702634_0003 (too short at 0.9 mins)\n",
      " - Segment: 87702634_0004 (too short at 0.1 mins)\n",
      " - Segment: 87702634_0005 (too short at 8.6 mins)\n",
      " - Segment: 87702634_0006 (too short at 0.1 mins)\n",
      " - Segment: 87702634_0007 (met requirements)\n",
      "Record: waves/p156/p15651262/87121214/87121214 (reading data)\n",
      "   (missing signals)\n",
      "Record: waves/p156/p15685201/83226324/83226324 (reading data)\n",
      "   (missing signals)\n",
      "Record: waves/p157/p15738617/84323120/84323120 (reading data)\n",
      "   (missing signals)\n",
      "Record: waves/p158/p15855446/80620046/80620046 (reading data)\n",
      "   (missing signals)\n",
      "Record: waves/p158/p15857793/84686667/84686667 (reading data)\n",
      " - Segment: 84686667_0000 (too short at 0.0 mins)\n",
      " - Segment: 84686667_0001 (too short at 1.5 mins)\n",
      " - Segment: 84686667_0002 (met requirements)\n",
      "Record: waves/p158/p15858229/85931717/85931717 (reading data)\n",
      "   (missing signals)\n",
      "Record: waves/p158/p15859796/87162659/87162659 (reading data)\n",
      "   (missing signals)\n",
      "Record: waves/p158/p15865327/84802706/84802706 (reading data)\n",
      " - Segment: 84802706_0000 (too short at 0.0 mins)\n",
      " - Segment: 84802706_0001 (too short at 0.0 mins)\n",
      " - Segment: 84802706_0002 (met requirements)\n",
      "Record: waves/p158/p15896656/81811182/81811182 (reading data)\n",
      " - Segment: 81811182_0000 (too short at 0.0 mins)\n",
      " - Segment: 81811182_0001 (too short at 0.1 mins)\n",
      " - Segment: 81811182_0002 (too short at 0.0 mins)\n",
      " - Segment: 81811182_0003 (too short at 0.1 mins)\n",
      " - Segment: 81811182_0004 (met requirements)\n",
      "Record: waves/p159/p15920699/84421559/84421559 (reading data)\n",
      " - Segment: 84421559_0000 (too short at 0.0 mins)\n",
      " - Segment: 84421559_0001 (too short at 5.3 mins)\n",
      " - Segment: 84421559_0002 (too short at 0.1 mins)\n",
      " - Segment: 84421559_0003 (too short at 0.0 mins)\n",
      " - Segment: 84421559_0004 (too short at 0.1 mins)\n",
      " - Segment: 84421559_0005 (met requirements)\n",
      "Record: waves/p160/p16034243/88221516/88221516 (reading data)\n",
      " - Segment: 88221516_0000 (too short at 0.0 mins)\n",
      " - Segment: 88221516_0001 (too short at 3.0 mins)\n",
      " - Segment: 88221516_0002 (too short at 0.0 mins)\n",
      " - Segment: 88221516_0003 (too short at 0.1 mins)\n",
      " - Segment: 88221516_0004 (too short at 4.0 mins)\n",
      " - Segment: 88221516_0005 (too short at 0.3 mins)\n",
      " - Segment: 88221516_0006 (too short at 5.2 mins)\n",
      " - Segment: 88221516_0007 (met requirements)\n",
      "Record: waves/p160/p16074364/84765423/84765423 (reading data)\n",
      "   (missing signals)\n",
      "Record: waves/p160/p16089661/87257193/87257193 (reading data)\n",
      "   (missing signals)\n",
      "Record: waves/p160/p16096029/87730914/87730914 (reading data)\n",
      "   (missing signals)\n",
      "Record: waves/p162/p16215869/89184684/89184684 (reading data)\n",
      "   (missing signals)\n",
      "Record: waves/p162/p16224237/84746493/84746493 (reading data)\n",
      "   (missing signals)\n",
      "Record: waves/p163/p16331109/85937857/85937857 (reading data)\n",
      "   (missing signals)\n",
      "Record: waves/p163/p16362820/85250800/85250800 (reading data)\n",
      "   (missing signals)\n",
      "Record: waves/p164/p16442963/89328952/89328952 (reading data)\n",
      "   (missing signals)\n",
      "Record: waves/p164/p16450343/87509018/87509018 (reading data)\n",
      "   (missing signals)\n",
      "Record: waves/p165/p16547220/81902403/81902403 (reading data)\n",
      "   (missing signals)\n",
      "Record: waves/p165/p16566444/80057524/80057524 (reading data)\n",
      " - Segment: 80057524_0000 (too short at 0.0 mins)\n",
      " - Segment: 80057524_0001 (long enough, but missing signal(s))\n",
      " - Segment: 80057524_0002 (too short at 0.6 mins)\n",
      " - Segment: 80057524_0003 (too short at 4.2 mins)\n",
      " - Segment: 80057524_0004 (too short at 0.7 mins)\n",
      " - Segment: 80057524_0005 (met requirements)\n",
      "Record: waves/p165/p16587972/86803944/86803944 (reading data)\n",
      "   (missing signals)\n",
      "Record: waves/p166/p16601928/88159741/88159741 (reading data)\n",
      "   (missing signals)\n",
      "Record: waves/p166/p16644640/84209926/84209926 (reading data)\n",
      " - Segment: 84209926_0000 (too short at 0.0 mins)\n",
      " - Segment: 84209926_0001 (too short at 0.5 mins)\n",
      " - Segment: 84209926_0002 (too short at 0.2 mins)\n",
      " - Segment: 84209926_0003 (too short at 0.0 mins)\n",
      " - Segment: 84209926_0004 (too short at 0.1 mins)\n",
      " - Segment: 84209926_0005 (too short at 0.1 mins)\n",
      " - Segment: 84209926_0006 (too short at 0.0 mins)\n",
      " - Segment: 84209926_0007 (too short at 0.9 mins)\n",
      " - Segment: 84209926_0008 (long enough, but missing signal(s))\n",
      " - Segment: 84209926_0009 (too short at 0.3 mins)\n",
      " - Segment: 84209926_0010 (too short at 1.3 mins)\n",
      " - Segment: 84209926_0011 (too short at 0.1 mins)\n",
      " - Segment: 84209926_0012 (too short at 0.0 mins)\n",
      " - Segment: 84209926_0013 (too short at 0.0 mins)\n",
      " - Segment: 84209926_0014 (too short at 0.1 mins)\n",
      " - Segment: 84209926_0015 (long enough, but missing signal(s))\n",
      " - Segment: 84209926_0016 (too short at 4.7 mins)\n",
      " - Segment: 84209926_0017 (long enough, but missing signal(s))\n",
      " - Segment: 84209926_0018 (met requirements)\n",
      "Record: waves/p166/p16645935/86666275/86666275 (reading data)\n",
      "   (missing signals)\n",
      "Record: waves/p166/p16662288/83394240/83394240 (reading data)\n",
      "   (missing signals)\n",
      "Record: waves/p166/p16683551/83349747/83349747 (reading data)\n",
      "   (missing signals)\n",
      "Record: waves/p167/p16709726/83959636/83959636 (reading data)\n",
      " - Segment: 83959636_0000 (too short at 0.0 mins)\n",
      " - Segment: 83959636_0001 (too short at 0.0 mins)\n",
      " - Segment: 83959636_0002 (too short at 0.1 mins)\n",
      " - Segment: 83959636_0003 (too short at 6.3 mins)\n",
      " - Segment: 83959636_0004 (too short at 1.1 mins)\n",
      " - Segment: 83959636_0005 (too short at 0.9 mins)\n",
      " - Segment: 83959636_0006 (too short at 3.1 mins)\n",
      " - Segment: 83959636_0007 (too short at 1.7 mins)\n",
      " - Segment: 83959636_0008 (too short at 0.1 mins)\n",
      " - Segment: 83959636_0009 (too short at 0.0 mins)\n",
      " - Segment: 83959636_0010 (met requirements)\n",
      "Record: waves/p167/p16715341/89989722/89989722 (reading data)\n",
      " - Segment: 89989722_0000 (too short at 0.0 mins)\n",
      " - Segment: 89989722_0001 (too short at 0.1 mins)\n"
     ]
    },
    {
     "name": "stdout",
     "output_type": "stream",
     "text": [
      " - Segment: 89989722_0002 (too short at 2.3 mins)\n",
      " - Segment: 89989722_0003 (too short at 2.0 mins)\n",
      " - Segment: 89989722_0004 (too short at 9.6 mins)\n",
      " - Segment: 89989722_0005 (too short at 0.9 mins)\n",
      " - Segment: 89989722_0006 (too short at 2.9 mins)\n",
      " - Segment: 89989722_0007 (too short at 0.3 mins)\n",
      " - Segment: 89989722_0008 (too short at 0.5 mins)\n",
      " - Segment: 89989722_0009 (too short at 6.1 mins)\n",
      " - Segment: 89989722_0010 (too short at 0.3 mins)\n",
      " - Segment: 89989722_0011 (too short at 0.6 mins)\n",
      " - Segment: 89989722_0012 (too short at 0.4 mins)\n",
      " - Segment: 89989722_0013 (too short at 4.2 mins)\n",
      " - Segment: 89989722_0014 (too short at 1.2 mins)\n",
      " - Segment: 89989722_0015 (too short at 3.0 mins)\n",
      " - Segment: 89989722_0016 (met requirements)\n",
      "Record: waves/p168/p16818396/89225487/89225487 (reading data)\n",
      " - Segment: 89225487_0000 (too short at 0.0 mins)\n",
      " - Segment: 89225487_0001 (too short at 0.1 mins)\n",
      " - Segment: 89225487_0002 (too short at 7.4 mins)\n",
      " - Segment: 89225487_0003 (too short at 0.1 mins)\n",
      " - Segment: 89225487_0004 (too short at 0.1 mins)\n",
      " - Segment: 89225487_0005 (too short at 0.4 mins)\n",
      " - Segment: 89225487_0006 (too short at 0.1 mins)\n",
      " - Segment: 89225487_0007 (met requirements)\n",
      "Record: waves/p168/p16820602/82493254/82493254 (reading data)\n",
      "   (missing signals)\n",
      "Record: waves/p168/p16846280/83877081/83877081 (reading data)\n",
      "   (missing signals)\n",
      "Record: waves/p168/p16848565/84917468/84917468 (reading data)\n",
      "   (missing signals)\n",
      "Record: waves/p169/p16949991/88967754/88967754 (reading data)\n",
      "   (missing signals)\n",
      "Record: waves/p169/p16955095/82284982/82284982 (reading data)\n",
      "   (missing signals)\n",
      "Record: waves/p169/p16971339/87311151/87311151 (reading data)\n",
      "   (missing signals)\n",
      "Record: waves/p170/p17032851/84391267/84391267 (reading data)\n",
      " - Segment: 84391267_0000 (too short at 0.0 mins)\n",
      " - Segment: 84391267_0001 (met requirements)\n",
      "Record: waves/p171/p17107892/83439223/83439223 (reading data)\n",
      "   (missing signals)\n",
      "Record: waves/p172/p17229504/80889556/80889556 (reading data)\n",
      " - Segment: 80889556_0000 (too short at 0.0 mins)\n",
      " - Segment: 80889556_0001 (too short at 0.6 mins)\n",
      " - Segment: 80889556_0002 (met requirements)\n",
      "Record: waves/p173/p17301721/85250558/85250558 (reading data)\n",
      " - Segment: 85250558_0000 (too short at 0.0 mins)\n",
      " - Segment: 85250558_0001 (too short at 6.1 mins)\n",
      " - Segment: 85250558_0002 (too short at 0.0 mins)\n",
      " - Segment: 85250558_0003 (too short at 0.1 mins)\n",
      " - Segment: 85250558_0004 (too short at 8.1 mins)\n",
      " - Segment: 85250558_0005 (too short at 0.1 mins)\n",
      " - Segment: 85250558_0006 (too short at 3.0 mins)\n",
      " - Segment: 85250558_0007 (too short at 4.5 mins)\n",
      " - Segment: 85250558_0008 (too short at 0.1 mins)\n",
      " - Segment: 85250558_0009 (too short at 0.4 mins)\n",
      " - Segment: 85250558_0010 (too short at 0.2 mins)\n",
      " - Segment: 85250558_0011 (met requirements)\n",
      "Record: waves/p173/p17325001/84567505/84567505 (reading data)\n",
      " - Segment: 84567505_0000 (too short at 0.0 mins)\n",
      " - Segment: 84567505_0001 (too short at 0.2 mins)\n",
      " - Segment: 84567505_0002 (too short at 0.1 mins)\n",
      " - Segment: 84567505_0003 (too short at 0.0 mins)\n",
      " - Segment: 84567505_0004 (too short at 0.4 mins)\n",
      " - Segment: 84567505_0005 (met requirements)\n",
      "Record: waves/p174/p17413562/88976763/88976763 (reading data)\n",
      "   (missing signals)\n",
      "Record: waves/p174/p17459141/80111237/80111237 (reading data)\n",
      "   (missing signals)\n",
      "Record: waves/p174/p17488284/84486962/84486962 (reading data)\n",
      " - Segment: 84486962_0000 (too short at 0.0 mins)\n",
      " - Segment: 84486962_0001 (too short at 3.6 mins)\n",
      " - Segment: 84486962_0002 (too short at 0.5 mins)\n",
      " - Segment: 84486962_0003 (too short at 0.2 mins)\n",
      " - Segment: 84486962_0004 (too short at 0.0 mins)\n",
      " - Segment: 84486962_0005 (too short at 0.1 mins)\n",
      " - Segment: 84486962_0006 (too short at 0.4 mins)\n",
      " - Segment: 84486962_0007 (too short at 0.3 mins)\n",
      " - Segment: 84486962_0008 (too short at 0.5 mins)\n",
      " - Segment: 84486962_0009 (long enough, but missing signal(s))\n",
      " - Segment: 84486962_0010 (long enough, but missing signal(s))\n",
      " - Segment: 84486962_0011 (long enough, but missing signal(s))\n",
      " - Segment: 84486962_0012 (long enough, but missing signal(s))\n",
      " - Segment: 84486962_0013 (long enough, but missing signal(s))\n",
      " - Segment: 84486962_0014 (long enough, but missing signal(s))\n",
      " - Segment: 84486962_0015 (too short at 0.1 mins)\n",
      " - Segment: 84486962_0016 (too short at 0.2 mins)\n",
      " - Segment: 84486962_0017 (long enough, but missing signal(s))\n",
      " - Segment: 84486962_0018 (long enough, but missing signal(s))\n",
      " - Segment: 84486962_0019 (long enough, but missing signal(s))\n",
      " - Segment: 84486962_0020 (long enough, but missing signal(s))\n",
      " - Segment: 84486962_0021 (long enough, but missing signal(s))\n",
      " - Segment: 84486962_0022 (too short at 0.2 mins)\n",
      " - Segment: 84486962_0023 (long enough, but missing signal(s))\n",
      " - Segment: 84486962_0024 (too short at 0.1 mins)\n",
      " - Segment: 84486962_0025 (long enough, but missing signal(s))\n",
      " - Segment: 84486962_0026 (long enough, but missing signal(s))\n",
      " - Segment: 84486962_0027 (long enough, but missing signal(s))\n",
      " - Segment: 84486962_0028 (too short at 0.1 mins)\n",
      " - Segment: 84486962_0029 (too short at 0.9 mins)\n",
      " - Segment: 84486962_0030 (long enough, but missing signal(s))\n",
      " - Segment: 84486962_0031 (long enough, but missing signal(s))\n",
      " - Segment: 84486962_0032 (long enough, but missing signal(s))\n",
      " - Segment: 84486962_0033 (long enough, but missing signal(s))\n",
      "Record: waves/p174/p17490822/85814172/85814172 (reading data)\n",
      " - Segment: 85814172_0000 (too short at 0.0 mins)\n",
      " - Segment: 85814172_0001 (too short at 2.1 mins)\n",
      " - Segment: 85814172_0002 (too short at 0.4 mins)\n",
      " - Segment: 85814172_0003 (long enough, but missing signal(s))\n",
      " - Segment: 85814172_0004 (long enough, but missing signal(s))\n",
      " - Segment: 85814172_0005 (too short at 0.4 mins)\n",
      " - Segment: 85814172_0006 (long enough, but missing signal(s))\n",
      " - Segment: 85814172_0007 (met requirements)\n",
      "Record: waves/p175/p17549883/88582885/88582885 (reading data)\n",
      "   (missing signals)\n",
      "Record: waves/p175/p17578102/83863589/83863589 (reading data)\n",
      "   (missing signals)\n",
      "Record: waves/p177/p17701063/88788921/88788921 (reading data)\n",
      "   (missing signals)\n",
      "Record: waves/p177/p17708869/84580526/84580526 (reading data)\n",
      "   (missing signals)\n",
      "Record: waves/p177/p17738824/88884866/88884866 (reading data)\n",
      " - Segment: 88884866_0000 (too short at 0.0 mins)\n",
      " - Segment: 88884866_0001 (too short at 9.6 mins)\n",
      " - Segment: 88884866_0002 (too short at 0.0 mins)\n",
      " - Segment: 88884866_0003 (too short at 0.1 mins)\n",
      " - Segment: 88884866_0004 (long enough, but missing signal(s))\n",
      " - Segment: 88884866_0005 (met requirements)\n",
      "Record: waves/p177/p17744715/80497954/80497954 (reading data)\n",
      " - Segment: 80497954_0000 (too short at 0.0 mins)\n",
      " - Segment: 80497954_0001 (too short at 0.5 mins)\n",
      " - Segment: 80497954_0002 (too short at 0.1 mins)\n",
      " - Segment: 80497954_0003 (too short at 0.0 mins)\n",
      " - Segment: 80497954_0004 (too short at 0.5 mins)\n",
      " - Segment: 80497954_0005 (too short at 0.1 mins)\n",
      " - Segment: 80497954_0006 (too short at 0.0 mins)\n",
      " - Segment: 80497954_0007 (too short at 0.3 mins)\n",
      " - Segment: 80497954_0008 (too short at 0.1 mins)\n",
      " - Segment: 80497954_0009 (too short at 0.0 mins)\n",
      " - Segment: 80497954_0010 (too short at 5.5 mins)\n",
      " - Segment: 80497954_0011 (too short at 0.1 mins)\n",
      " - Segment: 80497954_0012 (met requirements)\n",
      "Record: waves/p178/p17802132/86917206/86917206 (reading data)\n",
      "   (missing signals)\n",
      "Record: waves/p178/p17818849/84786832/84786832 (reading data)\n",
      "   (missing signals)\n",
      "Record: waves/p179/p17957832/80666640/80666640 (reading data)\n",
      " - Segment: 80666640_0000 (too short at 0.0 mins)\n",
      " - Segment: 80666640_0001 (too short at 3.2 mins)\n",
      " - Segment: 80666640_0002 (too short at 0.2 mins)\n",
      " - Segment: 80666640_0003 (too short at 0.0 mins)\n",
      " - Segment: 80666640_0004 (too short at 0.4 mins)\n",
      " - Segment: 80666640_0005 (too short at 0.1 mins)\n",
      " - Segment: 80666640_0006 (too short at 0.0 mins)\n",
      " - Segment: 80666640_0007 (too short at 1.5 mins)\n",
      " - Segment: 80666640_0008 (too short at 1.7 mins)\n",
      " - Segment: 80666640_0009 (too short at 0.1 mins)\n",
      " - Segment: 80666640_0010 (too short at 0.0 mins)\n",
      " - Segment: 80666640_0011 (too short at 0.1 mins)\n",
      " - Segment: 80666640_0012 (too short at 0.1 mins)\n",
      " - Segment: 80666640_0013 (too short at 1.5 mins)\n"
     ]
    },
    {
     "name": "stdout",
     "output_type": "stream",
     "text": [
      " - Segment: 80666640_0014 (met requirements)\n",
      "Record: waves/p179/p17973277/83801243/83801243 (reading data)\n",
      " - Segment: 83801243_0000 (too short at 0.0 mins)\n",
      " - Segment: 83801243_0001 (too short at 0.6 mins)\n",
      " - Segment: 83801243_0002 (too short at 0.2 mins)\n",
      " - Segment: 83801243_0003 (too short at 4.0 mins)\n",
      " - Segment: 83801243_0004 (too short at 0.1 mins)\n",
      " - Segment: 83801243_0005 (too short at 0.0 mins)\n",
      " - Segment: 83801243_0006 (too short at 0.9 mins)\n",
      " - Segment: 83801243_0007 (long enough, but missing signal(s))\n",
      " - Segment: 83801243_0008 (too short at 8.2 mins)\n",
      " - Segment: 83801243_0009 (long enough, but missing signal(s))\n",
      " - Segment: 83801243_0010 (long enough, but missing signal(s))\n",
      " - Segment: 83801243_0011 (too short at 0.8 mins)\n",
      " - Segment: 83801243_0012 (long enough, but missing signal(s))\n",
      " - Segment: 83801243_0013 (too short at 0.1 mins)\n",
      " - Segment: 83801243_0014 (long enough, but missing signal(s))\n",
      " - Segment: 83801243_0015 (too short at 0.1 mins)\n",
      " - Segment: 83801243_0016 (long enough, but missing signal(s))\n",
      " - Segment: 83801243_0017 (long enough, but missing signal(s))\n",
      " - Segment: 83801243_0018 (too short at 0.1 mins)\n",
      " - Segment: 83801243_0019 (long enough, but missing signal(s))\n",
      " - Segment: 83801243_0020 (too short at 0.1 mins)\n",
      " - Segment: 83801243_0021 (too short at 8.6 mins)\n",
      " - Segment: 83801243_0022 (too short at 0.1 mins)\n",
      " - Segment: 83801243_0023 (too short at 1.5 mins)\n",
      " - Segment: 83801243_0024 (too short at 0.1 mins)\n",
      " - Segment: 83801243_0025 (long enough, but missing signal(s))\n",
      " - Segment: 83801243_0026 (too short at 0.1 mins)\n",
      " - Segment: 83801243_0027 (long enough, but missing signal(s))\n",
      " - Segment: 83801243_0028 (too short at 0.1 mins)\n",
      " - Segment: 83801243_0029 (too short at 0.3 mins)\n",
      " - Segment: 83801243_0030 (too short at 5.7 mins)\n",
      " - Segment: 83801243_0031 (too short at 0.1 mins)\n",
      " - Segment: 83801243_0032 (too short at 1.4 mins)\n",
      " - Segment: 83801243_0033 (too short at 7.0 mins)\n",
      " - Segment: 83801243_0034 (too short at 0.1 mins)\n",
      " - Segment: 83801243_0035 (too short at 3.5 mins)\n",
      " - Segment: 83801243_0036 (too short at 5.1 mins)\n",
      " - Segment: 83801243_0037 (too short at 1.1 mins)\n",
      " - Segment: 83801243_0038 (too short at 2.3 mins)\n",
      " - Segment: 83801243_0039 (too short at 9.3 mins)\n",
      " - Segment: 83801243_0040 (too short at 7.3 mins)\n",
      " - Segment: 83801243_0041 (too short at 0.1 mins)\n",
      " - Segment: 83801243_0042 (too short at 5.0 mins)\n",
      " - Segment: 83801243_0043 (too short at 6.1 mins)\n",
      " - Segment: 83801243_0044 (too short at 0.1 mins)\n",
      " - Segment: 83801243_0045 (long enough, but missing signal(s))\n",
      " - Segment: 83801243_0046 (too short at 0.4 mins)\n",
      " - Segment: 83801243_0047 (too short at 0.5 mins)\n",
      " - Segment: 83801243_0048 (too short at 0.1 mins)\n",
      " - Segment: 83801243_0049 (too short at 0.3 mins)\n",
      " - Segment: 83801243_0050 (too short at 4.4 mins)\n",
      " - Segment: 83801243_0051 (long enough, but missing signal(s))\n",
      " - Segment: 83801243_0052 (too short at 0.1 mins)\n",
      " - Segment: 83801243_0053 (too short at 0.3 mins)\n",
      " - Segment: 83801243_0054 (long enough, but missing signal(s))\n",
      " - Segment: 83801243_0055 (too short at 0.1 mins)\n",
      " - Segment: 83801243_0056 (long enough, but missing signal(s))\n",
      " - Segment: 83801243_0057 (too short at 0.3 mins)\n",
      " - Segment: 83801243_0058 (long enough, but missing signal(s))\n",
      " - Segment: 83801243_0059 (too short at 0.1 mins)\n",
      " - Segment: 83801243_0060 (too short at 0.2 mins)\n",
      " - Segment: 83801243_0061 (too short at 0.1 mins)\n",
      " - Segment: 83801243_0062 (too short at 0.9 mins)\n",
      " - Segment: 83801243_0063 (long enough, but missing signal(s))\n",
      " - Segment: 83801243_0064 (too short at 0.3 mins)\n",
      "Record: waves/p180/p18011649/83973028/83973028 (reading data)\n",
      "   (missing signals)\n",
      "Record: waves/p180/p18034077/88626898/88626898 (reading data)\n",
      "   (missing signals)\n",
      "Record: waves/p180/p18080257/84939605/84939605 (reading data)\n",
      " - Segment: 84939605_0000 (too short at 0.0 mins)\n",
      " - Segment: 84939605_0001 (too short at 1.0 mins)\n",
      " - Segment: 84939605_0002 (too short at 0.7 mins)\n",
      " - Segment: 84939605_0003 (too short at 2.1 mins)\n",
      " - Segment: 84939605_0004 (met requirements)\n",
      "Record: waves/p181/p18109577/82141753/82141753 (reading data)\n",
      " - Segment: 82141753_0000 (too short at 0.0 mins)\n",
      " - Segment: 82141753_0001 (too short at 0.7 mins)\n",
      " - Segment: 82141753_0002 (too short at 0.2 mins)\n",
      " - Segment: 82141753_0003 (too short at 0.1 mins)\n",
      " - Segment: 82141753_0004 (too short at 0.2 mins)\n",
      " - Segment: 82141753_0005 (too short at 0.0 mins)\n",
      " - Segment: 82141753_0006 (too short at 0.0 mins)\n",
      " - Segment: 82141753_0007 (too short at 0.7 mins)\n",
      " - Segment: 82141753_0008 (too short at 3.0 mins)\n",
      " - Segment: 82141753_0009 (too short at 0.1 mins)\n",
      " - Segment: 82141753_0010 (too short at 5.0 mins)\n",
      " - Segment: 82141753_0011 (long enough, but missing signal(s))\n",
      " - Segment: 82141753_0012 (long enough, but missing signal(s))\n",
      " - Segment: 82141753_0013 (long enough, but missing signal(s))\n",
      " - Segment: 82141753_0014 (too short at 3.3 mins)\n",
      " - Segment: 82141753_0015 (long enough, but missing signal(s))\n",
      " - Segment: 82141753_0016 (long enough, but missing signal(s))\n",
      " - Segment: 82141753_0017 (too short at 0.3 mins)\n",
      " - Segment: 82141753_0018 (met requirements)\n",
      "Record: waves/p181/p18111015/86297093/86297093 (reading data)\n",
      "   (missing signals)\n",
      "Record: waves/p181/p18195790/89743206/89743206 (reading data)\n",
      "   (missing signals)\n",
      "Record: waves/p183/p18324626/86874920/86874920 (reading data)\n",
      " - Segment: 86874920_0000 (too short at 0.0 mins)\n",
      " - Segment: 86874920_0001 (too short at 0.1 mins)\n",
      " - Segment: 86874920_0002 (too short at 4.0 mins)\n",
      " - Segment: 86874920_0003 (too short at 0.4 mins)\n",
      " - Segment: 86874920_0004 (too short at 1.7 mins)\n",
      " - Segment: 86874920_0005 (too short at 0.1 mins)\n",
      " - Segment: 86874920_0006 (too short at 0.0 mins)\n",
      " - Segment: 86874920_0007 (too short at 0.3 mins)\n",
      " - Segment: 86874920_0008 (too short at 0.1 mins)\n",
      " - Segment: 86874920_0009 (too short at 0.0 mins)\n",
      " - Segment: 86874920_0010 (too short at 0.2 mins)\n",
      " - Segment: 86874920_0011 (too short at 1.2 mins)\n",
      " - Segment: 86874920_0012 (long enough, but missing signal(s))\n",
      " - Segment: 86874920_0013 (too short at 0.9 mins)\n",
      " - Segment: 86874920_0014 (met requirements)\n",
      "Record: waves/p184/p18423403/84261835/84261835 (reading data)\n",
      "   (missing signals)\n",
      "Record: waves/p184/p18455165/85888407/85888407 (reading data)\n",
      "   (missing signals)\n",
      "Record: waves/p184/p18466737/89821554/89821554 (reading data)\n",
      "   (missing signals)\n",
      "Record: waves/p185/p18573443/85263057/85263057 (reading data)\n",
      "   (missing signals)\n",
      "Record: waves/p186/p18667552/81139702/81139702 (reading data)\n",
      "   (missing signals)\n",
      "Record: waves/p187/p18700695/81937383/81937383 (reading data)\n",
      " - Segment: 81937383_0000 (too short at 0.0 mins)\n",
      " - Segment: 81937383_0001 (long enough, but missing signal(s))\n",
      " - Segment: 81937383_0002 (too short at 0.3 mins)\n",
      " - Segment: 81937383_0003 (too short at 3.0 mins)\n",
      " - Segment: 81937383_0004 (too short at 0.8 mins)\n",
      " - Segment: 81937383_0005 (too short at 6.3 mins)\n",
      " - Segment: 81937383_0006 (too short at 0.2 mins)\n",
      " - Segment: 81937383_0007 (too short at 0.5 mins)\n",
      " - Segment: 81937383_0008 (too short at 1.6 mins)\n",
      " - Segment: 81937383_0009 (too short at 0.3 mins)\n",
      " - Segment: 81937383_0010 (too short at 6.3 mins)\n",
      " - Segment: 81937383_0011 (too short at 0.2 mins)\n",
      " - Segment: 81937383_0012 (too short at 0.3 mins)\n",
      " - Segment: 81937383_0013 (long enough, but missing signal(s))\n",
      " - Segment: 81937383_0014 (too short at 1.2 mins)\n",
      " - Segment: 81937383_0015 (long enough, but missing signal(s))\n",
      " - Segment: 81937383_0016 (too short at 2.5 mins)\n",
      " - Segment: 81937383_0017 (too short at 0.1 mins)\n",
      " - Segment: 81937383_0018 (too short at 0.6 mins)\n",
      " - Segment: 81937383_0019 (too short at 1.5 mins)\n",
      " - Segment: 81937383_0020 (too short at 1.6 mins)\n",
      " - Segment: 81937383_0021 (long enough, but missing signal(s))\n",
      " - Segment: 81937383_0022 (too short at 5.5 mins)\n",
      " - Segment: 81937383_0023 (long enough, but missing signal(s))\n",
      " - Segment: 81937383_0024 (too short at 0.1 mins)\n",
      " - Segment: 81937383_0025 (long enough, but missing signal(s))\n",
      " - Segment: 81937383_0026 (too short at 0.2 mins)\n",
      " - Segment: 81937383_0027 (long enough, but missing signal(s))\n",
      " - Segment: 81937383_0028 (long enough, but missing signal(s))\n",
      " - Segment: 81937383_0029 (long enough, but missing signal(s))\n"
     ]
    },
    {
     "name": "stdout",
     "output_type": "stream",
     "text": [
      " - Segment: 81937383_0030 (too short at 1.5 mins)\n",
      " - Segment: 81937383_0031 (too short at 1.0 mins)\n",
      " - Segment: 81937383_0032 (too short at 4.9 mins)\n",
      " - Segment: 81937383_0033 (too short at 0.6 mins)\n",
      " - Segment: 81937383_0034 (too short at 3.1 mins)\n",
      " - Segment: 81937383_0035 (too short at 0.5 mins)\n",
      " - Segment: 81937383_0036 (long enough, but missing signal(s))\n",
      " - Segment: 81937383_0037 (too short at 0.1 mins)\n",
      " - Segment: 81937383_0038 (long enough, but missing signal(s))\n",
      " - Segment: 81937383_0039 (long enough, but missing signal(s))\n",
      " - Segment: 81937383_0040 (too short at 0.6 mins)\n",
      " - Segment: 81937383_0041 (too short at 6.7 mins)\n",
      " - Segment: 81937383_0042 (too short at 0.3 mins)\n",
      " - Segment: 81937383_0043 (long enough, but missing signal(s))\n",
      " - Segment: 81937383_0044 (too short at 0.3 mins)\n",
      " - Segment: 81937383_0045 (long enough, but missing signal(s))\n",
      " - Segment: 81937383_0046 (long enough, but missing signal(s))\n",
      " - Segment: 81937383_0047 (too short at 0.1 mins)\n",
      " - Segment: 81937383_0048 (long enough, but missing signal(s))\n",
      " - Segment: 81937383_0049 (too short at 0.2 mins)\n",
      " - Segment: 81937383_0050 (long enough, but missing signal(s))\n",
      " - Segment: 81937383_0051 (too short at 0.1 mins)\n",
      " - Segment: 81937383_0052 (long enough, but missing signal(s))\n",
      " - Segment: 81937383_0053 (too short at 4.4 mins)\n",
      "Record: waves/p187/p18709273/88457020/88457020 (reading data)\n",
      "   (missing signals)\n",
      "Record: waves/p187/p18742074/84505262/84505262 (reading data)\n",
      " - Segment: 84505262_0000 (too short at 0.0 mins)\n",
      " - Segment: 84505262_0001 (too short at 0.1 mins)\n",
      " - Segment: 84505262_0002 (too short at 0.1 mins)\n",
      " - Segment: 84505262_0003 (too short at 0.1 mins)\n",
      " - Segment: 84505262_0004 (too short at 0.0 mins)\n",
      " - Segment: 84505262_0005 (too short at 0.1 mins)\n",
      " - Segment: 84505262_0006 (too short at 0.1 mins)\n",
      " - Segment: 84505262_0007 (too short at 0.0 mins)\n",
      " - Segment: 84505262_0008 (too short at 0.1 mins)\n",
      " - Segment: 84505262_0009 (too short at 1.4 mins)\n",
      " - Segment: 84505262_0010 (met requirements)\n",
      "Record: waves/p187/p18768904/82650643/82650643 (reading data)\n",
      "   (missing signals)\n",
      "Record: waves/p187/p18790258/85940419/85940419 (reading data)\n",
      "   (missing signals)\n",
      "Record: waves/p187/p18790977/87554500/87554500 (reading data)\n",
      "   (missing signals)\n",
      "Record: waves/p188/p18824975/86288257/86288257 (reading data)\n",
      " - Segment: 86288257_0000 (too short at 0.0 mins)\n",
      " - Segment: 86288257_0001 (met requirements)\n",
      "Record: waves/p188/p18881392/85145725/85145725 (reading data)\n",
      "   (missing signals)\n",
      "Record: waves/p189/p18981843/86164656/86164656 (reading data)\n",
      "   (missing signals)\n",
      "Record: waves/p190/p19052042/84601191/84601191 (reading data)\n",
      "   (missing signals)\n",
      "Record: waves/p191/p19126489/89699401/89699401 (reading data)\n",
      " - Segment: 89699401_0000 (too short at 0.0 mins)\n",
      " - Segment: 89699401_0001 (met requirements)\n",
      "Record: waves/p192/p19290410/81362381/81362381 (reading data)\n",
      "   (missing signals)\n",
      "Record: waves/p193/p19305085/87468061/87468061 (reading data)\n",
      "   (missing signals)\n",
      "Record: waves/p193/p19313794/88537698/88537698 (reading data)\n",
      " - Segment: 88537698_0000 (too short at 0.0 mins)\n",
      " - Segment: 88537698_0001 (too short at 0.6 mins)\n",
      " - Segment: 88537698_0002 (too short at 0.2 mins)\n",
      " - Segment: 88537698_0003 (too short at 0.1 mins)\n",
      " - Segment: 88537698_0004 (too short at 0.5 mins)\n",
      " - Segment: 88537698_0005 (too short at 0.1 mins)\n",
      " - Segment: 88537698_0006 (too short at 0.0 mins)\n",
      " - Segment: 88537698_0007 (too short at 0.1 mins)\n",
      " - Segment: 88537698_0008 (too short at 5.0 mins)\n",
      " - Segment: 88537698_0009 (too short at 0.8 mins)\n",
      " - Segment: 88537698_0010 (too short at 0.3 mins)\n",
      " - Segment: 88537698_0011 (long enough, but missing signal(s))\n",
      " - Segment: 88537698_0012 (too short at 6.7 mins)\n",
      " - Segment: 88537698_0013 (met requirements)\n",
      "Record: waves/p193/p19396598/82093805/82093805 (reading data)\n",
      "   (missing signals)\n",
      "Record: waves/p194/p19477300/86239129/86239129 (reading data)\n",
      "   (missing signals)\n",
      "Record: waves/p194/p19498855/81594095/81594095 (reading data)\n",
      "   (missing signals)\n",
      "Record: waves/p195/p19504755/85059986/85059986 (reading data)\n",
      "   (missing signals)\n",
      "Record: waves/p196/p19619764/83958172/83958172 (reading data)\n",
      " - Segment: 83958172_0000 (too short at 0.0 mins)\n",
      " - Segment: 83958172_0001 (met requirements)\n",
      "Record: waves/p196/p19646228/87340466/87340466 (reading data)\n",
      "   (missing signals)\n",
      "Record: waves/p196/p19664876/86315854/86315854 (reading data)\n",
      "   (missing signals)\n",
      "Record: waves/p197/p19706392/89657546/89657546 (reading data)\n",
      "   (missing signals)\n",
      "Record: waves/p197/p19772551/83530581/83530581 (reading data)\n",
      "   (missing signals)\n",
      "Record: waves/p199/p19918916/89922194/89922194 (reading data)\n",
      "   (missing signals)\n",
      "Record: waves/p199/p19979360/89865959/89865959 (reading data)\n",
      "   (missing signals)\n",
      "Record: waves/p199/p19994379/87407093/87407093 (reading data)\n",
      "   (missing signals)\n",
      "A total of 52 records met the requirements:\n"
     ]
    }
   ],
   "source": [
    "matching_recs = {'dir':[], 'seg_name':[], 'length':[]}\n",
    "\n",
    "for record in records:\n",
    "    print('Record: {}'.format(record), end=\"\", flush=True)\n",
    "    record_dir = f'{database_name}/{record.parent}'\n",
    "    record_name = record.name\n",
    "    print(' (reading data)')\n",
    "    record_data = wfdb.rdheader(record_name,\n",
    "                                pn_dir=record_dir,\n",
    "                                rd_segments=True)\n",
    "\n",
    "    # Check whether the required signals are present in the record\n",
    "    sigs_present = record_data.sig_name\n",
    "    if not all(x in sigs_present for x in required_sigs):\n",
    "        print('   (missing signals)')\n",
    "        continue\n",
    "\n",
    "    # Get the segments for the record\n",
    "    segments = record_data.seg_name\n",
    "\n",
    "    # Check to see if the segment is 10 min long\n",
    "    # If not, move to the next one\n",
    "    gen = (segment for segment in segments if segment != '~')\n",
    "    for segment in gen:\n",
    "        print(' - Segment: {}'.format(segment), end=\"\", flush=True)\n",
    "        segment_metadata = wfdb.rdheader(record_name=segment,\n",
    "                                         pn_dir=record_dir)\n",
    "        seg_length = segment_metadata.sig_len/(segment_metadata.fs)\n",
    "\n",
    "        if seg_length < req_seg_duration:\n",
    "            print(f' (too short at {seg_length/60:.1f} mins)')\n",
    "            continue\n",
    "\n",
    "        # Next check that all required signals are present in the segment\n",
    "        sigs_present = segment_metadata.sig_name\n",
    "        \n",
    "        if all(x in sigs_present for x in required_sigs):\n",
    "            matching_recs['dir'].append(record_dir)\n",
    "            matching_recs['seg_name'].append(segment)\n",
    "            matching_recs['length'].append(seg_length)\n",
    "            print(' (met requirements)')\n",
    "            # Since we only need one segment per record break out of loop\n",
    "            break\n",
    "        else:\n",
    "            print(' (long enough, but missing signal(s))')\n",
    "\n",
    "print(f\"A total of {len(matching_recs['dir'])} records met the requirements:\")\n",
    "\n",
    "#df_matching_recs = pd.DataFrame(data=matching_recs)\n",
    "#df_matching_recs.to_csv('matching_records.csv', index=False)\n",
    "#p=1"
   ]
  },
  {
   "cell_type": "code",
   "execution_count": 24,
   "id": "75ec15f4",
   "metadata": {
    "colab": {
     "base_uri": "https://localhost:8080/"
    },
    "id": "75ec15f4",
    "outputId": "3ea832cd-4a4b-4265-bc2b-275d0f6c1802"
   },
   "outputs": [
    {
     "name": "stdout",
     "output_type": "stream",
     "text": [
      "A total of 52 out of 200 records met the requirements.\n",
      "\n",
      "The relevant segment names are:\n",
      " - 83404654_0005\n",
      " - 82924339_0007\n",
      " - 84248019_0005\n",
      " - 82439920_0004\n",
      " - 82800131_0002\n",
      " - 84304393_0001\n",
      " - 89464742_0001\n",
      " - 88958796_0004\n",
      " - 88995377_0001\n",
      " - 85230771_0004\n",
      " - 86643930_0004\n",
      " - 81250824_0005\n",
      " - 87706224_0003\n",
      " - 83058614_0005\n",
      " - 82803505_0017\n",
      " - 88574629_0001\n",
      " - 87867111_0012\n",
      " - 84560969_0001\n",
      " - 87562386_0001\n",
      " - 88685937_0001\n",
      " - 86120311_0001\n",
      " - 89866183_0014\n",
      " - 89068160_0002\n",
      " - 86380383_0001\n",
      " - 85078610_0008\n",
      " - 87702634_0007\n",
      " - 84686667_0002\n",
      " - 84802706_0002\n",
      " - 81811182_0004\n",
      " - 84421559_0005\n",
      " - 88221516_0007\n",
      " - 80057524_0005\n",
      " - 84209926_0018\n",
      " - 83959636_0010\n",
      " - 89989722_0016\n",
      " - 89225487_0007\n",
      " - 84391267_0001\n",
      " - 80889556_0002\n",
      " - 85250558_0011\n",
      " - 84567505_0005\n",
      " - 85814172_0007\n",
      " - 88884866_0005\n",
      " - 80497954_0012\n",
      " - 80666640_0014\n",
      " - 84939605_0004\n",
      " - 82141753_0018\n",
      " - 86874920_0014\n",
      " - 84505262_0010\n",
      " - 86288257_0001\n",
      " - 89699401_0001\n",
      " - 88537698_0013\n",
      " - 83958172_0001\n",
      "\n",
      "The corresponding directories are: \n",
      " - mimic4wdb/0.1.0/waves/p100/p10020306/83404654\n",
      " - mimic4wdb/0.1.0/waves/p101/p10126957/82924339\n",
      " - mimic4wdb/0.1.0/waves/p102/p10209410/84248019\n",
      " - mimic4wdb/0.1.0/waves/p109/p10952189/82439920\n",
      " - mimic4wdb/0.1.0/waves/p111/p11109975/82800131\n",
      " - mimic4wdb/0.1.0/waves/p113/p11392990/84304393\n",
      " - mimic4wdb/0.1.0/waves/p121/p12168037/89464742\n",
      " - mimic4wdb/0.1.0/waves/p121/p12173569/88958796\n",
      " - mimic4wdb/0.1.0/waves/p121/p12188288/88995377\n",
      " - mimic4wdb/0.1.0/waves/p128/p12872596/85230771\n",
      " - mimic4wdb/0.1.0/waves/p129/p12933208/86643930\n",
      " - mimic4wdb/0.1.0/waves/p130/p13016481/81250824\n",
      " - mimic4wdb/0.1.0/waves/p132/p13240081/87706224\n",
      " - mimic4wdb/0.1.0/waves/p136/p13624686/83058614\n",
      " - mimic4wdb/0.1.0/waves/p137/p13791821/82803505\n",
      " - mimic4wdb/0.1.0/waves/p141/p14191565/88574629\n",
      " - mimic4wdb/0.1.0/waves/p142/p14285792/87867111\n",
      " - mimic4wdb/0.1.0/waves/p143/p14356077/84560969\n",
      " - mimic4wdb/0.1.0/waves/p143/p14363499/87562386\n",
      " - mimic4wdb/0.1.0/waves/p146/p14695840/88685937\n",
      " - mimic4wdb/0.1.0/waves/p149/p14931547/86120311\n",
      " - mimic4wdb/0.1.0/waves/p151/p15174162/89866183\n",
      " - mimic4wdb/0.1.0/waves/p153/p15312343/89068160\n",
      " - mimic4wdb/0.1.0/waves/p153/p15342703/86380383\n",
      " - mimic4wdb/0.1.0/waves/p155/p15552902/85078610\n",
      " - mimic4wdb/0.1.0/waves/p156/p15649186/87702634\n",
      " - mimic4wdb/0.1.0/waves/p158/p15857793/84686667\n",
      " - mimic4wdb/0.1.0/waves/p158/p15865327/84802706\n",
      " - mimic4wdb/0.1.0/waves/p158/p15896656/81811182\n",
      " - mimic4wdb/0.1.0/waves/p159/p15920699/84421559\n",
      " - mimic4wdb/0.1.0/waves/p160/p16034243/88221516\n",
      " - mimic4wdb/0.1.0/waves/p165/p16566444/80057524\n",
      " - mimic4wdb/0.1.0/waves/p166/p16644640/84209926\n",
      " - mimic4wdb/0.1.0/waves/p167/p16709726/83959636\n",
      " - mimic4wdb/0.1.0/waves/p167/p16715341/89989722\n",
      " - mimic4wdb/0.1.0/waves/p168/p16818396/89225487\n",
      " - mimic4wdb/0.1.0/waves/p170/p17032851/84391267\n",
      " - mimic4wdb/0.1.0/waves/p172/p17229504/80889556\n",
      " - mimic4wdb/0.1.0/waves/p173/p17301721/85250558\n",
      " - mimic4wdb/0.1.0/waves/p173/p17325001/84567505\n",
      " - mimic4wdb/0.1.0/waves/p174/p17490822/85814172\n",
      " - mimic4wdb/0.1.0/waves/p177/p17738824/88884866\n",
      " - mimic4wdb/0.1.0/waves/p177/p17744715/80497954\n",
      " - mimic4wdb/0.1.0/waves/p179/p17957832/80666640\n",
      " - mimic4wdb/0.1.0/waves/p180/p18080257/84939605\n",
      " - mimic4wdb/0.1.0/waves/p181/p18109577/82141753\n",
      " - mimic4wdb/0.1.0/waves/p183/p18324626/86874920\n",
      " - mimic4wdb/0.1.0/waves/p187/p18742074/84505262\n",
      " - mimic4wdb/0.1.0/waves/p188/p18824975/86288257\n",
      " - mimic4wdb/0.1.0/waves/p191/p19126489/89699401\n",
      " - mimic4wdb/0.1.0/waves/p193/p19313794/88537698\n",
      " - mimic4wdb/0.1.0/waves/p196/p19619764/83958172\n"
     ]
    }
   ],
   "source": [
    "print(f\"A total of {len(matching_recs['dir'])} out of {len(records)} records met the requirements.\")\n",
    "\n",
    "relevant_segments_names = \"\\n - \".join(matching_recs['seg_name'])\n",
    "print(f\"\\nThe relevant segment names are:\\n - {relevant_segments_names}\")\n",
    "\n",
    "relevant_dirs = \"\\n - \".join(matching_recs['dir'])\n",
    "print(f\"\\nThe corresponding directories are: \\n - {relevant_dirs}\")"
   ]
  },
  {
   "cell_type": "markdown",
   "id": "719f20f8",
   "metadata": {
    "id": "719f20f8"
   },
   "source": [
    "<div class=\"alert alert-block alert-info\">\n",
    "<p><b>Question:</b> Is this enough data for a study? Consider different types of studies, e.g. assessing the performance of a previously proposed algorithm to estimate BP from the PPG signal, vs. developing a deep learning approach to estimate BP from the PPG.</p>\n",
    "</div>"
   ]
  },
  {
   "cell_type": "markdown",
   "id": "cfbd9837",
   "metadata": {
    "id": "6fccda20"
   },
   "source": [
    "## Extract data for a segment"
   ]
  },
  {
   "cell_type": "markdown",
   "id": "23048b80",
   "metadata": {},
   "source": [
    "- Provide a list of segments which meet the requirements for the study"
   ]
  },
  {
   "cell_type": "code",
   "execution_count": 25,
   "id": "8fed5590",
   "metadata": {},
   "outputs": [],
   "source": [
    "segment_names = ['83404654_0005', '82924339_0007']\n",
    "segment_dirs = ['mimic4wdb/0.1.0/waves/p100/p10020306/83404654',\n",
    "                'mimic4wdb/0.1.0/waves/p101/p10126957/82924339']"
   ]
  },
  {
   "cell_type": "markdown",
   "id": "fbc272be",
   "metadata": {},
   "source": [
    "- Specify a segment from which to extract data"
   ]
  },
  {
   "cell_type": "code",
   "execution_count": 26,
   "id": "404505b2",
   "metadata": {},
   "outputs": [
    {
     "name": "stdout",
     "output_type": "stream",
     "text": [
      "Specified segment '83404654_0005' in directory: 'mimic4wdb/0.1.0/waves/p100/p10020306/83404654'\n"
     ]
    }
   ],
   "source": [
    "rel_segment_no = 0\n",
    "rel_segment_name = segment_names[rel_segment_no]\n",
    "rel_segment_dir = segment_dirs[rel_segment_no]\n",
    "print(f\"Specified segment '{rel_segment_name}' in directory: '{rel_segment_dir}'\")"
   ]
  },
  {
   "cell_type": "markdown",
   "id": "6f989fcf",
   "metadata": {},
   "source": [
    "<div class=\"alert alert-block alert-info\">\n",
    "<p><b>Extension:</b> Have a look at the files which make up this record <a href=\"https://physionet.org/content/mimic4wdb/0.1.0/waves/p100/p10020306/\">here</a> (NB: you will need to scroll to the bottom of the page).</p>\n",
    "</div>"
   ]
  },
  {
   "cell_type": "markdown",
   "id": "f2d5beb9",
   "metadata": {},
   "source": [
    "- Use the [`rdrecord`](https://wfdb.readthedocs.io/en/latest/io.html#wfdb.io.rdrecord) function from the WFDB toolbox to read the data for this segment."
   ]
  },
  {
   "cell_type": "code",
   "execution_count": 28,
   "id": "f9ec70d5",
   "metadata": {},
   "outputs": [
    {
     "name": "stdout",
     "output_type": "stream",
     "text": [
      "Data loaded from segment: 83404654_0005\n"
     ]
    }
   ],
   "source": [
    "segment_data = wfdb.rdrecord(record_name=rel_segment_name, pn_dir=rel_segment_dir) \n",
    "print(f\"Data loaded from segment: {rel_segment_name}\")"
   ]
  },
  {
   "cell_type": "markdown",
   "id": "51b04c34",
   "metadata": {},
   "source": [
    "- Look at class type of the object in which the data are stored:"
   ]
  },
  {
   "cell_type": "code",
   "execution_count": 29,
   "id": "82bfd5f3",
   "metadata": {},
   "outputs": [
    {
     "name": "stdout",
     "output_type": "stream",
     "text": [
      "Data stored in class of type: <class 'wfdb.io.record.Record'>\n"
     ]
    }
   ],
   "source": [
    "print(f\"Data stored in class of type: {type(segment_data)}\")"
   ]
  },
  {
   "cell_type": "markdown",
   "id": "8bf8327f",
   "metadata": {},
   "source": [
    "<div class=\"alert alert-block alert-warning\">\n",
    "<p><b>Resource:</b> You can find out more about the class representing single segment WFDB records <a href=\"https://wfdb.readthedocs.io/en/stable/io.html?highlight=class#wfdb.io.Record\">here</a>.</p>\n",
    "</div>"
   ]
  },
  {
   "cell_type": "markdown",
   "id": "cad8b9d6",
   "metadata": {},
   "source": [
    "- Find out about the signals which have been extracted"
   ]
  },
  {
   "cell_type": "code",
   "execution_count": 30,
   "id": "02a17c50",
   "metadata": {},
   "outputs": [
    {
     "name": "stdout",
     "output_type": "stream",
     "text": [
      "This segment contains waveform data for the following 6 signals: ['II', 'V', 'aVR', 'ABP', 'Pleth', 'Resp']\n",
      "The signals are sampled at a base rate of 62.4725 Hz (and some are sampled at multiples of this)\n",
      "They last for 52.4 minutes\n"
     ]
    }
   ],
   "source": [
    "print(f\"This segment contains waveform data for the following {segment_data.n_sig} signals: {segment_data.sig_name}\")\n",
    "print(f\"The signals are sampled at a base rate of {segment_data.fs} Hz (and some are sampled at multiples of this)\")\n",
    "print(f\"They last for {segment_data.sig_len/(60*segment_data.fs):.1f} minutes\")"
   ]
  },
  {
   "cell_type": "markdown",
   "id": "a4c61554",
   "metadata": {},
   "source": [
    "<div class=\"alert alert-block alert-info\">\n",
    "<p><b>Question:</b> Can you find out which signals are sampled at multiples of the base sampling frequency by looking at the following contents of the 'segment_data' variable?</p>\n",
    "</div>"
   ]
  },
  {
   "cell_type": "code",
   "execution_count": 31,
   "id": "6b10775d",
   "metadata": {},
   "outputs": [
    {
     "name": "stdout",
     "output_type": "stream",
     "text": [
      "{'adc_gain': [200.0, 200.0, 200.0, 16.0, 4096.0, 4093.0],\n",
      " 'adc_res': [14, 14, 14, 13, 12, 12],\n",
      " 'adc_zero': [8192, 8192, 8192, 4096, 2048, 2048],\n",
      " 'base_counter': 10219520.0,\n",
      " 'base_date': None,\n",
      " 'base_time': None,\n",
      " 'baseline': [8192, 8192, 8192, 800, 0, 2],\n",
      " 'block_size': [0, 0, 0, 0, 0, 0],\n",
      " 'byte_offset': [None, None, None, None, None, None],\n",
      " 'checksum': [10167, 1300, 56956, 35887, 29987, 21750],\n",
      " 'comments': ['signal 0 (II): channel=0 bandpass=[0.5,35]',\n",
      "              'signal 1 (V): channel=1 bandpass=[0.5,35]',\n",
      "              'signal 2 (aVR): channel=2 bandpass=[0.5,35]'],\n",
      " 'counter_freq': 999.56,\n",
      " 'd_signal': None,\n",
      " 'e_d_signal': None,\n",
      " 'e_p_signal': None,\n",
      " 'file_name': ['83404654_0005e.dat',\n",
      "               '83404654_0005e.dat',\n",
      "               '83404654_0005e.dat',\n",
      "               '83404654_0005p.dat',\n",
      "               '83404654_0005p.dat',\n",
      "               '83404654_0005r.dat'],\n",
      " 'fmt': ['516', '516', '516', '516', '516', '516'],\n",
      " 'fs': 62.4725,\n",
      " 'init_value': [0, 0, 0, 0, 0, 0],\n",
      " 'n_sig': 6,\n",
      " 'p_signal': array([[ 0.00000000e+00, -6.50000000e-02, -5.00000000e-03,\n",
      "                    nan,  5.02929688e-01,  1.56120205e-01],\n",
      "       [ 5.00000000e-03, -4.50000000e-02, -5.00000000e-03,\n",
      "                    nan,  5.02929688e-01,  1.56853164e-01],\n",
      "       [ 1.50000000e-02, -2.50000000e-02,  5.00000000e-03,\n",
      "                    nan,  5.02929688e-01,  1.57097484e-01],\n",
      "       ...,\n",
      "       [-1.50000000e-02,  7.00000000e-02, -4.00000000e-02,\n",
      "         7.25000000e+01,  5.74951172e-01,  3.57683850e-01],\n",
      "       [-1.50000000e-02,  5.50000000e-02, -4.50000000e-02,\n",
      "         7.25000000e+01,  5.70800781e-01,  3.61104324e-01],\n",
      "       [ 0.00000000e+00,  9.00000000e-02, -5.50000000e-02,\n",
      "         7.25000000e+01,  5.62255859e-01,  3.63791840e-01]]),\n",
      " 'record_name': '83404654_0005',\n",
      " 'samps_per_frame': [4, 4, 4, 2, 2, 1],\n",
      " 'sig_len': 196480,\n",
      " 'sig_name': ['II', 'V', 'aVR', 'ABP', 'Pleth', 'Resp'],\n",
      " 'skew': [None, None, None, None, None, None],\n",
      " 'units': ['mV', 'mV', 'mV', 'mmHg', 'NU', 'Ohm']}\n"
     ]
    }
   ],
   "source": [
    "from pprint import pprint\n",
    "pprint(vars(segment_data))"
   ]
  },
  {
   "cell_type": "markdown",
   "id": "e0b448aa",
   "metadata": {},
   "source": [
    "## Visualise the signals"
   ]
  },
  {
   "cell_type": "markdown",
   "id": "b74ed4a9",
   "metadata": {},
   "source": [
    "### Select a segment"
   ]
  },
  {
   "cell_type": "markdown",
   "id": "278826ab",
   "metadata": {},
   "source": [
    "- Specify a segment from which to extract data"
   ]
  },
  {
   "cell_type": "code",
   "execution_count": 32,
   "id": "5807515f",
   "metadata": {},
   "outputs": [
    {
     "name": "stdout",
     "output_type": "stream",
     "text": [
      "Specified segment '82924339_0007' in directory: 'mimic4wdb/0.1.0/waves/p101/p10126957/82924339'\n"
     ]
    }
   ],
   "source": [
    "rel_segment_n = 1\n",
    "rel_segment_name = segment_names[rel_segment_n]\n",
    "rel_segment_dir = segment_dirs[rel_segment_n]\n",
    "print(f\"Specified segment '{rel_segment_name}' in directory: '{rel_segment_dir}'\")"
   ]
  },
  {
   "cell_type": "markdown",
   "id": "3a7d23b6",
   "metadata": {},
   "source": [
    "### Extract one minute of data from this segment"
   ]
  },
  {
   "cell_type": "markdown",
   "id": "c7b5622e",
   "metadata": {},
   "source": [
    "- Specify the timings of the data to be extracted"
   ]
  },
  {
   "cell_type": "code",
   "execution_count": 35,
   "id": "928be8d7",
   "metadata": {},
   "outputs": [],
   "source": [
    "# time since the start of the segment at which to begin extracting data\n",
    "start_seconds = 20\n",
    "n_seconds_to_load = 60"
   ]
  },
  {
   "cell_type": "markdown",
   "id": "7cf8a27b",
   "metadata": {},
   "source": [
    "- Find out the sampling frequency of the waveform data"
   ]
  },
  {
   "cell_type": "code",
   "execution_count": 37,
   "id": "40177f31",
   "metadata": {},
   "outputs": [
    {
     "name": "stdout",
     "output_type": "stream",
     "text": [
      "Metadata loaded from segment: 82924339_0007\n"
     ]
    }
   ],
   "source": [
    "segment_metadata = wfdb.rdheader(record_name=rel_segment_name,\n",
    "                                 pn_dir=rel_segment_dir)\n",
    "\n",
    "print(f\"Metadata loaded from segment: {rel_segment_name}\")\n",
    "fs = round(segment_metadata.fs)"
   ]
  },
  {
   "cell_type": "markdown",
   "id": "9771170e",
   "metadata": {},
   "source": [
    "- Extract the specified data"
   ]
  },
  {
   "cell_type": "code",
   "execution_count": 39,
   "id": "035a8598",
   "metadata": {},
   "outputs": [
    {
     "name": "stdout",
     "output_type": "stream",
     "text": [
      "60 seconds of data extracted from segment 82924339_0007\n"
     ]
    }
   ],
   "source": [
    "sampfrom = fs * start_seconds\n",
    "sampto = fs * (start_seconds + n_seconds_to_load)\n",
    "\n",
    "segment_data = wfdb.rdrecord(record_name=rel_segment_name,\n",
    "                             sampfrom=sampfrom,\n",
    "                             sampto=sampto,\n",
    "                             pn_dir=rel_segment_dir)\n",
    "\n",
    "print(f\"{n_seconds_to_load} seconds of data extracted from segment {rel_segment_name}\")"
   ]
  },
  {
   "cell_type": "markdown",
   "id": "25198a91",
   "metadata": {},
   "source": [
    "### Plot the extracted signals"
   ]
  },
  {
   "cell_type": "markdown",
   "id": "91c248fa",
   "metadata": {},
   "source": [
    "- Plot the extracted signals using the [plot_wfdb](https://wfdb.readthedocs.io/en/latest/plot.html#wfdb.plot.plot_wfdb) function from the WFDB Toolbox."
   ]
  },
  {
   "cell_type": "code",
   "execution_count": 40,
   "id": "86a6b071",
   "metadata": {},
   "outputs": [
    {
     "data": {
      "image/png": "[encoded data removed]",
      "text/plain": [
       "<Figure size 432x288 with 6 Axes>"
      ]
     },
     "metadata": {
      "needs_background": "light"
     },
     "output_type": "display_data"
    }
   ],
   "source": [
    "title_text = f\"Segment {rel_segment_name}\"\n",
    "wfdb.plot_wfdb(record=segment_data,\n",
    "               title=title_text,\n",
    "               time_units='seconds') "
   ]
  },
  {
   "cell_type": "markdown",
   "id": "e28e098b",
   "metadata": {},
   "source": [
    "- Extract the PPG signal to loook at it more closely"
   ]
  },
  {
   "cell_type": "code",
   "execution_count": 42,
   "id": "24263c2a",
   "metadata": {},
   "outputs": [
    {
     "name": "stdout",
     "output_type": "stream",
     "text": [
      "Extracted the PPG signal from column 4 of the matrix of waveform data.\n"
     ]
    }
   ],
   "source": [
    "for sig_no in range(0, len(segment_data.sig_name)):\n",
    "    if \"Pleth\" in segment_data.sig_name[sig_no]:\n",
    "        break\n",
    "\n",
    "ppg = segment_data.p_signal[:, sig_no]\n",
    "fs = segment_data.fs\n",
    "print(f\"Extracted the PPG signal from column {sig_no} of the matrix of waveform data.\")"
   ]
  },
  {
   "cell_type": "markdown",
   "id": "f0e3f259",
   "metadata": {},
   "source": [
    "<div class=\"alert alert-block alert-warning\"><p><b>Note:</b> the name given to PPG signals in the database is 'Pleth'.</p></div>"
   ]
  },
  {
   "cell_type": "markdown",
   "id": "6981b724",
   "metadata": {},
   "source": [
    "- Plot to look at the shape of the PPG pulse wave more closely"
   ]
  },
  {
   "cell_type": "code",
   "execution_count": 43,
   "id": "6fbd074a",
   "metadata": {},
   "outputs": [
    {
     "data": {
      "text/plain": [
       "(50.0, 55.0)"
      ]
     },
     "execution_count": 43,
     "metadata": {},
     "output_type": "execute_result"
    },
    {
     "data": {
      "image/png": "[encoded data removed]",
      "text/plain": [
       "<Figure size 432x288 with 1 Axes>"
      ]
     },
     "metadata": {
      "needs_background": "light"
     },
     "output_type": "display_data"
    }
   ],
   "source": [
    "from matplotlib import pyplot as plt\n",
    "import numpy as np\n",
    "\n",
    "t = np.arange(0, (len(ppg) / fs), 1.0 / fs)\n",
    "plt.plot(t, ppg, color = 'black', label='PPG')\n",
    "plt.xlim([50, 55])"
   ]
  },
  {
   "cell_type": "markdown",
   "id": "94dca660",
   "metadata": {},
   "source": [
    "### Compare this to pulse waves from the literature"
   ]
  },
  {
   "cell_type": "markdown",
   "id": "2255ee94",
   "metadata": {},
   "source": [
    "- Compare the pulse waves above to the different shapes of pulse waves shown here:"
   ]
  },
  {
   "cell_type": "markdown",
   "id": "ae3177b0",
   "metadata": {},
   "source": [
    "![PPG pulse waves](https://upload.wikimedia.org/wikipedia/commons/e/ed/Classes_of_photoplethysmogram_%28PPG%29_pulse_wave_shape.svg)"
   ]
  },
  {
   "cell_type": "markdown",
   "id": "3f9a16af",
   "metadata": {},
   "source": [
    "Source: _Charlton PH et al., 'Assessing hemodynamics from the photoplethysmogram to gain insights into vascular age: a review from VascAgeNet', https://doi.org/10.1152/ajpheart.00392.2021 (CC BY 4.0)_"
   ]
  },
  {
   "cell_type": "markdown",
   "id": "e5e21413",
   "metadata": {},
   "source": [
    "These pulse waves are the typical shapes for young (class 1) to old (class 4) subjects."
   ]
  },
  {
   "cell_type": "markdown",
   "id": "1f724c93",
   "metadata": {},
   "source": [
    "<div class=\"alert alert-block alert-info\"><p><b>Question:</b> How do these pulse waves compare to those extracted from the MIMIC Database? Which is most similar?</p></div>"
   ]
  },
  {
   "cell_type": "code",
   "execution_count": null,
   "id": "6136867d",
   "metadata": {},
   "outputs": [],
   "source": []
  }
 ],
 "metadata": {
  "colab": {
   "name": "data-exploration.ipynb",
   "provenance": []
  },
  "kernelspec": {
   "display_name": "Python 3",
   "language": "python",
   "name": "python3"
  },
  "language_info": {
   "codemirror_mode": {
    "name": "ipython",
    "version": 3
   },
   "file_extension": ".py",
   "mimetype": "text/x-python",
   "name": "python",
   "nbconvert_exporter": "python",
   "pygments_lexer": "ipython3",
   "version": "3.8.8"
  },
  "toc": {
   "base_numbering": 1,
   "nav_menu": {},
   "number_sections": true,
   "sideBar": true,
   "skip_h1_title": true,
   "title_cell": "Table of Contents",
   "title_sidebar": "Contents",
   "toc_cell": false,
   "toc_position": {
    "height": "calc(100% - 180px)",
    "left": "10px",
    "top": "150px",
    "width": "306px"
   },
   "toc_section_display": true,
   "toc_window_display": false
  }
 },
 "nbformat": 4,
 "nbformat_minor": 5
}
